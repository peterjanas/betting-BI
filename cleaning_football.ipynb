{
 "cells": [
  {
   "cell_type": "markdown",
   "id": "cefd7204",
   "metadata": {},
   "source": [
    "Imports"
   ]
  },
  {
   "cell_type": "code",
   "execution_count": 561,
   "id": "f1934723",
   "metadata": {},
   "outputs": [],
   "source": [
    "\n",
    "import pandas as pd\n",
    "import numpy as np\n",
    "\n",
    "import unidecode\n",
    "import re\n",
    "\n",
    "import seaborn as sns\n",
    "import matplotlib.pyplot as plt\n",
    "%matplotlib inline\n",
    "\n",
    "from sklearn.linear_model import LinearRegression\n",
    "import sklearn.metrics as sm\n",
    "from sklearn.metrics import r2_score\n",
    "\n",
    "#football_data.to_csv('cleaned_football_data.csv', index=False)"
   ]
  },
  {
   "cell_type": "markdown",
   "id": "69cf57af",
   "metadata": {},
   "source": [
    "Read data"
   ]
  },
  {
   "cell_type": "code",
   "execution_count": 562,
   "id": "5c540be7",
   "metadata": {},
   "outputs": [],
   "source": [
    "football_data = pd.read_csv('data/futebol.csv')\n"
   ]
  },
  {
   "cell_type": "code",
   "execution_count": 563,
   "id": "051ba7a8",
   "metadata": {},
   "outputs": [
    {
     "data": {
      "text/plain": [
       "(1564, 7)"
      ]
     },
     "execution_count": 563,
     "metadata": {},
     "output_type": "execute_result"
    }
   ],
   "source": [
    "football_data.shape"
   ]
  },
  {
   "cell_type": "code",
   "execution_count": 564,
   "id": "df01e365",
   "metadata": {},
   "outputs": [
    {
     "name": "stdout",
     "output_type": "stream",
     "text": [
      "<class 'pandas.core.frame.DataFrame'>\n",
      "RangeIndex: 1564 entries, 0 to 1563\n",
      "Data columns (total 7 columns):\n",
      " #   Column        Non-Null Count  Dtype  \n",
      "---  ------        --------------  -----  \n",
      " 0   Data          1564 non-null   object \n",
      " 1   Jogo          1564 non-null   object \n",
      " 2   Minutos       1473 non-null   object \n",
      " 3   Investimento  1564 non-null   int64  \n",
      " 4   Odd           1564 non-null   float64\n",
      " 5   Ganho         1564 non-null   float64\n",
      " 6   Resultado     1564 non-null   object \n",
      "dtypes: float64(2), int64(1), object(4)\n",
      "memory usage: 85.7+ KB\n"
     ]
    }
   ],
   "source": [
    "football_data.info()"
   ]
  },
  {
   "cell_type": "markdown",
   "id": "afd29b3d",
   "metadata": {},
   "source": [
    "Translate columms to english"
   ]
  },
  {
   "cell_type": "code",
   "execution_count": 565,
   "id": "0b5b307a",
   "metadata": {},
   "outputs": [],
   "source": [
    "football_data.rename(columns={\n",
    "    'Data': 'Date',\n",
    "    'Jogo': 'Match',\n",
    "    'Minutos': 'Bet Type',\n",
    "    'Investimento': 'Bet Amount',\n",
    "    'Odd': 'Odds',\n",
    "    'Ganho': 'Profit',\n",
    "    'Resultado': 'Win/Loss'\n",
    "}, inplace=True)"
   ]
  },
  {
   "cell_type": "code",
   "execution_count": 566,
   "id": "1ce419dd",
   "metadata": {},
   "outputs": [
    {
     "data": {
      "text/html": [
       "<div>\n",
       "<style scoped>\n",
       "    .dataframe tbody tr th:only-of-type {\n",
       "        vertical-align: middle;\n",
       "    }\n",
       "\n",
       "    .dataframe tbody tr th {\n",
       "        vertical-align: top;\n",
       "    }\n",
       "\n",
       "    .dataframe thead th {\n",
       "        text-align: right;\n",
       "    }\n",
       "</style>\n",
       "<table border=\"1\" class=\"dataframe\">\n",
       "  <thead>\n",
       "    <tr style=\"text-align: right;\">\n",
       "      <th></th>\n",
       "      <th>Date</th>\n",
       "      <th>Match</th>\n",
       "      <th>Bet Type</th>\n",
       "      <th>Bet Amount</th>\n",
       "      <th>Odds</th>\n",
       "      <th>Profit</th>\n",
       "      <th>Win/Loss</th>\n",
       "    </tr>\n",
       "  </thead>\n",
       "  <tbody>\n",
       "    <tr>\n",
       "      <th>144</th>\n",
       "      <td>2022-07-16</td>\n",
       "      <td>Orense x Macara</td>\n",
       "      <td>20 ao 30</td>\n",
       "      <td>10</td>\n",
       "      <td>1.61</td>\n",
       "      <td>6.10</td>\n",
       "      <td>Green</td>\n",
       "    </tr>\n",
       "    <tr>\n",
       "      <th>7</th>\n",
       "      <td>2022-07-01</td>\n",
       "      <td>Belgrano x Almagro</td>\n",
       "      <td>60 ao 70</td>\n",
       "      <td>5</td>\n",
       "      <td>1.53</td>\n",
       "      <td>2.65</td>\n",
       "      <td>Green</td>\n",
       "    </tr>\n",
       "    <tr>\n",
       "      <th>797</th>\n",
       "      <td>2022-08-27</td>\n",
       "      <td>Flu x Palmeiras</td>\n",
       "      <td>Gols</td>\n",
       "      <td>10</td>\n",
       "      <td>1.50</td>\n",
       "      <td>5.00</td>\n",
       "      <td>Red</td>\n",
       "    </tr>\n",
       "    <tr>\n",
       "      <th>475</th>\n",
       "      <td>2022-08-09</td>\n",
       "      <td>Suburbs x Gold Coast</td>\n",
       "      <td>NaN</td>\n",
       "      <td>10</td>\n",
       "      <td>1.61</td>\n",
       "      <td>6.10</td>\n",
       "      <td>Green</td>\n",
       "    </tr>\n",
       "    <tr>\n",
       "      <th>1290</th>\n",
       "      <td>2022-10-11</td>\n",
       "      <td>Guarani x CRB</td>\n",
       "      <td>00 a 10</td>\n",
       "      <td>10</td>\n",
       "      <td>1.53</td>\n",
       "      <td>5.30</td>\n",
       "      <td>Green</td>\n",
       "    </tr>\n",
       "    <tr>\n",
       "      <th>1303</th>\n",
       "      <td>2022-10-11</td>\n",
       "      <td>Copenhagen x City</td>\n",
       "      <td>20 a 30</td>\n",
       "      <td>10</td>\n",
       "      <td>1.57</td>\n",
       "      <td>5.70</td>\n",
       "      <td>Green</td>\n",
       "    </tr>\n",
       "    <tr>\n",
       "      <th>828</th>\n",
       "      <td>2022-08-31</td>\n",
       "      <td>Al-Arab Doha x Al Duhail</td>\n",
       "      <td>20 aos 30</td>\n",
       "      <td>10</td>\n",
       "      <td>1.62</td>\n",
       "      <td>6.20</td>\n",
       "      <td>Green</td>\n",
       "    </tr>\n",
       "    <tr>\n",
       "      <th>636</th>\n",
       "      <td>2022-08-20</td>\n",
       "      <td>Gijón x Andorra</td>\n",
       "      <td>20 ao 30</td>\n",
       "      <td>10</td>\n",
       "      <td>1.72</td>\n",
       "      <td>7.20</td>\n",
       "      <td>Green</td>\n",
       "    </tr>\n",
       "    <tr>\n",
       "      <th>104</th>\n",
       "      <td>2022-07-13</td>\n",
       "      <td>Belgrano x Estudiantes</td>\n",
       "      <td>10 ao 20</td>\n",
       "      <td>10</td>\n",
       "      <td>1.57</td>\n",
       "      <td>5.70</td>\n",
       "      <td>Green</td>\n",
       "    </tr>\n",
       "    <tr>\n",
       "      <th>57</th>\n",
       "      <td>2022-07-09</td>\n",
       "      <td>Dynamo x Borussia</td>\n",
       "      <td>10 ao 20</td>\n",
       "      <td>10</td>\n",
       "      <td>1.53</td>\n",
       "      <td>5.30</td>\n",
       "      <td>Green</td>\n",
       "    </tr>\n",
       "  </tbody>\n",
       "</table>\n",
       "</div>"
      ],
      "text/plain": [
       "            Date                     Match   Bet Type  Bet Amount  Odds  \\\n",
       "144   2022-07-16          Orense x Macara    20 ao 30          10  1.61   \n",
       "7     2022-07-01       Belgrano x Almagro    60 ao 70           5  1.53   \n",
       "797   2022-08-27           Flu x Palmeiras       Gols          10  1.50   \n",
       "475   2022-08-09      Suburbs x Gold Coast        NaN          10  1.61   \n",
       "1290  2022-10-11             Guarani x CRB    00 a 10          10  1.53   \n",
       "1303  2022-10-11         Copenhagen x City    20 a 30          10  1.57   \n",
       "828   2022-08-31  Al-Arab Doha x Al Duhail  20 aos 30          10  1.62   \n",
       "636   2022-08-20           Gijón x Andorra   20 ao 30          10  1.72   \n",
       "104   2022-07-13   Belgrano x Estudiantes    10 ao 20          10  1.57   \n",
       "57    2022-07-09        Dynamo x Borussia    10 ao 20          10  1.53   \n",
       "\n",
       "      Profit Win/Loss  \n",
       "144     6.10    Green  \n",
       "7       2.65    Green  \n",
       "797     5.00      Red  \n",
       "475     6.10    Green  \n",
       "1290    5.30    Green  \n",
       "1303    5.70    Green  \n",
       "828     6.20    Green  \n",
       "636     7.20    Green  \n",
       "104     5.70    Green  \n",
       "57      5.30    Green  "
      ]
     },
     "execution_count": 566,
     "metadata": {},
     "output_type": "execute_result"
    }
   ],
   "source": [
    "football_data.sample(10)"
   ]
  },
  {
   "cell_type": "markdown",
   "id": "2616fad5",
   "metadata": {},
   "source": [
    "Checking for dublicates"
   ]
  },
  {
   "cell_type": "code",
   "execution_count": 567,
   "id": "7d5a2cc7",
   "metadata": {},
   "outputs": [
    {
     "data": {
      "text/plain": [
       "22"
      ]
     },
     "execution_count": 567,
     "metadata": {},
     "output_type": "execute_result"
    }
   ],
   "source": [
    "football_data.duplicated().sum()"
   ]
  },
  {
   "cell_type": "code",
   "execution_count": 568,
   "id": "a93e1412",
   "metadata": {},
   "outputs": [],
   "source": [
    "#dropping duplicates\n",
    "football_data.drop_duplicates(inplace=True)"
   ]
  },
  {
   "cell_type": "markdown",
   "id": "52510ffb",
   "metadata": {},
   "source": [
    "Check for missing values"
   ]
  },
  {
   "cell_type": "code",
   "execution_count": 569,
   "id": "43f10ea8",
   "metadata": {},
   "outputs": [
    {
     "data": {
      "text/plain": [
       "Date           0\n",
       "Match          0\n",
       "Bet Type      88\n",
       "Bet Amount     0\n",
       "Odds           0\n",
       "Profit         0\n",
       "Win/Loss       0\n",
       "dtype: int64"
      ]
     },
     "execution_count": 569,
     "metadata": {},
     "output_type": "execute_result"
    }
   ],
   "source": [
    "football_data.isnull().sum()"
   ]
  },
  {
   "cell_type": "code",
   "execution_count": 570,
   "id": "0e46c5b5",
   "metadata": {},
   "outputs": [
    {
     "data": {
      "text/plain": [
       "array(['60 ao 70', '10 ao 20', '20 ao 30', 'Gols', '00 ao 10',\n",
       "       'Escanteio', 'Vencedor', '50 ao 60', '00 a 10', '30 ao 40', nan,\n",
       "       'Cartões', '70 ao 80', 'Asiáticos', '00 a 10 ', 'Multipla',\n",
       "       'aos 30', '20 aos 30', '10 aos 20', '60 aos 70', '20 a 30',\n",
       "       '10 a 20', '60 a 70', '80 a 90', '70 a 80', '30 a 40', '50 a 60',\n",
       "       'Múltipla', '20 a 30 ', '2 marcam', 'gols', 'Mult', 'Pedro',\n",
       "       '60 a 70 ', 'Gols duplo'], dtype=object)"
      ]
     },
     "execution_count": 570,
     "metadata": {},
     "output_type": "execute_result"
    }
   ],
   "source": [
    "football_data['Bet Type'].unique()"
   ]
  },
  {
   "cell_type": "markdown",
   "id": "a138e99a",
   "metadata": {},
   "source": [
    "replaced null with zero"
   ]
  },
  {
   "cell_type": "code",
   "execution_count": 571,
   "id": "3746991c",
   "metadata": {},
   "outputs": [],
   "source": [
    "football_data.fillna(0, inplace=True)"
   ]
  },
  {
   "cell_type": "code",
   "execution_count": 572,
   "id": "1d44c48a",
   "metadata": {},
   "outputs": [
    {
     "data": {
      "text/plain": [
       "Bet Type\n",
       "00 a 10       257\n",
       "20 ao 30      193\n",
       "60 ao 70      174\n",
       "Gols          148\n",
       "10 ao 20      147\n",
       "20 a 30       125\n",
       "10 a 20       103\n",
       "60 a 70        92\n",
       "0              88\n",
       "00 ao 10       85\n",
       "30 a 40        22\n",
       "30 ao 40       17\n",
       "70 a 80        15\n",
       "50 a 60        11\n",
       "50 ao 60       10\n",
       "70 ao 80       10\n",
       "Asiáticos       8\n",
       "80 a 90         8\n",
       "20 a 30         5\n",
       "20 aos 30       4\n",
       "Multipla        4\n",
       "aos 30          2\n",
       "2 marcam        2\n",
       "60 aos 70       1\n",
       "10 aos 20       1\n",
       "00 a 10         1\n",
       "Cartões         1\n",
       "Vencedor        1\n",
       "Múltipla        1\n",
       "Escanteio       1\n",
       "gols            1\n",
       "Mult            1\n",
       "Pedro           1\n",
       "60 a 70         1\n",
       "Gols duplo      1\n",
       "Name: count, dtype: int64"
      ]
     },
     "execution_count": 572,
     "metadata": {},
     "output_type": "execute_result"
    }
   ],
   "source": [
    "football_data['Bet Type'].value_counts()"
   ]
  },
  {
   "cell_type": "markdown",
   "id": "fe8f4b59",
   "metadata": {},
   "source": [
    "Normalize the data lowercased, stripped, and accents removed\n"
   ]
  },
  {
   "cell_type": "code",
   "execution_count": 573,
   "id": "ef01cc72",
   "metadata": {},
   "outputs": [
    {
     "name": "stdout",
     "output_type": "stream",
     "text": [
      "Unique Bet Type: 35\n"
     ]
    }
   ],
   "source": [
    "print(\"Unique Bet Type:\", football_data['Bet Type'].nunique())\n"
   ]
  },
  {
   "cell_type": "code",
   "execution_count": 574,
   "id": "a9eac4bd",
   "metadata": {},
   "outputs": [],
   "source": [
    "def normalize_bet_type(value):\n",
    "    if pd.isna(value):\n",
    "        return value\n",
    "    return unidecode.unidecode(str(value).strip().lower())\n",
    "\n",
    "football_data['Bet Type'] = football_data['Bet Type'].apply(normalize_bet_type)"
   ]
  },
  {
   "cell_type": "markdown",
   "id": "5517f435",
   "metadata": {},
   "source": [
    "Standardize the time ranges from \"10 ao 20\" or 10 a 20 to 10-20"
   ]
  },
  {
   "cell_type": "code",
   "execution_count": 575,
   "id": "ae5d2c62",
   "metadata": {},
   "outputs": [],
   "source": [
    "def standardize_time_ranges(value):\n",
    "    if isinstance(value, str):\n",
    "        return (\n",
    "            value.replace(\" a \", \"-\")\n",
    "                 .replace(\" ao \", \"-\")\n",
    "                 .replace(\" aos \", \"-\")\n",
    "                 .strip()\n",
    "        )\n",
    "    return value\n",
    "football_data['Bet Type'] = football_data['Bet Type'].apply(standardize_time_ranges)"
   ]
  },
  {
   "cell_type": "code",
   "execution_count": 576,
   "id": "d21ff0ca",
   "metadata": {},
   "outputs": [
    {
     "data": {
      "text/plain": [
       "Bet Type\n",
       "00-10         343\n",
       "20-30         327\n",
       "60-70         268\n",
       "10-20         251\n",
       "gols          149\n",
       "0              88\n",
       "30-40          39\n",
       "70-80          25\n",
       "50-60          21\n",
       "asiaticos       8\n",
       "80-90           8\n",
       "multipla        5\n",
       "2 marcam        2\n",
       "aos 30          2\n",
       "pedro           1\n",
       "mult            1\n",
       "cartoes         1\n",
       "vencedor        1\n",
       "escanteio       1\n",
       "gols duplo      1\n",
       "Name: count, dtype: int64"
      ]
     },
     "execution_count": 576,
     "metadata": {},
     "output_type": "execute_result"
    }
   ],
   "source": [
    "football_data['Bet Type'].value_counts()"
   ]
  },
  {
   "cell_type": "code",
   "execution_count": 577,
   "id": "56480f0d",
   "metadata": {},
   "outputs": [],
   "source": [
    "#remove damaged data\n",
    "football_data = football_data[football_data['Bet Type'] != 'Pedro']"
   ]
  },
  {
   "cell_type": "markdown",
   "id": "dabb90d6",
   "metadata": {},
   "source": [
    "Group rare bet types into \"Others\""
   ]
  },
  {
   "cell_type": "code",
   "execution_count": 578,
   "id": "cd57318b",
   "metadata": {},
   "outputs": [],
   "source": [
    "threshold = 10\n",
    "\n",
    "value_counts = football_data['Bet Type'].value_counts()\n",
    "\n",
    "rare_types = value_counts[value_counts < threshold].index\n",
    "\n",
    "def group_rare_bet_types(bet_type):\n",
    "    if bet_type in rare_types:\n",
    "        return 'Other'\n",
    "    return bet_type\n",
    "\n",
    "football_data['Bet Type'] = football_data['Bet Type'].apply(group_rare_bet_types)"
   ]
  },
  {
   "cell_type": "code",
   "execution_count": 579,
   "id": "cc2c57c5",
   "metadata": {},
   "outputs": [
    {
     "data": {
      "text/plain": [
       "Bet Type\n",
       "00-10    343\n",
       "20-30    327\n",
       "60-70    268\n",
       "10-20    251\n",
       "gols     149\n",
       "0         88\n",
       "30-40     39\n",
       "Other     31\n",
       "70-80     25\n",
       "50-60     21\n",
       "Name: count, dtype: int64"
      ]
     },
     "execution_count": 579,
     "metadata": {},
     "output_type": "execute_result"
    }
   ],
   "source": [
    "football_data['Bet Type'].value_counts()"
   ]
  },
  {
   "cell_type": "code",
   "execution_count": 580,
   "id": "5bdda1a8",
   "metadata": {},
   "outputs": [
    {
     "name": "stdout",
     "output_type": "stream",
     "text": [
      "Unique Bet Type: 10\n"
     ]
    }
   ],
   "source": [
    "print(\"Unique Bet Type:\", football_data['Bet Type'].nunique())\n",
    "#reduced from 35 to 10"
   ]
  },
  {
   "cell_type": "code",
   "execution_count": 581,
   "id": "5ce83b32",
   "metadata": {},
   "outputs": [
    {
     "data": {
      "text/plain": [
       "Date           object\n",
       "Match          object\n",
       "Bet Type       object\n",
       "Bet Amount      int64\n",
       "Odds          float64\n",
       "Profit        float64\n",
       "Win/Loss       object\n",
       "dtype: object"
      ]
     },
     "execution_count": 581,
     "metadata": {},
     "output_type": "execute_result"
    }
   ],
   "source": [
    "football_data.dtypes"
   ]
  },
  {
   "cell_type": "markdown",
   "id": "19529f24",
   "metadata": {},
   "source": [
    "splits the column \"Match\" to be \"Home Team\" and \"Away Team\". "
   ]
  },
  {
   "cell_type": "markdown",
   "id": "8ac66fc6",
   "metadata": {},
   "source": [
    "Checked sample data with https://www.football-data.org/coverage that it matches. Home and Away team"
   ]
  },
  {
   "cell_type": "code",
   "execution_count": 582,
   "id": "69db9588",
   "metadata": {},
   "outputs": [
    {
     "data": {
      "text/html": [
       "<div>\n",
       "<style scoped>\n",
       "    .dataframe tbody tr th:only-of-type {\n",
       "        vertical-align: middle;\n",
       "    }\n",
       "\n",
       "    .dataframe tbody tr th {\n",
       "        vertical-align: top;\n",
       "    }\n",
       "\n",
       "    .dataframe thead th {\n",
       "        text-align: right;\n",
       "    }\n",
       "</style>\n",
       "<table border=\"1\" class=\"dataframe\">\n",
       "  <thead>\n",
       "    <tr style=\"text-align: right;\">\n",
       "      <th></th>\n",
       "      <th>Date</th>\n",
       "      <th>Match</th>\n",
       "      <th>Bet Type</th>\n",
       "      <th>Bet Amount</th>\n",
       "      <th>Odds</th>\n",
       "      <th>Profit</th>\n",
       "      <th>Win/Loss</th>\n",
       "    </tr>\n",
       "  </thead>\n",
       "  <tbody>\n",
       "    <tr>\n",
       "      <th>1216</th>\n",
       "      <td>2022-10-06</td>\n",
       "      <td>Múltipla 4</td>\n",
       "      <td>Other</td>\n",
       "      <td>10</td>\n",
       "      <td>2.75</td>\n",
       "      <td>17.5</td>\n",
       "      <td>Green</td>\n",
       "    </tr>\n",
       "  </tbody>\n",
       "</table>\n",
       "</div>"
      ],
      "text/plain": [
       "            Date       Match Bet Type  Bet Amount  Odds  Profit Win/Loss\n",
       "1216  2022-10-06  Múltipla 4    Other          10  2.75    17.5    Green"
      ]
     },
     "execution_count": 582,
     "metadata": {},
     "output_type": "execute_result"
    }
   ],
   "source": [
    "# Preview rows where 'x' might be missing\n",
    "football_data[~football_data['Match'].str.contains('x', case=False, na=False)]\n"
   ]
  },
  {
   "cell_type": "code",
   "execution_count": 583,
   "id": "7aacecfa",
   "metadata": {},
   "outputs": [],
   "source": [
    "#remove damaged data\n",
    "#football_data = football_data[football_data['Match'] != 'Múltipla 4']\n",
    "\n",
    "#football_data[['Home Team', 'Away Team']] = football_data['Match'].str.split(r'\\s*x\\s*', expand=True)\n",
    "\n",
    "# Drop match column\n",
    "#football_data = football_data.drop(columns=['Match'])\n",
    "\n",
    "# Reorder the columns\n",
    "#new_order = ['Date', 'Home Team', 'Away Team', 'Bet Type', 'Bet Amount', 'Odds', 'Profit', 'Win/Loss']\n",
    "##football_data = football_data[new_order]\n"
   ]
  },
  {
   "cell_type": "code",
   "execution_count": 584,
   "id": "0781bd20",
   "metadata": {},
   "outputs": [],
   "source": [
    "football_data[['Home Team', 'Away Team']] = football_data['Match'].str.split(' x ', expand=True)\n",
    "#football_data[['Home Team', 'Away Team']] = football_data['Match'].str.split(' X ', expand=True)\n",
    "\n",
    "\n",
    "#drop match column\n",
    "football_data = football_data.drop(columns=['Match'])\n",
    "\n",
    "new_order = ['Date', 'Home Team', 'Away Team', 'Bet Type', 'Bet Amount', 'Odds', 'Profit', 'Win/Loss']\n",
    "\n",
    "#Reorder the columns\n",
    "football_data = football_data[new_order]"
   ]
  },
  {
   "cell_type": "markdown",
   "id": "61b6e23e",
   "metadata": {},
   "source": [
    "Standardize the team names"
   ]
  },
  {
   "cell_type": "code",
   "execution_count": 585,
   "id": "ec4996ad",
   "metadata": {},
   "outputs": [
    {
     "data": {
      "text/plain": [
       "Home Team    0\n",
       "Away Team    4\n",
       "dtype: int64"
      ]
     },
     "execution_count": 585,
     "metadata": {},
     "output_type": "execute_result"
    }
   ],
   "source": [
    "football_data[['Home Team', 'Away Team']].isnull().sum()\n"
   ]
  },
  {
   "cell_type": "code",
   "execution_count": 586,
   "id": "7571e049",
   "metadata": {},
   "outputs": [
    {
     "data": {
      "text/plain": [
       "array(['Inglaterra', 'Ayacucho', 'Lara', 'Guairena', 'Cordoba',\n",
       "       'Belgrano', 'Mar', 'Cruzeiro', 'Col', 'Brusque', 'Huachipate',\n",
       "       'Braga', 'Colorado', 'Dallas', 'Patchuca', 'Galaxy', 'Morelia',\n",
       "       'Boca', 'Libertad', 'Inter', 'Sucre', 'Hailstorm', 'Ready',\n",
       "       'Argentinos', 'Colon', 'Ceara', 'Palmeiras', 'Detroit', 'Mineros',\n",
       "       'River', 'Melgar', 'Union', 'Lanus', 'Stalbaek', 'Asane',\n",
       "       'Patriotas', 'Selangor', 'Aksur', 'Forest', 'Chicago', 'Vila',\n",
       "       'Celaya', 'Rosário', 'Dynamo', 'Portim', 'Brighton', 'NYC',\n",
       "       'Lorenzo', 'Atlanta', 'Goias', 'Platense', 'Petrolero',\n",
       "       'Millionarios', 'Houston', 'Gualaceo', 'Unido', 'Pepo', 'PIF',\n",
       "       'Rosemberg', 'Kalmar', 'Jorge W.', 'Tolima', 'Velez', 'Ilves',\n",
       "       'Defensa', 'Bagre', 'Varnamo', 'Guabira', 'Turan', 'Din', 'Talaea',\n",
       "       'El Zamalek', 'Alianza', 'Banfield', 'Austin', 'Cimarrones',\n",
       "       'Cortuba', 'DC United', 'Breidablik', 'Operario', 'Resistencia',\n",
       "       'Huracan', 'Estudiantes', 'Albion', 'A', 'Plaza Colonia',\n",
       "       'Red Bulls', 'Sarmiento', 'All Boys', 'Juarez', 'Norrkoping',\n",
       "       'Poznan', 'Dalkurd', 'Ituano', 'Rentistas', 'PK', 'Helsinki',\n",
       "       'Djurgarden', 'Arges', 'Mariehamn', 'Trnava', 'Young Boys',\n",
       "       'Ham-Kam', 'Argentinos Jrs', 'Future', 'Cluj', 'CRB', 'CAP',\n",
       "       'Orense', 'Sampaio', 'Guarani', 'Flamengo', 'Wanderes',\n",
       "       'Ind. Petrolero', 'Avaí', 'Huancayo', 'Olimpia', 'Palmaflor',\n",
       "       'Fire', 'Ceará', 'LDU', 'Montreal', 'Tec. Univ.', 'Santos',\n",
       "       'Vesteras', 'Garbania', 'Dangjin', 'Hansa', 'Braunschweig',\n",
       "       'Viborg', 'Lyngby', 'AIK', 'Wisla', 'Gotemburgo', 'Ju',\n",
       "       'Bonnyrigg', 'Servette', 'Pogon', 'Constanta', 'Copenhagen',\n",
       "       'Gnistan', 'Santa fé', 'Cantolao', 'La Serena', 'Guilhermo',\n",
       "       'Grorud', 'Varbergs', 'Odense', 'Pharco', 'Eskilstuna', 'Petrolul',\n",
       "       'Makasa', 'Islandia', 'Cajamarca', 'Sport', 'Pachuca',\n",
       "       'Santamarina', 'Once Caldas', 'Zalgiris', 'Norby', 'Bahia',\n",
       "       'Londrina', 'Vasco', 'Atletico', 'Jaro', 'Legia', 'Haifa',\n",
       "       'Maribor', 'Ferencvarosi', 'Niksic', 'RBB', 'Corinthians', 'Rakow',\n",
       "       'Rosario', 'Nacional', 'Cuiabá', 'Darmstadt', 'Hokoah',\n",
       "       'Jonkopings', 'Voluntari', 'Gallen', 'Ameliano', 'Orlando City',\n",
       "       'Columbus', 'Botafogo', 'Everton', 'Guayaquil', 'El Paso',\n",
       "       'Sounders', 'Whitecaps', 'Salt Lake', 'Timbers', 'Mechelen',\n",
       "       'Kristiansand', 'Westerlo', 'Hafnarfjordur', 'Aldosivi', 'Atl Mg',\n",
       "       'Univ Catolica', 'Fortaleza', '12 de Outubro', 'Uta Arad',\n",
       "       'Akranes', 'San Lorenzo', 'Cerro', 'Deportivo', 'San Martin',\n",
       "       'Pyramids', 'Slovan', 'Real Tomayapo', 'Olympiakos', 'Univ Sucre',\n",
       "       'Liverpool', 'Necaxa', 'The Strongest', 'Atl Go', 'Cesar Vallejo',\n",
       "       'Roots', 'Vaduz', 'Streda', 'Puskas', 'SP', 'Blooming', 'Junior',\n",
       "       'Dagerfors', 'Nyboking', 'Stjarnan', 'Fremad', 'Sturm',\n",
       "       'Middlesbrough', 'Sundsvall', 'Radomiak', 'Miedz', 'Clui', 'Gent',\n",
       "       'Min Unit', 'Coritiba', 'Novorizontino', 'Charllote', 'Hartford',\n",
       "       'NE', 'SA', 'Kansas', 'Jablonec', 'Kralove', 'Molde', 'Stabaek',\n",
       "       'Austria', 'Celtic', 'Sparta', 'Craiova', 'Athletico', 'Sporting',\n",
       "       'DC', 'Bragantino', 'HFK', 'Sochaux', 'Watford', 'Zamalek',\n",
       "       '9 de Outubro', 'Colon X Indepediente', 'Instituto', 'Wolfsberger',\n",
       "       'Al Ahly', 'Dunajska', 'Univ de Vinto', 'Rubio', 'NY', 'Maryland',\n",
       "       'Enppi', 'Osters', 'Brondby', 'El Masry', 'Real Espanha',\n",
       "       'Cagliari', 'Sezana', 'Sandhausen', 'Hvidovre', 'Randers',\n",
       "       'Lafnitz', 'Lecce', 'Caballero', 'Universitário', 'Suburbs',\n",
       "       'Nordsjaelland', 'Pisa', 'Rosenborg', 'Reid', 'Dortmund',\n",
       "       'Rostock', 'Clemont', 'Binacional', 'Empoli', 'Atl go',\n",
       "       'Charlotte', 'Zurique', 'Veijle', 'Man United', 'Stuttgart',\n",
       "       'Fenix', 'Montpellier', 'Venezia', 'Santa Clara', 'Rennes',\n",
       "       'Slavia', 'Giresunspor', 'Valerenga', 'Danubio', 'Flu', 'Newells',\n",
       "       'Aurora', 'Botosani', 'Ankaragucu', 'Bologna', 'Caen',\n",
       "       'Barranquilha', 'Nanjing', 'Viktoria', 'Skovde', 'Norrby',\n",
       "       'Bank of Egypt', 'Cucuta', 'Gremio', 'Ponte Preta', 'CSA',\n",
       "       'NY Red Bulls', 'Al Arab', 'Real Madrid', 'Ismaily', 'Basel',\n",
       "       'Rapid', 'AZ', 'Montevideo', 'Tapatio', 'Univ Sacre', 'Queretaro',\n",
       "       'Haka', 'Hobro', 'Fredericia', 'Horsens', 'Nantes',\n",
       "       'Metropolitano', 'NY RB', 'Coquimbo', 'Patronato', 'Bucaramanga',\n",
       "       'Runa', 'Orange', 'Aston Villa', 'Leipzig', 'Monaco', 'Sion',\n",
       "       'Eibar', 'Brentford', 'Schalke', 'Valladolid', 'Goiás', 'Monza',\n",
       "       'Strongest', 'Penarol', 'Mont Bay', 'Hannover', 'Kupio',\n",
       "       'Nttm Forest', 'Mainz', 'Chelsea', 'Nublense', 'Racing', 'Bilbao',\n",
       "       'Konyaspor', 'Aarhus', 'Juventus', 'Cartagena', 'La Equidad', 'MP',\n",
       "       'San Miguelito', 'Audax', 'Atlas', 'Indepediente', 'Mazatlan',\n",
       "       'Al Sahadd', 'Hillerod', 'Al Shamal', 'Vejle', 'Qarabag',\n",
       "       'Torshavn', 'Kolubara', 'Dynamo Kiev', 'Maccabi Haifa',\n",
       "       'Antofagasta', 'Tigre', 'Criciuma', 'Oeste', 'Athletico Pr',\n",
       "       \"O'Higgins\", 'Maccabi Tel Aviv', 'Barracas', 'Univ Craiova',\n",
       "       'West Ham', 'Atletico Cali', 'Alajuelense', 'America MG', 'Pumas',\n",
       "       'Mioveni', 'Estoril', 'Gladbach', 'Bari', 'Sevilla', 'Norwich',\n",
       "       'Tomayapo', 'Cerrito', 'Sol de America', 'Gijón', 'Bodo/Glimt',\n",
       "       'Hatayspor', 'Boleslav', 'Sturm Graz', 'Dep. Municipal', 'Amiens',\n",
       "       'Atlético Fênix', 'Atlético MG', 'Celta de Vigo', 'Ascoli',\n",
       "       'Bolivar', 'Fluminense', 'Leeds X Chelsea', 'Liberec', 'Frankfurt',\n",
       "       'Juventude', 'Casa Pia', 'Atlético Madrid', 'Unión Española',\n",
       "       'Atl. Morélia', 'Arg Jrs', 'Groud', 'Roufoss', 'Leiknir',\n",
       "       'Man Unit', 'Sampdoria', 'Univ Chile', 'Dep Maldonado', 'Avai',\n",
       "       'Guayaquill', 'Roma', 'Central', 'Al Rayan', 'Santa Fé', 'Al Saad',\n",
       "       'Orebro', 'Bolton', 'Herediano', 'La Paz', 'Umm Salal',\n",
       "       'Helsingborg', 'Tranmere', 'Trabzonspor', 'Quilmes', 'Tulsa',\n",
       "       'Cibao', 'Dorados', 'KPV', 'Silkeborg', 'Hapoel', 'Sivasspor',\n",
       "       'Nice', 'Hearts', 'Always Ready', 'Vila Nova', 'Potosi',\n",
       "       'Sagan Tusu', 'Cannons', 'Green Gully', 'Lahti', 'Gornik',\n",
       "       'Nikobing', 'Eindhoven', 'Girona', 'Lazio', 'Luton', 'Freiburg',\n",
       "       'Paços', '  Gremio', 'Boston', 'Oxaca', 'General Caballero',\n",
       "       'Bordeaux', 'Man City', 'Lustenau', 'Leicester', 'Elche', 'Jerv',\n",
       "       'Arsenal', 'Boavista', 'Quevilly', 'Nurberg', 'Milan', 'Lenns',\n",
       "       'Vinto', 'Torque', 'Koln', 'Vaasa', 'Mjondalen', 'Start',\n",
       "       'Konyanspor', 'Djugarden', 'Como', 'Corinthains', 'Fastav',\n",
       "       'Sassuolo', 'Cralova', 'Leeds', 'Benfica', 'C. Palace', 'Tombense',\n",
       "       'Tuzla City', 'Viktoria Plzen', 'Al-Arab Doha', 'Alacranes',\n",
       "       'Philadelphia', 'Valour', 'Del Valle', 'Hvdovre', 'Sandvikens',\n",
       "       'Klasvik', 'Anderlecht', 'Atalanta', 'Helsingor', 'Horn',\n",
       "       'Nautico', 'Emelec', 'Ternana', 'Union Berlim', 'Genoa',\n",
       "       'Leverkusen', 'Bodo', 'Armstetten', 'Dep Municipal', 'America Mg',\n",
       "       'Antwerp', 'Sudtirol', 'Lask', 'Sogndal', 'Salernitana',\n",
       "       'Galatasaray', 'U. Craiova', 'Chaves', 'Def y Justicia', 'Delfin',\n",
       "       'Oriente Petrolero', 'Zagreb', 'Trelleborgs', 'PSG', 'Envigado',\n",
       "       'Univ. Vinto', 'Yokohama', 'Jeonbuk', 'Tokyo', 'Vissel', 'Deagu',\n",
       "       'Ajax', 'Barcelona', 'Tottenham', 'Gen Caballero', 'Univ. Chile',\n",
       "       'Venados', 'Mohamedia', 'Colo Colo', 'Real Espana', 'SP X Atl Go',\n",
       "       'Diriangen', 'Tetoua', 'Nurnberg', 'Sonderjyske', 'Top Oss',\n",
       "       'Floridsdorfer', 'Werder Bremen', 'Vilafranquense', 'Seoul',\n",
       "       'Brommapojkarna', 'Paderborn', 'Lugo', 'Parma', 'Cosenza',\n",
       "       'Vasteras', 'Benevento', 'Bayer', 'Nashville', 'Alianza Lima',\n",
       "       'Plaza', 'Forge', 'Portuguesa', 'Hammarby', 'Aucas', 'Kongsvinger',\n",
       "       'Jagiellonia', 'Estrela', 'Demirspor', 'Vizela', 'Ferro Castil',\n",
       "       'Bayern', 'Marselha', 'Shaktar', 'Cobresal', 'Sheriff',\n",
       "       'Def Sportig', 'America Cali', 'Al Attihad', 'Braunschwreig',\n",
       "       'Brescia', 'Gil Vicente', 'Dep Brasil', 'Krakow', 'Fortuna',\n",
       "       'Mouloudia', 'Univ Deportes', 'Real Salt Lake', 'Midtjylland',\n",
       "       'Raja', 'Hoffenheim', 'Fla', 'Pacific', 'Feirense',\n",
       "       'Nac Assuncion', 'Boston River', 'Boca Jr', 'San Antonio',\n",
       "       'Cortulua', 'Croacia', 'Belgica', 'Polonia', 'Aguilas',\n",
       "       'Atl Morelia', 'Dep. Maldonado', 'Ind. Del Valle', 'Sao Caetano',\n",
       "       'Dinamarca', 'País de Gales', 'Paises baixos', 'Indy',\n",
       "       'Cerro Porteno', 'Sp', 'Brasil', 'Noruega', 'Portugal', 'Raya 2',\n",
       "       'Honduras', 'Royal Pari', 'Ind Santa Fé', 'First Vienna',\n",
       "       'Tampines', 'Greuther', 'Holstein', 'Spal', 'Vendsyssel',\n",
       "       'Cittadella', 'Nykobing', 'Southampton', 'Crystal Palace',\n",
       "       'Salzburg', 'Wolfsburg', 'Lillestrom', 'Tec. Universitário',\n",
       "       'Al Seeb', 'Bayer Munique', 'Porto', 'Godoy Cruz',\n",
       "       'Nacional Potosi', 'Leones Negros', 'Pumas Tabasco',\n",
       "       'Jorge Willstermann', 'Múltipla 4', 'America', 'Amstetten',\n",
       "       'Austria Vienna', 'Vowarts', 'Adanaspor', 'Lyon', 'Maldonado',\n",
       "       'Huachipato', 'Jaguares', 'Hamburgo', 'Reims', 'Burgos',\n",
       "       'Union Espanola', 'Dep. Pasto', 'Ostersunds', 'Boa Vista',\n",
       "       'Zaragoza', 'Radomlje', 'KFUM', 'Gliwice', 'Alianza Petrolera',\n",
       "       'Wigan', 'Cerro Largo', 'Raya2', 'Ferro Carril', 'Dep. Pereira',\n",
       "       'Jokopings', 'Potosí', 'Alavés', 'Rangers', 'Feyenoord',\n",
       "       'River URU', 'FCSB', 'Guaraní', 'R. Tomayapo', 'San Lorenzo Res',\n",
       "       'Banfield res', 'Talleres Res', 'Pazar', 'Lodz', 'MAS fes',\n",
       "       'Defensa y Justicia', 'Boyaca', 'Fullham', 'Wolverhampton',\n",
       "       'Lorient', 'Klagenfurt', 'Torino', 'Sittard', 'Estrela Amadora',\n",
       "       'Huesca', 'Eagles', 'Plodiv', 'Tigre Res', 'Racing Res',\n",
       "       'Al Akhdod', 'Brann', 'Landskrona', 'Bastia', 'Villareal',\n",
       "       'Hermmanstadt', 'Grazer', 'Lucerne', 'Tambetary', 'Augsburg',\n",
       "       'Union Española', 'El Hodoud', 'Hammaby', 'Mannuci', 'Skalica',\n",
       "       'Liefering', 'Opava', 'Ajjacio', 'Widzew Lodz', 'Brugge', 'Chape',\n",
       "       'Dep Cuenca', 'Farmalicão', 'Montpelier', 'Legia Varsovia',\n",
       "       'HamKam', 'Valência', 'RKC', 'Estoril Praia', 'Belenenses',\n",
       "       'America de Cali', 'Cumbaya', 'Ploiesti', 'Sirius', 'Ajax B',\n",
       "       'Zaglebie', 'Celta', 'Krsko', 'Rabat', 'Napoli', 'Atl. Progreso',\n",
       "       'Univ. de Chile', 'Dinamo Bucareste', 'Berkane', 'São Paulo',\n",
       "       'Cerro Porteño', 'Blagoevgrad', 'Sigma', 'Targoviste', 'Kardzhali',\n",
       "       'St Polten', 'Greuther Furth', 'Magdeburg', 'VVV',\n",
       "       'Paços Ferreira', 'San Antonio FC', 'Heerenveen', 'Stromsgodset',\n",
       "       'Leganes', 'Colo-Colo', 'Giannina', 'Botev', 'Verona', 'Elfsborg'],\n",
       "      dtype=object)"
      ]
     },
     "execution_count": 586,
     "metadata": {},
     "output_type": "execute_result"
    }
   ],
   "source": [
    "football_data['Home Team'].unique()"
   ]
  },
  {
   "cell_type": "code",
   "execution_count": 587,
   "id": "ce94965c",
   "metadata": {},
   "outputs": [
    {
     "name": "stdout",
     "output_type": "stream",
     "text": [
      "Unique home teams: 790\n",
      "Unique away teams: 885\n"
     ]
    }
   ],
   "source": [
    "print(\"Unique home teams:\", football_data['Home Team'].nunique())\n",
    "print(\"Unique away teams:\", football_data['Away Team'].nunique())\n"
   ]
  },
  {
   "cell_type": "code",
   "execution_count": 588,
   "id": "dd094be6",
   "metadata": {},
   "outputs": [
    {
     "data": {
      "text/plain": [
       "Date          0\n",
       "Home Team     0\n",
       "Away Team     4\n",
       "Bet Type      0\n",
       "Bet Amount    0\n",
       "Odds          0\n",
       "Profit        0\n",
       "Win/Loss      0\n",
       "dtype: int64"
      ]
     },
     "execution_count": 588,
     "metadata": {},
     "output_type": "execute_result"
    }
   ],
   "source": [
    "football_data.isnull().sum()"
   ]
  },
  {
   "cell_type": "code",
   "execution_count": 589,
   "id": "002a6407",
   "metadata": {},
   "outputs": [],
   "source": [
    "#normalize team names\n",
    "football_data['Home Team'] = football_data['Home Team'].str.lower().str.strip()\n",
    "football_data['Away Team'] = football_data['Away Team'].str.lower().str.strip()\n",
    "\n"
   ]
  },
  {
   "cell_type": "code",
   "execution_count": 590,
   "id": "85c7a77f",
   "metadata": {},
   "outputs": [],
   "source": [
    "team_name_map = {\n",
    "    # Fix accents and formatting\n",
    "    'rosário': 'rosario',\n",
    "    'atlético mg': 'atl mg',\n",
    "    'atlético fênix': 'atl fênix',\n",
    "    'atlético madrid': 'atletico madrid',\n",
    "    'universitário': 'universitario',\n",
    "    'ceará': 'ceara',\n",
    "    'cuiabá': 'cuiaba',\n",
    "    'san lorenzo res': 'san lorenzo',\n",
    "    'banfield res': 'banfield',\n",
    "    'talleres res': 'talleres',\n",
    "    \n",
    "    # Consolidate naming variations\n",
    "    'ny rb': 'ny red bulls',\n",
    "    'nyc': 'ny city',\n",
    "    'ny': 'ny city',\n",
    "    'charllote': 'charlotte',\n",
    "    'ny red bulls': 'ny red bulls',  # unify spelling\n",
    "    \n",
    "    # Remove garbage/mistakes\n",
    "    ##'a': None,\n",
    "    '  gremio': 'gremio',\n",
    "    ##'múltipla 4': 'multiple',\n",
    "\n",
    "    # Translate or unify other known aliases\n",
    "    'zurique': 'zurich',\n",
    "    'guilhermo': 'guillermo',\n",
    "    'vila': 'vila nova',\n",
    "    'croacia': 'croatia',\n",
    "    'dinamarca': 'denmark',\n",
    "    'país de gales': 'wales',\n",
    "    'paises baixos': 'netherlands',\n",
    "    'espanha': 'spain',\n",
    "    'alemanha': 'germany',\n",
    "    'frança': 'france',\n",
    "    'islandia': 'iceland',\n",
    "    'nikobing': 'nykobing',\n",
    "}\n",
    "# Apply the mapping to the 'Home Team' and 'Away Team' columns\n",
    "football_data['Home Team'] = football_data['Home Team'].replace(team_name_map)\n",
    "football_data['Away Team'] = football_data['Away Team'].replace(team_name_map)\n"
   ]
  },
  {
   "cell_type": "code",
   "execution_count": 591,
   "id": "20a31d34",
   "metadata": {},
   "outputs": [],
   "source": [
    "#remove damaged data\n",
    "bad_teams = ['A', 'B', 'FF', 'PK', 'Múltipla 4']\n",
    "football_data = football_data[\n",
    "    ~football_data['Home Team'].isin(bad_teams) &\n",
    "    ~football_data['Away Team'].isin(bad_teams)\n",
    "]"
   ]
  },
  {
   "cell_type": "code",
   "execution_count": 592,
   "id": "9f4c160f",
   "metadata": {},
   "outputs": [
    {
     "name": "stdout",
     "output_type": "stream",
     "text": [
      "Unique home teams: 775\n",
      "Unique away teams: 795\n"
     ]
    }
   ],
   "source": [
    "print(\"Unique home teams:\", football_data['Home Team'].nunique())\n",
    "print(\"Unique away teams:\", football_data['Away Team'].nunique())\n"
   ]
  },
  {
   "cell_type": "code",
   "execution_count": 593,
   "id": "f8d31f4e",
   "metadata": {},
   "outputs": [
    {
     "data": {
      "text/plain": [
       "Date          0\n",
       "Home Team     0\n",
       "Away Team     4\n",
       "Bet Type      0\n",
       "Bet Amount    0\n",
       "Odds          0\n",
       "Profit        0\n",
       "Win/Loss      0\n",
       "dtype: int64"
      ]
     },
     "execution_count": 593,
     "metadata": {},
     "output_type": "execute_result"
    }
   ],
   "source": [
    "football_data.isnull().sum()"
   ]
  },
  {
   "cell_type": "code",
   "execution_count": 594,
   "id": "cf754f80",
   "metadata": {},
   "outputs": [
    {
     "data": {
      "text/html": [
       "<div>\n",
       "<style scoped>\n",
       "    .dataframe tbody tr th:only-of-type {\n",
       "        vertical-align: middle;\n",
       "    }\n",
       "\n",
       "    .dataframe tbody tr th {\n",
       "        vertical-align: top;\n",
       "    }\n",
       "\n",
       "    .dataframe thead th {\n",
       "        text-align: right;\n",
       "    }\n",
       "</style>\n",
       "<table border=\"1\" class=\"dataframe\">\n",
       "  <thead>\n",
       "    <tr style=\"text-align: right;\">\n",
       "      <th></th>\n",
       "      <th>Date</th>\n",
       "      <th>Home Team</th>\n",
       "      <th>Away Team</th>\n",
       "      <th>Bet Type</th>\n",
       "      <th>Bet Amount</th>\n",
       "      <th>Odds</th>\n",
       "      <th>Profit</th>\n",
       "      <th>Win/Loss</th>\n",
       "    </tr>\n",
       "  </thead>\n",
       "  <tbody>\n",
       "    <tr>\n",
       "      <th>364</th>\n",
       "      <td>2022-08-02</td>\n",
       "      <td>colon x indepediente</td>\n",
       "      <td>None</td>\n",
       "      <td>10-20</td>\n",
       "      <td>10</td>\n",
       "      <td>1.53</td>\n",
       "      <td>5.3</td>\n",
       "      <td>Green</td>\n",
       "    </tr>\n",
       "    <tr>\n",
       "      <th>655</th>\n",
       "      <td>2022-08-21</td>\n",
       "      <td>leeds x chelsea</td>\n",
       "      <td>None</td>\n",
       "      <td>20-30</td>\n",
       "      <td>10</td>\n",
       "      <td>1.50</td>\n",
       "      <td>5.0</td>\n",
       "      <td>Green</td>\n",
       "    </tr>\n",
       "    <tr>\n",
       "      <th>944</th>\n",
       "      <td>2022-09-08</td>\n",
       "      <td>sp x atl go</td>\n",
       "      <td>None</td>\n",
       "      <td>10-20</td>\n",
       "      <td>10</td>\n",
       "      <td>1.44</td>\n",
       "      <td>4.4</td>\n",
       "      <td>Green</td>\n",
       "    </tr>\n",
       "    <tr>\n",
       "      <th>1216</th>\n",
       "      <td>2022-10-06</td>\n",
       "      <td>múltipla 4</td>\n",
       "      <td>None</td>\n",
       "      <td>Other</td>\n",
       "      <td>10</td>\n",
       "      <td>2.75</td>\n",
       "      <td>17.5</td>\n",
       "      <td>Green</td>\n",
       "    </tr>\n",
       "  </tbody>\n",
       "</table>\n",
       "</div>"
      ],
      "text/plain": [
       "            Date             Home Team Away Team Bet Type  Bet Amount  Odds  \\\n",
       "364   2022-08-02  colon x indepediente      None    10-20          10  1.53   \n",
       "655   2022-08-21       leeds x chelsea      None    20-30          10  1.50   \n",
       "944   2022-09-08           sp x atl go      None    10-20          10  1.44   \n",
       "1216  2022-10-06            múltipla 4      None    Other          10  2.75   \n",
       "\n",
       "      Profit Win/Loss  \n",
       "364      5.3    Green  \n",
       "655      5.0    Green  \n",
       "944      4.4    Green  \n",
       "1216    17.5    Green  "
      ]
     },
     "execution_count": 594,
     "metadata": {},
     "output_type": "execute_result"
    }
   ],
   "source": [
    "football_data[football_data['Away Team'].isnull()]"
   ]
  }
 ],
 "metadata": {
  "kernelspec": {
   "display_name": "base",
   "language": "python",
   "name": "python3"
  },
  "language_info": {
   "codemirror_mode": {
    "name": "ipython",
    "version": 3
   },
   "file_extension": ".py",
   "mimetype": "text/x-python",
   "name": "python",
   "nbconvert_exporter": "python",
   "pygments_lexer": "ipython3",
   "version": "3.12.7"
  }
 },
 "nbformat": 4,
 "nbformat_minor": 5
}
