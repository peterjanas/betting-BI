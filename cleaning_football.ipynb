{
 "cells": [
  {
   "cell_type": "markdown",
   "id": "cefd7204",
   "metadata": {},
   "source": [
    "Imports"
   ]
  },
  {
   "cell_type": "code",
   "execution_count": 1229,
   "id": "f1934723",
   "metadata": {},
   "outputs": [],
   "source": [
    "\n",
    "import pandas as pd\n",
    "import numpy as np\n",
    "\n",
    "import unidecode\n",
    "import re\n",
    "from sklearn.preprocessing import LabelEncoder\n",
    "\n",
    "import seaborn as sns\n",
    "import matplotlib.pyplot as plt\n",
    "%matplotlib inline\n",
    "\n",
    "from sklearn.linear_model import LinearRegression\n",
    "import sklearn.metrics as sm\n",
    "from sklearn.metrics import r2_score\n",
    "\n",
    "#football_data.to_csv('cleaned_football_data.csv', index=False)"
   ]
  },
  {
   "cell_type": "markdown",
   "id": "69cf57af",
   "metadata": {},
   "source": [
    "Read data"
   ]
  },
  {
   "cell_type": "code",
   "execution_count": 1230,
   "id": "5c540be7",
   "metadata": {},
   "outputs": [],
   "source": [
    "football_data = pd.read_csv('data/futebol.csv')\n"
   ]
  },
  {
   "cell_type": "code",
   "execution_count": 1231,
   "id": "051ba7a8",
   "metadata": {},
   "outputs": [
    {
     "data": {
      "text/plain": [
       "(1564, 7)"
      ]
     },
     "execution_count": 1231,
     "metadata": {},
     "output_type": "execute_result"
    }
   ],
   "source": [
    "football_data.shape"
   ]
  },
  {
   "cell_type": "code",
   "execution_count": 1232,
   "id": "df01e365",
   "metadata": {},
   "outputs": [
    {
     "name": "stdout",
     "output_type": "stream",
     "text": [
      "<class 'pandas.core.frame.DataFrame'>\n",
      "RangeIndex: 1564 entries, 0 to 1563\n",
      "Data columns (total 7 columns):\n",
      " #   Column        Non-Null Count  Dtype  \n",
      "---  ------        --------------  -----  \n",
      " 0   Data          1564 non-null   object \n",
      " 1   Jogo          1564 non-null   object \n",
      " 2   Minutos       1473 non-null   object \n",
      " 3   Investimento  1564 non-null   int64  \n",
      " 4   Odd           1564 non-null   float64\n",
      " 5   Ganho         1564 non-null   float64\n",
      " 6   Resultado     1564 non-null   object \n",
      "dtypes: float64(2), int64(1), object(4)\n",
      "memory usage: 85.7+ KB\n"
     ]
    }
   ],
   "source": [
    "football_data.info()"
   ]
  },
  {
   "cell_type": "markdown",
   "id": "afd29b3d",
   "metadata": {},
   "source": [
    "Translate columms to english"
   ]
  },
  {
   "cell_type": "code",
   "execution_count": 1233,
   "id": "0b5b307a",
   "metadata": {},
   "outputs": [],
   "source": [
    "football_data.rename(columns={\n",
    "    'Data': 'Date',\n",
    "    'Jogo': 'Match',\n",
    "    'Minutos': 'Bet Type',\n",
    "    'Investimento': 'Bet Amount',\n",
    "    'Odd': 'Odds',\n",
    "    'Ganho': 'Profit',\n",
    "    'Resultado': 'Win/Loss'\n",
    "}, inplace=True)"
   ]
  },
  {
   "cell_type": "code",
   "execution_count": 1234,
   "id": "1ce419dd",
   "metadata": {},
   "outputs": [
    {
     "data": {
      "text/html": [
       "<div>\n",
       "<style scoped>\n",
       "    .dataframe tbody tr th:only-of-type {\n",
       "        vertical-align: middle;\n",
       "    }\n",
       "\n",
       "    .dataframe tbody tr th {\n",
       "        vertical-align: top;\n",
       "    }\n",
       "\n",
       "    .dataframe thead th {\n",
       "        text-align: right;\n",
       "    }\n",
       "</style>\n",
       "<table border=\"1\" class=\"dataframe\">\n",
       "  <thead>\n",
       "    <tr style=\"text-align: right;\">\n",
       "      <th></th>\n",
       "      <th>Date</th>\n",
       "      <th>Match</th>\n",
       "      <th>Bet Type</th>\n",
       "      <th>Bet Amount</th>\n",
       "      <th>Odds</th>\n",
       "      <th>Profit</th>\n",
       "      <th>Win/Loss</th>\n",
       "    </tr>\n",
       "  </thead>\n",
       "  <tbody>\n",
       "    <tr>\n",
       "      <th>812</th>\n",
       "      <td>2022-08-29</td>\n",
       "      <td>Corinthains x RB</td>\n",
       "      <td>00 a 10</td>\n",
       "      <td>10</td>\n",
       "      <td>1.57</td>\n",
       "      <td>5.7</td>\n",
       "      <td>Green</td>\n",
       "    </tr>\n",
       "    <tr>\n",
       "      <th>1499</th>\n",
       "      <td>2022-10-26</td>\n",
       "      <td>Univ. de Chile x U. Española</td>\n",
       "      <td>Gols</td>\n",
       "      <td>20</td>\n",
       "      <td>1.50</td>\n",
       "      <td>10.0</td>\n",
       "      <td>Red</td>\n",
       "    </tr>\n",
       "    <tr>\n",
       "      <th>1484</th>\n",
       "      <td>2022-10-25</td>\n",
       "      <td>Athletico x Palmeiras</td>\n",
       "      <td>Gols</td>\n",
       "      <td>10</td>\n",
       "      <td>1.50</td>\n",
       "      <td>5.0</td>\n",
       "      <td>Red</td>\n",
       "    </tr>\n",
       "    <tr>\n",
       "      <th>1456</th>\n",
       "      <td>2022-10-22</td>\n",
       "      <td>Valência x Maiorca</td>\n",
       "      <td>Gols</td>\n",
       "      <td>20</td>\n",
       "      <td>1.50</td>\n",
       "      <td>10.0</td>\n",
       "      <td>Red</td>\n",
       "    </tr>\n",
       "    <tr>\n",
       "      <th>674</th>\n",
       "      <td>2022-08-22</td>\n",
       "      <td>Albion x Plaza</td>\n",
       "      <td>00 a 10</td>\n",
       "      <td>10</td>\n",
       "      <td>1.57</td>\n",
       "      <td>5.7</td>\n",
       "      <td>Green</td>\n",
       "    </tr>\n",
       "    <tr>\n",
       "      <th>1407</th>\n",
       "      <td>2022-10-19</td>\n",
       "      <td>Elche x Real Madrid</td>\n",
       "      <td>60 a 70</td>\n",
       "      <td>10</td>\n",
       "      <td>1.57</td>\n",
       "      <td>5.7</td>\n",
       "      <td>Green</td>\n",
       "    </tr>\n",
       "    <tr>\n",
       "      <th>476</th>\n",
       "      <td>2022-08-09</td>\n",
       "      <td>Viktoria x Sheriff</td>\n",
       "      <td>NaN</td>\n",
       "      <td>10</td>\n",
       "      <td>1.53</td>\n",
       "      <td>5.3</td>\n",
       "      <td>Green</td>\n",
       "    </tr>\n",
       "    <tr>\n",
       "      <th>1092</th>\n",
       "      <td>2022-09-20</td>\n",
       "      <td>Once Caldas x Envigado</td>\n",
       "      <td>20 a 30</td>\n",
       "      <td>10</td>\n",
       "      <td>1.66</td>\n",
       "      <td>6.6</td>\n",
       "      <td>Green</td>\n",
       "    </tr>\n",
       "    <tr>\n",
       "      <th>920</th>\n",
       "      <td>2022-09-07</td>\n",
       "      <td>Deagu x Seongnam</td>\n",
       "      <td>60 a 70</td>\n",
       "      <td>10</td>\n",
       "      <td>1.57</td>\n",
       "      <td>5.7</td>\n",
       "      <td>Green</td>\n",
       "    </tr>\n",
       "    <tr>\n",
       "      <th>1223</th>\n",
       "      <td>2022-10-06</td>\n",
       "      <td>America x SP</td>\n",
       "      <td>20 a 30</td>\n",
       "      <td>10</td>\n",
       "      <td>1.50</td>\n",
       "      <td>5.0</td>\n",
       "      <td>Green</td>\n",
       "    </tr>\n",
       "  </tbody>\n",
       "</table>\n",
       "</div>"
      ],
      "text/plain": [
       "            Date                         Match Bet Type  Bet Amount  Odds  \\\n",
       "812   2022-08-29              Corinthains x RB  00 a 10          10  1.57   \n",
       "1499  2022-10-26  Univ. de Chile x U. Española     Gols          20  1.50   \n",
       "1484  2022-10-25         Athletico x Palmeiras     Gols          10  1.50   \n",
       "1456  2022-10-22            Valência x Maiorca     Gols          20  1.50   \n",
       "674   2022-08-22                Albion x Plaza  00 a 10          10  1.57   \n",
       "1407  2022-10-19           Elche x Real Madrid  60 a 70          10  1.57   \n",
       "476   2022-08-09            Viktoria x Sheriff      NaN          10  1.53   \n",
       "1092  2022-09-20        Once Caldas x Envigado  20 a 30          10  1.66   \n",
       "920   2022-09-07              Deagu x Seongnam  60 a 70          10  1.57   \n",
       "1223  2022-10-06                  America x SP  20 a 30          10  1.50   \n",
       "\n",
       "      Profit Win/Loss  \n",
       "812      5.7    Green  \n",
       "1499    10.0      Red  \n",
       "1484     5.0      Red  \n",
       "1456    10.0      Red  \n",
       "674      5.7    Green  \n",
       "1407     5.7    Green  \n",
       "476      5.3    Green  \n",
       "1092     6.6    Green  \n",
       "920      5.7    Green  \n",
       "1223     5.0    Green  "
      ]
     },
     "execution_count": 1234,
     "metadata": {},
     "output_type": "execute_result"
    }
   ],
   "source": [
    "football_data.sample(10)"
   ]
  },
  {
   "cell_type": "markdown",
   "id": "2616fad5",
   "metadata": {},
   "source": [
    "Checking for dublicates"
   ]
  },
  {
   "cell_type": "code",
   "execution_count": 1235,
   "id": "7d5a2cc7",
   "metadata": {},
   "outputs": [
    {
     "data": {
      "text/plain": [
       "22"
      ]
     },
     "execution_count": 1235,
     "metadata": {},
     "output_type": "execute_result"
    }
   ],
   "source": [
    "football_data.duplicated().sum()"
   ]
  },
  {
   "cell_type": "code",
   "execution_count": 1236,
   "id": "a93e1412",
   "metadata": {},
   "outputs": [],
   "source": [
    "#dropping duplicates\n",
    "football_data.drop_duplicates(inplace=True)"
   ]
  },
  {
   "cell_type": "markdown",
   "id": "52510ffb",
   "metadata": {},
   "source": [
    "Check for missing values"
   ]
  },
  {
   "cell_type": "code",
   "execution_count": 1237,
   "id": "43f10ea8",
   "metadata": {},
   "outputs": [
    {
     "data": {
      "text/plain": [
       "Date           0\n",
       "Match          0\n",
       "Bet Type      88\n",
       "Bet Amount     0\n",
       "Odds           0\n",
       "Profit         0\n",
       "Win/Loss       0\n",
       "dtype: int64"
      ]
     },
     "execution_count": 1237,
     "metadata": {},
     "output_type": "execute_result"
    }
   ],
   "source": [
    "football_data.isnull().sum()"
   ]
  },
  {
   "cell_type": "code",
   "execution_count": 1238,
   "id": "0e46c5b5",
   "metadata": {},
   "outputs": [
    {
     "data": {
      "text/plain": [
       "array(['60 ao 70', '10 ao 20', '20 ao 30', 'Gols', '00 ao 10',\n",
       "       'Escanteio', 'Vencedor', '50 ao 60', '00 a 10', '30 ao 40', nan,\n",
       "       'Cartões', '70 ao 80', 'Asiáticos', '00 a 10 ', 'Multipla',\n",
       "       'aos 30', '20 aos 30', '10 aos 20', '60 aos 70', '20 a 30',\n",
       "       '10 a 20', '60 a 70', '80 a 90', '70 a 80', '30 a 40', '50 a 60',\n",
       "       'Múltipla', '20 a 30 ', '2 marcam', 'gols', 'Mult', 'Pedro',\n",
       "       '60 a 70 ', 'Gols duplo'], dtype=object)"
      ]
     },
     "execution_count": 1238,
     "metadata": {},
     "output_type": "execute_result"
    }
   ],
   "source": [
    "football_data['Bet Type'].unique()"
   ]
  },
  {
   "cell_type": "markdown",
   "id": "a138e99a",
   "metadata": {},
   "source": [
    "replaced null with zero"
   ]
  },
  {
   "cell_type": "code",
   "execution_count": 1239,
   "id": "3746991c",
   "metadata": {},
   "outputs": [],
   "source": [
    "football_data.fillna(0, inplace=True)"
   ]
  },
  {
   "cell_type": "code",
   "execution_count": 1240,
   "id": "1d44c48a",
   "metadata": {},
   "outputs": [
    {
     "data": {
      "text/plain": [
       "Bet Type\n",
       "00 a 10       257\n",
       "20 ao 30      193\n",
       "60 ao 70      174\n",
       "Gols          148\n",
       "10 ao 20      147\n",
       "20 a 30       125\n",
       "10 a 20       103\n",
       "60 a 70        92\n",
       "0              88\n",
       "00 ao 10       85\n",
       "30 a 40        22\n",
       "30 ao 40       17\n",
       "70 a 80        15\n",
       "50 a 60        11\n",
       "50 ao 60       10\n",
       "70 ao 80       10\n",
       "Asiáticos       8\n",
       "80 a 90         8\n",
       "20 a 30         5\n",
       "20 aos 30       4\n",
       "Multipla        4\n",
       "aos 30          2\n",
       "2 marcam        2\n",
       "60 aos 70       1\n",
       "10 aos 20       1\n",
       "00 a 10         1\n",
       "Cartões         1\n",
       "Vencedor        1\n",
       "Múltipla        1\n",
       "Escanteio       1\n",
       "gols            1\n",
       "Mult            1\n",
       "Pedro           1\n",
       "60 a 70         1\n",
       "Gols duplo      1\n",
       "Name: count, dtype: int64"
      ]
     },
     "execution_count": 1240,
     "metadata": {},
     "output_type": "execute_result"
    }
   ],
   "source": [
    "football_data['Bet Type'].value_counts()"
   ]
  },
  {
   "cell_type": "markdown",
   "id": "fe8f4b59",
   "metadata": {},
   "source": [
    "Normalize the data lowercased, stripped, and accents removed\n"
   ]
  },
  {
   "cell_type": "code",
   "execution_count": 1241,
   "id": "ef01cc72",
   "metadata": {},
   "outputs": [
    {
     "name": "stdout",
     "output_type": "stream",
     "text": [
      "Unique Bet Type: 35\n"
     ]
    }
   ],
   "source": [
    "print(\"Unique Bet Type:\", football_data['Bet Type'].nunique())\n"
   ]
  },
  {
   "cell_type": "code",
   "execution_count": 1242,
   "id": "a9eac4bd",
   "metadata": {},
   "outputs": [],
   "source": [
    "def normalize_bet_type(value):\n",
    "    if pd.isna(value):\n",
    "        return value\n",
    "    return unidecode.unidecode(str(value).strip().lower())\n",
    "\n",
    "football_data['Bet Type'] = football_data['Bet Type'].apply(normalize_bet_type)"
   ]
  },
  {
   "cell_type": "markdown",
   "id": "5517f435",
   "metadata": {},
   "source": [
    "Standardize the time ranges from \"10 ao 20\" or 10 a 20 to 10-20"
   ]
  },
  {
   "cell_type": "code",
   "execution_count": 1243,
   "id": "ae5d2c62",
   "metadata": {},
   "outputs": [],
   "source": [
    "def standardize_time_ranges(value):\n",
    "    if isinstance(value, str):\n",
    "        return (\n",
    "            value.replace(\" a \", \"-\")\n",
    "                 .replace(\" ao \", \"-\")\n",
    "                 .replace(\" aos \", \"-\")\n",
    "                 .strip()\n",
    "        )\n",
    "    return value\n",
    "football_data['Bet Type'] = football_data['Bet Type'].apply(standardize_time_ranges)"
   ]
  },
  {
   "cell_type": "code",
   "execution_count": 1244,
   "id": "d21ff0ca",
   "metadata": {},
   "outputs": [
    {
     "data": {
      "text/plain": [
       "Bet Type\n",
       "00-10         343\n",
       "20-30         327\n",
       "60-70         268\n",
       "10-20         251\n",
       "gols          149\n",
       "0              88\n",
       "30-40          39\n",
       "70-80          25\n",
       "50-60          21\n",
       "asiaticos       8\n",
       "80-90           8\n",
       "multipla        5\n",
       "2 marcam        2\n",
       "aos 30          2\n",
       "pedro           1\n",
       "mult            1\n",
       "cartoes         1\n",
       "vencedor        1\n",
       "escanteio       1\n",
       "gols duplo      1\n",
       "Name: count, dtype: int64"
      ]
     },
     "execution_count": 1244,
     "metadata": {},
     "output_type": "execute_result"
    }
   ],
   "source": [
    "football_data['Bet Type'].value_counts()"
   ]
  },
  {
   "cell_type": "code",
   "execution_count": 1245,
   "id": "56480f0d",
   "metadata": {},
   "outputs": [],
   "source": [
    "#remove damaged data\n",
    "football_data = football_data[football_data['Bet Type'] != 'Pedro']"
   ]
  },
  {
   "cell_type": "markdown",
   "id": "dabb90d6",
   "metadata": {},
   "source": [
    "Group rare bet types into \"Others\""
   ]
  },
  {
   "cell_type": "code",
   "execution_count": 1246,
   "id": "cd57318b",
   "metadata": {},
   "outputs": [],
   "source": [
    "threshold = 10\n",
    "\n",
    "value_counts = football_data['Bet Type'].value_counts()\n",
    "\n",
    "rare_types = value_counts[value_counts < threshold].index\n",
    "\n",
    "def group_rare_bet_types(bet_type):\n",
    "    if bet_type in rare_types:\n",
    "        return 'Other'\n",
    "    return bet_type\n",
    "\n",
    "football_data['Bet Type'] = football_data['Bet Type'].apply(group_rare_bet_types)"
   ]
  },
  {
   "cell_type": "code",
   "execution_count": 1247,
   "id": "cc2c57c5",
   "metadata": {},
   "outputs": [
    {
     "data": {
      "text/plain": [
       "Bet Type\n",
       "00-10    343\n",
       "20-30    327\n",
       "60-70    268\n",
       "10-20    251\n",
       "gols     149\n",
       "0         88\n",
       "30-40     39\n",
       "Other     31\n",
       "70-80     25\n",
       "50-60     21\n",
       "Name: count, dtype: int64"
      ]
     },
     "execution_count": 1247,
     "metadata": {},
     "output_type": "execute_result"
    }
   ],
   "source": [
    "football_data['Bet Type'].value_counts()"
   ]
  },
  {
   "cell_type": "code",
   "execution_count": 1248,
   "id": "5bdda1a8",
   "metadata": {},
   "outputs": [
    {
     "name": "stdout",
     "output_type": "stream",
     "text": [
      "Unique Bet Type: 10\n"
     ]
    }
   ],
   "source": [
    "print(\"Unique Bet Type:\", football_data['Bet Type'].nunique())\n",
    "#reduced from 35 to 10"
   ]
  },
  {
   "cell_type": "code",
   "execution_count": 1249,
   "id": "5ce83b32",
   "metadata": {},
   "outputs": [
    {
     "data": {
      "text/plain": [
       "Date           object\n",
       "Match          object\n",
       "Bet Type       object\n",
       "Bet Amount      int64\n",
       "Odds          float64\n",
       "Profit        float64\n",
       "Win/Loss       object\n",
       "dtype: object"
      ]
     },
     "execution_count": 1249,
     "metadata": {},
     "output_type": "execute_result"
    }
   ],
   "source": [
    "football_data.dtypes"
   ]
  },
  {
   "cell_type": "markdown",
   "id": "19529f24",
   "metadata": {},
   "source": [
    "splits the column \"Match\" to be \"Home Team\" and \"Away Team\". "
   ]
  },
  {
   "cell_type": "markdown",
   "id": "8ac66fc6",
   "metadata": {},
   "source": [
    "Checked sample data with https://www.football-data.org/coverage that it matches. Home and Away team"
   ]
  },
  {
   "cell_type": "code",
   "execution_count": 1250,
   "id": "0781bd20",
   "metadata": {},
   "outputs": [],
   "source": [
    "#remove known bad data\n",
    "football_data = football_data[football_data['Match'] != 'Múltipla 4']\n",
    "\n",
    "# Split the 'Match' column into 'Home Team' and 'Away Team'\n",
    "football_data[['Home Team', 'Away Team']] = football_data['Match'].str.split(' x ', expand=True)\n",
    "\n",
    "\n",
    "\n",
    "#drop match column\n",
    "football_data = football_data.drop(columns=['Match'])\n",
    "\n",
    "new_order = ['Date', 'Home Team', 'Away Team', 'Bet Type', 'Bet Amount', 'Odds', 'Profit', 'Win/Loss']\n",
    "\n",
    "#Reorder the columns\n",
    "football_data = football_data[new_order]"
   ]
  },
  {
   "cell_type": "code",
   "execution_count": 1251,
   "id": "cf754f80",
   "metadata": {},
   "outputs": [
    {
     "data": {
      "text/html": [
       "<div>\n",
       "<style scoped>\n",
       "    .dataframe tbody tr th:only-of-type {\n",
       "        vertical-align: middle;\n",
       "    }\n",
       "\n",
       "    .dataframe tbody tr th {\n",
       "        vertical-align: top;\n",
       "    }\n",
       "\n",
       "    .dataframe thead th {\n",
       "        text-align: right;\n",
       "    }\n",
       "</style>\n",
       "<table border=\"1\" class=\"dataframe\">\n",
       "  <thead>\n",
       "    <tr style=\"text-align: right;\">\n",
       "      <th></th>\n",
       "      <th>Date</th>\n",
       "      <th>Home Team</th>\n",
       "      <th>Away Team</th>\n",
       "      <th>Bet Type</th>\n",
       "      <th>Bet Amount</th>\n",
       "      <th>Odds</th>\n",
       "      <th>Profit</th>\n",
       "      <th>Win/Loss</th>\n",
       "    </tr>\n",
       "  </thead>\n",
       "  <tbody>\n",
       "    <tr>\n",
       "      <th>364</th>\n",
       "      <td>2022-08-02</td>\n",
       "      <td>Colon X Indepediente</td>\n",
       "      <td>None</td>\n",
       "      <td>10-20</td>\n",
       "      <td>10</td>\n",
       "      <td>1.53</td>\n",
       "      <td>5.3</td>\n",
       "      <td>Green</td>\n",
       "    </tr>\n",
       "    <tr>\n",
       "      <th>655</th>\n",
       "      <td>2022-08-21</td>\n",
       "      <td>Leeds X Chelsea</td>\n",
       "      <td>None</td>\n",
       "      <td>20-30</td>\n",
       "      <td>10</td>\n",
       "      <td>1.50</td>\n",
       "      <td>5.0</td>\n",
       "      <td>Green</td>\n",
       "    </tr>\n",
       "    <tr>\n",
       "      <th>944</th>\n",
       "      <td>2022-09-08</td>\n",
       "      <td>SP X Atl Go</td>\n",
       "      <td>None</td>\n",
       "      <td>10-20</td>\n",
       "      <td>10</td>\n",
       "      <td>1.44</td>\n",
       "      <td>4.4</td>\n",
       "      <td>Green</td>\n",
       "    </tr>\n",
       "  </tbody>\n",
       "</table>\n",
       "</div>"
      ],
      "text/plain": [
       "           Date             Home Team Away Team Bet Type  Bet Amount  Odds  \\\n",
       "364  2022-08-02  Colon X Indepediente      None    10-20          10  1.53   \n",
       "655  2022-08-21       Leeds X Chelsea      None    20-30          10  1.50   \n",
       "944  2022-09-08           SP X Atl Go      None    10-20          10  1.44   \n",
       "\n",
       "     Profit Win/Loss  \n",
       "364     5.3    Green  \n",
       "655     5.0    Green  \n",
       "944     4.4    Green  "
      ]
     },
     "execution_count": 1251,
     "metadata": {},
     "output_type": "execute_result"
    }
   ],
   "source": [
    "football_data[football_data['Away Team'].isnull()]"
   ]
  },
  {
   "cell_type": "markdown",
   "id": "f3e62b9e",
   "metadata": {},
   "source": [
    "manuel fix for the damaged data"
   ]
  },
  {
   "cell_type": "code",
   "execution_count": 1252,
   "id": "ec4996ad",
   "metadata": {},
   "outputs": [],
   "source": [
    "\n",
    "football_data['Home Team'] = football_data['Home Team'].str.lower().str.strip()\n",
    "\n",
    "manual_fix_map = {\n",
    "    'colon x indepediente': ['Colon', 'Indepediente'],\n",
    "    'leeds x chelsea': ['Leeds', 'Chelsea'],\n",
    "    'sp x atl go': ['SP', 'Atl Go']\n",
    "}\n",
    "\n",
    "for bad_value, (home_fixed, away_fixed) in manual_fix_map.items():\n",
    "    mask = (football_data['Home Team'] == bad_value) & (football_data['Away Team'].isnull())\n",
    "    football_data.loc[mask, 'Home Team'] = home_fixed\n",
    "    football_data.loc[mask, 'Away Team'] = away_fixed"
   ]
  },
  {
   "cell_type": "code",
   "execution_count": 1253,
   "id": "43e5c154",
   "metadata": {},
   "outputs": [
    {
     "data": {
      "text/html": [
       "<div>\n",
       "<style scoped>\n",
       "    .dataframe tbody tr th:only-of-type {\n",
       "        vertical-align: middle;\n",
       "    }\n",
       "\n",
       "    .dataframe tbody tr th {\n",
       "        vertical-align: top;\n",
       "    }\n",
       "\n",
       "    .dataframe thead th {\n",
       "        text-align: right;\n",
       "    }\n",
       "</style>\n",
       "<table border=\"1\" class=\"dataframe\">\n",
       "  <thead>\n",
       "    <tr style=\"text-align: right;\">\n",
       "      <th></th>\n",
       "      <th>Date</th>\n",
       "      <th>Home Team</th>\n",
       "      <th>Away Team</th>\n",
       "      <th>Bet Type</th>\n",
       "      <th>Bet Amount</th>\n",
       "      <th>Odds</th>\n",
       "      <th>Profit</th>\n",
       "      <th>Win/Loss</th>\n",
       "    </tr>\n",
       "  </thead>\n",
       "  <tbody>\n",
       "  </tbody>\n",
       "</table>\n",
       "</div>"
      ],
      "text/plain": [
       "Empty DataFrame\n",
       "Columns: [Date, Home Team, Away Team, Bet Type, Bet Amount, Odds, Profit, Win/Loss]\n",
       "Index: []"
      ]
     },
     "execution_count": 1253,
     "metadata": {},
     "output_type": "execute_result"
    }
   ],
   "source": [
    "football_data[football_data['Away Team'].isnull()]"
   ]
  },
  {
   "cell_type": "markdown",
   "id": "61b6e23e",
   "metadata": {},
   "source": [
    "Standardize the team names"
   ]
  },
  {
   "cell_type": "code",
   "execution_count": 1254,
   "id": "7571e049",
   "metadata": {},
   "outputs": [
    {
     "data": {
      "text/plain": [
       "array(['inglaterra', 'ayacucho', 'lara', 'guairena', 'cordoba',\n",
       "       'belgrano', 'mar', 'cruzeiro', 'col', 'brusque', 'huachipate',\n",
       "       'braga', 'colorado', 'dallas', 'patchuca', 'galaxy', 'morelia',\n",
       "       'boca', 'libertad', 'inter', 'sucre', 'hailstorm', 'ready',\n",
       "       'argentinos', 'colon', 'ceara', 'palmeiras', 'detroit', 'mineros',\n",
       "       'river', 'melgar', 'union', 'lanus', 'stalbaek', 'asane',\n",
       "       'patriotas', 'selangor', 'aksur', 'forest', 'chicago', 'vila',\n",
       "       'celaya', 'rosário', 'dynamo', 'portim', 'brighton', 'nyc',\n",
       "       'lorenzo', 'atlanta', 'goias', 'platense', 'petrolero',\n",
       "       'millionarios', 'houston', 'gualaceo', 'unido', 'pepo', 'pif',\n",
       "       'rosemberg', 'kalmar', 'jorge w.', 'tolima', 'velez', 'ilves',\n",
       "       'defensa', 'bagre', 'varnamo', 'guabira', 'turan', 'din', 'talaea',\n",
       "       'el zamalek', 'alianza', 'banfield', 'austin', 'cimarrones',\n",
       "       'cortuba', 'dc united', 'breidablik', 'operario', 'resistencia',\n",
       "       'huracan', 'estudiantes', 'albion', 'a', 'plaza colonia',\n",
       "       'red bulls', 'sarmiento', 'all boys', 'juarez', 'norrkoping',\n",
       "       'poznan', 'dalkurd', 'ituano', 'rentistas', 'pk', 'helsinki',\n",
       "       'djurgarden', 'arges', 'mariehamn', 'trnava', 'young boys',\n",
       "       'ham-kam', 'argentinos jrs', 'future', 'cluj', 'crb', 'cap',\n",
       "       'orense', 'sampaio', 'guarani', 'flamengo', 'wanderes',\n",
       "       'ind. petrolero', 'avaí', 'huancayo', 'olimpia', 'palmaflor',\n",
       "       'fire', 'ceará', 'ldu', 'montreal', 'tec. univ.', 'santos',\n",
       "       'vesteras', 'garbania', 'dangjin', 'hansa', 'braunschweig',\n",
       "       'viborg', 'lyngby', 'aik', 'wisla', 'gotemburgo', 'ju',\n",
       "       'bonnyrigg', 'servette', 'pogon', 'constanta', 'copenhagen',\n",
       "       'gnistan', 'santa fé', 'cantolao', 'la serena', 'guilhermo',\n",
       "       'grorud', 'varbergs', 'odense', 'pharco', 'eskilstuna', 'petrolul',\n",
       "       'makasa', 'islandia', 'cajamarca', 'sport', 'pachuca',\n",
       "       'santamarina', 'once caldas', 'zalgiris', 'norby', 'bahia',\n",
       "       'londrina', 'vasco', 'atletico', 'jaro', 'legia', 'haifa',\n",
       "       'maribor', 'ferencvarosi', 'niksic', 'rbb', 'corinthians', 'rakow',\n",
       "       'rosario', 'nacional', 'cuiabá', 'darmstadt', 'hokoah',\n",
       "       'jonkopings', 'voluntari', 'gallen', 'ameliano', 'orlando city',\n",
       "       'columbus', 'botafogo', 'everton', 'guayaquil', 'el paso',\n",
       "       'sounders', 'whitecaps', 'salt lake', 'timbers', 'mechelen',\n",
       "       'kristiansand', 'westerlo', 'hafnarfjordur', 'aldosivi', 'atl mg',\n",
       "       'univ catolica', 'fortaleza', '12 de outubro', 'uta arad',\n",
       "       'akranes', 'san lorenzo', 'cerro', 'deportivo', 'san martin',\n",
       "       'pyramids', 'slovan', 'real tomayapo', 'olympiakos', 'univ sucre',\n",
       "       'liverpool', 'necaxa', 'the strongest', 'atl go', 'cesar vallejo',\n",
       "       'roots', 'vaduz', 'streda', 'puskas', 'sp', 'blooming', 'junior',\n",
       "       'dagerfors', 'nyboking', 'stjarnan', 'fremad', 'sturm',\n",
       "       'middlesbrough', 'sundsvall', 'radomiak', 'miedz', 'clui', 'gent',\n",
       "       'min unit', 'coritiba', 'novorizontino', 'charllote', 'hartford',\n",
       "       'ne', 'sa', 'kansas', 'jablonec', 'kralove', 'molde', 'stabaek',\n",
       "       'austria', 'celtic', 'sparta', 'craiova', 'athletico', 'sporting',\n",
       "       'dc', 'bragantino', 'hfk', 'sochaux', 'watford', 'zamalek',\n",
       "       '9 de outubro', 'Colon', 'instituto', 'wolfsberger', 'al ahly',\n",
       "       'dunajska', 'univ de vinto', 'rubio', 'ny', 'maryland', 'enppi',\n",
       "       'osters', 'brondby', 'el masry', 'real espanha', 'cagliari',\n",
       "       'sezana', 'sandhausen', 'hvidovre', 'randers', 'lafnitz', 'lecce',\n",
       "       'caballero', 'universitário', 'suburbs', 'nordsjaelland', 'pisa',\n",
       "       'rosenborg', 'reid', 'dortmund', 'rostock', 'clemont',\n",
       "       'binacional', 'empoli', 'charlotte', 'zurique', 'veijle',\n",
       "       'man united', 'stuttgart', 'fenix', 'montpellier', 'venezia',\n",
       "       'santa clara', 'rennes', 'slavia', 'giresunspor', 'valerenga',\n",
       "       'danubio', 'flu', 'newells', 'aurora', 'botosani', 'ankaragucu',\n",
       "       'bologna', 'caen', 'barranquilha', 'nanjing', 'viktoria', 'skovde',\n",
       "       'norrby', 'bank of egypt', 'cucuta', 'gremio', 'ponte preta',\n",
       "       'csa', 'ny red bulls', 'al arab', 'real madrid', 'ismaily',\n",
       "       'basel', 'rapid', 'az', 'montevideo', 'tapatio', 'univ sacre',\n",
       "       'queretaro', 'haka', 'hobro', 'fredericia', 'horsens', 'nantes',\n",
       "       'metropolitano', 'ny rb', 'coquimbo', 'patronato', 'bucaramanga',\n",
       "       'runa', 'orange', 'aston villa', 'leipzig', 'monaco', 'sion',\n",
       "       'eibar', 'brentford', 'schalke', 'valladolid', 'goiás', 'monza',\n",
       "       'strongest', 'penarol', 'mont bay', 'hannover', 'kupio',\n",
       "       'nttm forest', 'mainz', 'chelsea', 'nublense', 'racing', 'bilbao',\n",
       "       'konyaspor', 'aarhus', 'juventus', 'cartagena', 'la equidad', 'mp',\n",
       "       'san miguelito', 'audax', 'atlas', 'indepediente', 'mazatlan',\n",
       "       'al sahadd', 'hillerod', 'al shamal', 'vejle', 'qarabag',\n",
       "       'torshavn', 'kolubara', 'dynamo kiev', 'maccabi haifa',\n",
       "       'antofagasta', 'tigre', 'criciuma', 'oeste', 'athletico pr',\n",
       "       \"o'higgins\", 'maccabi tel aviv', 'barracas', 'univ craiova',\n",
       "       'west ham', 'atletico cali', 'alajuelense', 'america mg', 'pumas',\n",
       "       'mioveni', 'estoril', 'gladbach', 'bari', 'sevilla', 'norwich',\n",
       "       'tomayapo', 'cerrito', 'sol de america', 'gijón', 'bodo/glimt',\n",
       "       'hatayspor', 'boleslav', 'sturm graz', 'dep. municipal', 'amiens',\n",
       "       'atlético fênix', 'atlético mg', 'celta de vigo', 'ascoli',\n",
       "       'bolivar', 'fluminense', 'Leeds', 'liberec', 'frankfurt',\n",
       "       'juventude', 'casa pia', 'atlético madrid', 'unión española',\n",
       "       'atl. morélia', 'arg jrs', 'groud', 'roufoss', 'leiknir',\n",
       "       'man unit', 'sampdoria', 'univ chile', 'dep maldonado', 'avai',\n",
       "       'guayaquill', 'roma', 'central', 'al rayan', 'al saad', 'orebro',\n",
       "       'bolton', 'herediano', 'la paz', 'umm salal', 'helsingborg',\n",
       "       'tranmere', 'trabzonspor', 'quilmes', 'tulsa', 'cibao', 'dorados',\n",
       "       'kpv', 'silkeborg', 'hapoel', 'sivasspor', 'nice', 'hearts',\n",
       "       'always ready', 'vila nova', 'potosi', 'sagan tusu', 'cannons',\n",
       "       'green gully', 'lahti', 'gornik', 'nikobing', 'eindhoven',\n",
       "       'girona', 'lazio', 'luton', 'freiburg', 'paços', 'boston', 'oxaca',\n",
       "       'general caballero', 'bordeaux', 'man city', 'lustenau',\n",
       "       'leicester', 'elche', 'jerv', 'arsenal', 'boavista', 'quevilly',\n",
       "       'nurberg', 'milan', 'lenns', 'vinto', 'torque', 'koln', 'vaasa',\n",
       "       'mjondalen', 'start', 'konyanspor', 'djugarden', 'como',\n",
       "       'corinthains', 'fastav', 'sassuolo', 'cralova', 'leeds', 'benfica',\n",
       "       'c. palace', 'tombense', 'tuzla city', 'viktoria plzen',\n",
       "       'al-arab doha', 'alacranes', 'philadelphia', 'valour', 'del valle',\n",
       "       'hvdovre', 'sandvikens', 'klasvik', 'anderlecht', 'atalanta',\n",
       "       'helsingor', 'horn', 'nautico', 'emelec', 'ternana',\n",
       "       'union berlim', 'genoa', 'leverkusen', 'bodo', 'armstetten',\n",
       "       'dep municipal', 'antwerp', 'sudtirol', 'lask', 'sogndal',\n",
       "       'salernitana', 'galatasaray', 'u. craiova', 'chaves',\n",
       "       'def y justicia', 'delfin', 'oriente petrolero', 'zagreb',\n",
       "       'trelleborgs', 'psg', 'envigado', 'univ. vinto', 'yokohama',\n",
       "       'jeonbuk', 'tokyo', 'vissel', 'deagu', 'ajax', 'barcelona',\n",
       "       'tottenham', 'gen caballero', 'univ. chile', 'venados',\n",
       "       'mohamedia', 'colo colo', 'real espana', 'SP', 'diriangen',\n",
       "       'tetoua', 'nurnberg', 'sonderjyske', 'top oss', 'floridsdorfer',\n",
       "       'werder bremen', 'vilafranquense', 'seoul', 'brommapojkarna',\n",
       "       'paderborn', 'lugo', 'parma', 'cosenza', 'vasteras', 'benevento',\n",
       "       'bayer', 'nashville', 'alianza lima', 'plaza', 'forge',\n",
       "       'portuguesa', 'hammarby', 'aucas', 'kongsvinger', 'jagiellonia',\n",
       "       'estrela', 'demirspor', 'vizela', 'ferro castil', 'bayern',\n",
       "       'marselha', 'shaktar', 'cobresal', 'sheriff', 'def sportig',\n",
       "       'america cali', 'al attihad', 'braunschwreig', 'brescia',\n",
       "       'gil vicente', 'dep brasil', 'krakow', 'fortuna', 'mouloudia',\n",
       "       'univ deportes', 'real salt lake', 'midtjylland', 'raja',\n",
       "       'hoffenheim', 'fla', 'pacific', 'feirense', 'nac assuncion',\n",
       "       'boston river', 'boca jr', 'san antonio', 'cortulua', 'croacia',\n",
       "       'belgica', 'polonia', 'aguilas', 'atl morelia', 'dep. maldonado',\n",
       "       'ind. del valle', 'sao caetano', 'dinamarca', 'país de gales',\n",
       "       'paises baixos', 'indy', 'cerro porteno', 'brasil', 'noruega',\n",
       "       'portugal', 'raya 2', 'honduras', 'royal pari', 'ind santa fé',\n",
       "       'first vienna', 'tampines', 'greuther', 'holstein', 'spal',\n",
       "       'vendsyssel', 'cittadella', 'nykobing', 'southampton',\n",
       "       'crystal palace', 'salzburg', 'wolfsburg', 'lillestrom',\n",
       "       'tec. universitário', 'al seeb', 'bayer munique', 'porto',\n",
       "       'godoy cruz', 'nacional potosi', 'leones negros', 'pumas tabasco',\n",
       "       'jorge willstermann', 'america', 'amstetten', 'austria vienna',\n",
       "       'vowarts', 'adanaspor', 'lyon', 'maldonado', 'huachipato',\n",
       "       'jaguares', 'hamburgo', 'reims', 'burgos', 'union espanola',\n",
       "       'dep. pasto', 'ostersunds', 'boa vista', 'zaragoza', 'radomlje',\n",
       "       'kfum', 'gliwice', 'alianza petrolera', 'wigan', 'cerro largo',\n",
       "       'raya2', 'ferro carril', 'dep. pereira', 'jokopings', 'potosí',\n",
       "       'alavés', 'rangers', 'feyenoord', 'river uru', 'fcsb', 'guaraní',\n",
       "       'r. tomayapo', 'san lorenzo res', 'banfield res', 'talleres res',\n",
       "       'pazar', 'lodz', 'mas fes', 'defensa y justicia', 'boyaca',\n",
       "       'fullham', 'wolverhampton', 'lorient', 'klagenfurt', 'torino',\n",
       "       'sittard', 'estrela amadora', 'huesca', 'eagles', 'plodiv',\n",
       "       'tigre res', 'racing res', 'al akhdod', 'brann', 'landskrona',\n",
       "       'bastia', 'villareal', 'hermmanstadt', 'grazer', 'lucerne',\n",
       "       'tambetary', 'augsburg', 'union española', 'el hodoud', 'hammaby',\n",
       "       'mannuci', 'skalica', 'liefering', 'opava', 'ajjacio',\n",
       "       'widzew lodz', 'brugge', 'chape', 'dep cuenca', 'farmalicão',\n",
       "       'montpelier', 'legia varsovia', 'hamkam', 'valência', 'rkc',\n",
       "       'estoril praia', 'belenenses', 'america de cali', 'cumbaya',\n",
       "       'ploiesti', 'sirius', 'ajax b', 'zaglebie', 'celta', 'krsko',\n",
       "       'rabat', 'napoli', 'atl. progreso', 'univ. de chile',\n",
       "       'dinamo bucareste', 'berkane', 'são paulo', 'cerro porteño',\n",
       "       'blagoevgrad', 'sigma', 'targoviste', 'kardzhali', 'st polten',\n",
       "       'greuther furth', 'magdeburg', 'vvv', 'paços ferreira',\n",
       "       'san antonio fc', 'heerenveen', 'stromsgodset', 'leganes',\n",
       "       'colo-colo', 'giannina', 'botev', 'verona', 'elfsborg'],\n",
       "      dtype=object)"
      ]
     },
     "execution_count": 1254,
     "metadata": {},
     "output_type": "execute_result"
    }
   ],
   "source": [
    "football_data['Home Team'].unique()"
   ]
  },
  {
   "cell_type": "code",
   "execution_count": 1255,
   "id": "ce94965c",
   "metadata": {},
   "outputs": [
    {
     "name": "stdout",
     "output_type": "stream",
     "text": [
      "Unique home teams: 784\n",
      "Unique away teams: 885\n"
     ]
    }
   ],
   "source": [
    "print(\"Unique home teams:\", football_data['Home Team'].nunique())\n",
    "print(\"Unique away teams:\", football_data['Away Team'].nunique())\n"
   ]
  },
  {
   "cell_type": "code",
   "execution_count": 1256,
   "id": "dd094be6",
   "metadata": {},
   "outputs": [
    {
     "data": {
      "text/plain": [
       "Date          0\n",
       "Home Team     0\n",
       "Away Team     0\n",
       "Bet Type      0\n",
       "Bet Amount    0\n",
       "Odds          0\n",
       "Profit        0\n",
       "Win/Loss      0\n",
       "dtype: int64"
      ]
     },
     "execution_count": 1256,
     "metadata": {},
     "output_type": "execute_result"
    }
   ],
   "source": [
    "football_data.isnull().sum()"
   ]
  },
  {
   "cell_type": "code",
   "execution_count": 1257,
   "id": "002a6407",
   "metadata": {},
   "outputs": [],
   "source": [
    "#normalize team names\n",
    "football_data['Home Team'] = football_data['Home Team'].str.lower().str.strip()\n",
    "football_data['Away Team'] = football_data['Away Team'].str.lower().str.strip()\n",
    "\n"
   ]
  },
  {
   "cell_type": "code",
   "execution_count": 1258,
   "id": "85c7a77f",
   "metadata": {},
   "outputs": [],
   "source": [
    "team_name_map = {\n",
    "    # Fix accents and formatting\n",
    "    'rosário': 'rosario',\n",
    "    'atlético mg': 'atl mg',\n",
    "    'atlético fênix': 'atl fênix',\n",
    "    'atlético madrid': 'atletico madrid',\n",
    "    'universitário': 'universitario',\n",
    "    'ceará': 'ceara',\n",
    "    'cuiabá': 'cuiaba',\n",
    "    'san lorenzo res': 'san lorenzo',\n",
    "    'banfield res': 'banfield',\n",
    "    'talleres res': 'talleres',\n",
    "    '  gremio': 'gremio',\n",
    "    'croácia': 'croatia',\n",
    "    'países baixos': 'netherlands',\n",
    "    'santa fé': 'santa fe',\n",
    "    'atl fenix': 'atl fênix',\n",
    "    'atlético go': 'atl go',\n",
    "    'indepediente': 'independiente',\n",
    "    'gales': 'wales',\n",
    "    'del valle': 'ind. del valle',\n",
    "    \n",
    "    # Consolidate naming variations\n",
    "    'ny rb': 'ny red bulls',\n",
    "    'nyc': 'ny city',\n",
    "    'ny': 'ny city',\n",
    "    'charllote': 'charlotte',\n",
    "    'ny red bulls': 'ny red bulls',  # unify spelling\n",
    "    \n",
    "    # Translate or unify other known aliases\n",
    "    'zurique': 'zurich',\n",
    "    'guilhermo': 'guillermo',\n",
    "    'vila': 'vila nova',\n",
    "    'croacia': 'croatia',\n",
    "    'dinamarca': 'denmark',\n",
    "    'país de gales': 'wales',\n",
    "    'paises baixos': 'netherlands',\n",
    "    'espanha': 'spain',\n",
    "    'alemanha': 'germany',\n",
    "    'frança': 'france',\n",
    "    'islandia': 'iceland',\n",
    "    'nikobing': 'nykobing',\n",
    "}\n",
    "\n",
    "football_data['Home Team'] = football_data['Home Team'].replace(team_name_map)\n",
    "football_data['Away Team'] = football_data['Away Team'].replace(team_name_map)\n"
   ]
  },
  {
   "cell_type": "code",
   "execution_count": 1259,
   "id": "20a31d34",
   "metadata": {},
   "outputs": [],
   "source": [
    "#remove damaged data\n",
    "bad_teams = ['A', 'B', 'FF', 'PK', 'Múltipla 4']\n",
    "football_data = football_data[\n",
    "    ~football_data['Home Team'].isin(bad_teams) &\n",
    "    ~football_data['Away Team'].isin(bad_teams)\n",
    "]"
   ]
  },
  {
   "cell_type": "code",
   "execution_count": 1260,
   "id": "9f4c160f",
   "metadata": {},
   "outputs": [
    {
     "name": "stdout",
     "output_type": "stream",
     "text": [
      "Unique home teams: 770\n",
      "Unique away teams: 792\n"
     ]
    }
   ],
   "source": [
    "print(\"Unique home teams:\", football_data['Home Team'].nunique())\n",
    "print(\"Unique away teams:\", football_data['Away Team'].nunique())\n"
   ]
  },
  {
   "cell_type": "code",
   "execution_count": 1261,
   "id": "36b41251",
   "metadata": {},
   "outputs": [
    {
     "data": {
      "text/html": [
       "<div>\n",
       "<style scoped>\n",
       "    .dataframe tbody tr th:only-of-type {\n",
       "        vertical-align: middle;\n",
       "    }\n",
       "\n",
       "    .dataframe tbody tr th {\n",
       "        vertical-align: top;\n",
       "    }\n",
       "\n",
       "    .dataframe thead th {\n",
       "        text-align: right;\n",
       "    }\n",
       "</style>\n",
       "<table border=\"1\" class=\"dataframe\">\n",
       "  <thead>\n",
       "    <tr style=\"text-align: right;\">\n",
       "      <th></th>\n",
       "      <th>Date</th>\n",
       "      <th>Home Team</th>\n",
       "      <th>Away Team</th>\n",
       "      <th>Bet Type</th>\n",
       "      <th>Bet Amount</th>\n",
       "      <th>Odds</th>\n",
       "      <th>Profit</th>\n",
       "      <th>Win/Loss</th>\n",
       "    </tr>\n",
       "  </thead>\n",
       "  <tbody>\n",
       "    <tr>\n",
       "      <th>133</th>\n",
       "      <td>2022-07-16</td>\n",
       "      <td>arges</td>\n",
       "      <td>arad</td>\n",
       "      <td>10-20</td>\n",
       "      <td>10</td>\n",
       "      <td>1.66</td>\n",
       "      <td>6.6</td>\n",
       "      <td>Green</td>\n",
       "    </tr>\n",
       "    <tr>\n",
       "      <th>557</th>\n",
       "      <td>2022-08-15</td>\n",
       "      <td>bilbao</td>\n",
       "      <td>mallorca</td>\n",
       "      <td>50-60</td>\n",
       "      <td>10</td>\n",
       "      <td>1.53</td>\n",
       "      <td>5.3</td>\n",
       "      <td>Green</td>\n",
       "    </tr>\n",
       "    <tr>\n",
       "      <th>1330</th>\n",
       "      <td>2022-10-12</td>\n",
       "      <td>rangers</td>\n",
       "      <td>liverpool</td>\n",
       "      <td>00-10</td>\n",
       "      <td>40</td>\n",
       "      <td>1.50</td>\n",
       "      <td>20.0</td>\n",
       "      <td>Red</td>\n",
       "    </tr>\n",
       "    <tr>\n",
       "      <th>14</th>\n",
       "      <td>2022-07-04</td>\n",
       "      <td>colorado</td>\n",
       "      <td>austin</td>\n",
       "      <td>00-10</td>\n",
       "      <td>10</td>\n",
       "      <td>1.53</td>\n",
       "      <td>5.3</td>\n",
       "      <td>Green</td>\n",
       "    </tr>\n",
       "    <tr>\n",
       "      <th>767</th>\n",
       "      <td>2022-08-26</td>\n",
       "      <td>gremio</td>\n",
       "      <td>ituano</td>\n",
       "      <td>00-10</td>\n",
       "      <td>10</td>\n",
       "      <td>1.57</td>\n",
       "      <td>5.7</td>\n",
       "      <td>Green</td>\n",
       "    </tr>\n",
       "    <tr>\n",
       "      <th>645</th>\n",
       "      <td>2022-08-20</td>\n",
       "      <td>celta de vigo</td>\n",
       "      <td>real madrid</td>\n",
       "      <td>00-10</td>\n",
       "      <td>10</td>\n",
       "      <td>1.61</td>\n",
       "      <td>6.1</td>\n",
       "      <td>Green</td>\n",
       "    </tr>\n",
       "    <tr>\n",
       "      <th>156</th>\n",
       "      <td>2022-07-16</td>\n",
       "      <td>palmaflor</td>\n",
       "      <td>aurora</td>\n",
       "      <td>20-30</td>\n",
       "      <td>10</td>\n",
       "      <td>1.57</td>\n",
       "      <td>5.7</td>\n",
       "      <td>Green</td>\n",
       "    </tr>\n",
       "    <tr>\n",
       "      <th>410</th>\n",
       "      <td>2022-08-05</td>\n",
       "      <td>guarani</td>\n",
       "      <td>gremio</td>\n",
       "      <td>0</td>\n",
       "      <td>10</td>\n",
       "      <td>1.50</td>\n",
       "      <td>5.0</td>\n",
       "      <td>Green</td>\n",
       "    </tr>\n",
       "    <tr>\n",
       "      <th>1510</th>\n",
       "      <td>2022-10-27</td>\n",
       "      <td>cerro porteño</td>\n",
       "      <td>gen caballero</td>\n",
       "      <td>gols</td>\n",
       "      <td>10</td>\n",
       "      <td>1.50</td>\n",
       "      <td>5.0</td>\n",
       "      <td>Red</td>\n",
       "    </tr>\n",
       "    <tr>\n",
       "      <th>1471</th>\n",
       "      <td>2022-10-22</td>\n",
       "      <td>cerro largo</td>\n",
       "      <td>peñarol</td>\n",
       "      <td>gols</td>\n",
       "      <td>10</td>\n",
       "      <td>5.00</td>\n",
       "      <td>40.0</td>\n",
       "      <td>Green</td>\n",
       "    </tr>\n",
       "  </tbody>\n",
       "</table>\n",
       "</div>"
      ],
      "text/plain": [
       "            Date      Home Team      Away Team Bet Type  Bet Amount  Odds  \\\n",
       "133   2022-07-16          arges           arad    10-20          10  1.66   \n",
       "557   2022-08-15         bilbao       mallorca    50-60          10  1.53   \n",
       "1330  2022-10-12        rangers      liverpool    00-10          40  1.50   \n",
       "14    2022-07-04       colorado         austin    00-10          10  1.53   \n",
       "767   2022-08-26         gremio         ituano    00-10          10  1.57   \n",
       "645   2022-08-20  celta de vigo    real madrid    00-10          10  1.61   \n",
       "156   2022-07-16      palmaflor         aurora    20-30          10  1.57   \n",
       "410   2022-08-05        guarani         gremio        0          10  1.50   \n",
       "1510  2022-10-27  cerro porteño  gen caballero     gols          10  1.50   \n",
       "1471  2022-10-22    cerro largo        peñarol     gols          10  5.00   \n",
       "\n",
       "      Profit Win/Loss  \n",
       "133      6.6    Green  \n",
       "557      5.3    Green  \n",
       "1330    20.0      Red  \n",
       "14       5.3    Green  \n",
       "767      5.7    Green  \n",
       "645      6.1    Green  \n",
       "156      5.7    Green  \n",
       "410      5.0    Green  \n",
       "1510     5.0      Red  \n",
       "1471    40.0    Green  "
      ]
     },
     "execution_count": 1261,
     "metadata": {},
     "output_type": "execute_result"
    }
   ],
   "source": [
    "football_data.sample(10)"
   ]
  },
  {
   "cell_type": "markdown",
   "id": "85b198cd",
   "metadata": {},
   "source": [
    "Label encoding"
   ]
  },
  {
   "cell_type": "code",
   "execution_count": 1268,
   "id": "c63fc39b",
   "metadata": {},
   "outputs": [
    {
     "name": "stdout",
     "output_type": "stream",
     "text": [
      "<class 'pandas.core.frame.DataFrame'>\n",
      "Index: 1541 entries, 0 to 1563\n",
      "Data columns (total 17 columns):\n",
      " #   Column      Non-Null Count  Dtype  \n",
      "---  ------      --------------  -----  \n",
      " 0   Date        1541 non-null   object \n",
      " 1   Home Team   1541 non-null   int32  \n",
      " 2   Away Team   1541 non-null   int32  \n",
      " 3   Bet Amount  1541 non-null   int64  \n",
      " 4   Odds        1541 non-null   float64\n",
      " 5   Profit      1541 non-null   float64\n",
      " 6   Win/Loss    1541 non-null   int64  \n",
      " 7   Bet_0       1541 non-null   bool   \n",
      " 8   Bet_00-10   1541 non-null   bool   \n",
      " 9   Bet_10-20   1541 non-null   bool   \n",
      " 10  Bet_20-30   1541 non-null   bool   \n",
      " 11  Bet_30-40   1541 non-null   bool   \n",
      " 12  Bet_50-60   1541 non-null   bool   \n",
      " 13  Bet_60-70   1541 non-null   bool   \n",
      " 14  Bet_70-80   1541 non-null   bool   \n",
      " 15  Bet_Other   1541 non-null   bool   \n",
      " 16  Bet_gols    1541 non-null   bool   \n",
      "dtypes: bool(10), float64(2), int32(2), int64(2), object(1)\n",
      "memory usage: 99.3+ KB\n"
     ]
    }
   ],
   "source": [
    "football_data.info()"
   ]
  },
  {
   "cell_type": "markdown",
   "id": "5e9a6adc",
   "metadata": {},
   "source": [
    "convert Win/Loss to binary"
   ]
  },
  {
   "cell_type": "code",
   "execution_count": 1263,
   "id": "f0fc5da9",
   "metadata": {},
   "outputs": [],
   "source": [
    "football_data['Win/Loss'] = football_data['Win/Loss'].map({'Green': 1, 'Red': 0})"
   ]
  },
  {
   "cell_type": "markdown",
   "id": "47a7b669",
   "metadata": {},
   "source": [
    "change Bet type to One-hot encoding"
   ]
  },
  {
   "cell_type": "code",
   "execution_count": 1264,
   "id": "c7a86a3c",
   "metadata": {},
   "outputs": [],
   "source": [
    "football_data = pd.get_dummies(football_data, columns=['Bet Type'], prefix='Bet')"
   ]
  },
  {
   "cell_type": "code",
   "execution_count": 1265,
   "id": "8e4e416a",
   "metadata": {},
   "outputs": [
    {
     "data": {
      "text/html": [
       "<div>\n",
       "<style scoped>\n",
       "    .dataframe tbody tr th:only-of-type {\n",
       "        vertical-align: middle;\n",
       "    }\n",
       "\n",
       "    .dataframe tbody tr th {\n",
       "        vertical-align: top;\n",
       "    }\n",
       "\n",
       "    .dataframe thead th {\n",
       "        text-align: right;\n",
       "    }\n",
       "</style>\n",
       "<table border=\"1\" class=\"dataframe\">\n",
       "  <thead>\n",
       "    <tr style=\"text-align: right;\">\n",
       "      <th></th>\n",
       "      <th>Date</th>\n",
       "      <th>Home Team</th>\n",
       "      <th>Away Team</th>\n",
       "      <th>Bet Amount</th>\n",
       "      <th>Odds</th>\n",
       "      <th>Profit</th>\n",
       "      <th>Win/Loss</th>\n",
       "      <th>Bet_0</th>\n",
       "      <th>Bet_00-10</th>\n",
       "      <th>Bet_10-20</th>\n",
       "      <th>Bet_20-30</th>\n",
       "      <th>Bet_30-40</th>\n",
       "      <th>Bet_50-60</th>\n",
       "      <th>Bet_60-70</th>\n",
       "      <th>Bet_70-80</th>\n",
       "      <th>Bet_Other</th>\n",
       "      <th>Bet_gols</th>\n",
       "    </tr>\n",
       "  </thead>\n",
       "  <tbody>\n",
       "    <tr>\n",
       "      <th>0</th>\n",
       "      <td>2022-07-01</td>\n",
       "      <td>inglaterra</td>\n",
       "      <td>israel</td>\n",
       "      <td>10</td>\n",
       "      <td>1.57</td>\n",
       "      <td>5.7</td>\n",
       "      <td>1</td>\n",
       "      <td>False</td>\n",
       "      <td>False</td>\n",
       "      <td>False</td>\n",
       "      <td>False</td>\n",
       "      <td>False</td>\n",
       "      <td>False</td>\n",
       "      <td>True</td>\n",
       "      <td>False</td>\n",
       "      <td>False</td>\n",
       "      <td>False</td>\n",
       "    </tr>\n",
       "    <tr>\n",
       "      <th>1</th>\n",
       "      <td>2022-07-01</td>\n",
       "      <td>ayacucho</td>\n",
       "      <td>cantolao</td>\n",
       "      <td>10</td>\n",
       "      <td>1.50</td>\n",
       "      <td>5.0</td>\n",
       "      <td>1</td>\n",
       "      <td>False</td>\n",
       "      <td>False</td>\n",
       "      <td>True</td>\n",
       "      <td>False</td>\n",
       "      <td>False</td>\n",
       "      <td>False</td>\n",
       "      <td>False</td>\n",
       "      <td>False</td>\n",
       "      <td>False</td>\n",
       "      <td>False</td>\n",
       "    </tr>\n",
       "    <tr>\n",
       "      <th>2</th>\n",
       "      <td>2022-07-01</td>\n",
       "      <td>ayacucho</td>\n",
       "      <td>cantolao</td>\n",
       "      <td>10</td>\n",
       "      <td>1.50</td>\n",
       "      <td>5.0</td>\n",
       "      <td>1</td>\n",
       "      <td>False</td>\n",
       "      <td>False</td>\n",
       "      <td>False</td>\n",
       "      <td>True</td>\n",
       "      <td>False</td>\n",
       "      <td>False</td>\n",
       "      <td>False</td>\n",
       "      <td>False</td>\n",
       "      <td>False</td>\n",
       "      <td>False</td>\n",
       "    </tr>\n",
       "    <tr>\n",
       "      <th>3</th>\n",
       "      <td>2022-07-01</td>\n",
       "      <td>lara</td>\n",
       "      <td>ucv ac. 0,5 gols</td>\n",
       "      <td>10</td>\n",
       "      <td>1.61</td>\n",
       "      <td>6.1</td>\n",
       "      <td>0</td>\n",
       "      <td>False</td>\n",
       "      <td>False</td>\n",
       "      <td>False</td>\n",
       "      <td>False</td>\n",
       "      <td>False</td>\n",
       "      <td>False</td>\n",
       "      <td>False</td>\n",
       "      <td>False</td>\n",
       "      <td>False</td>\n",
       "      <td>True</td>\n",
       "    </tr>\n",
       "    <tr>\n",
       "      <th>4</th>\n",
       "      <td>2022-07-01</td>\n",
       "      <td>guairena</td>\n",
       "      <td>asuncion</td>\n",
       "      <td>10</td>\n",
       "      <td>1.57</td>\n",
       "      <td>5.7</td>\n",
       "      <td>1</td>\n",
       "      <td>False</td>\n",
       "      <td>False</td>\n",
       "      <td>False</td>\n",
       "      <td>True</td>\n",
       "      <td>False</td>\n",
       "      <td>False</td>\n",
       "      <td>False</td>\n",
       "      <td>False</td>\n",
       "      <td>False</td>\n",
       "      <td>False</td>\n",
       "    </tr>\n",
       "  </tbody>\n",
       "</table>\n",
       "</div>"
      ],
      "text/plain": [
       "         Date   Home Team         Away Team  Bet Amount  Odds  Profit  \\\n",
       "0  2022-07-01  inglaterra            israel          10  1.57     5.7   \n",
       "1  2022-07-01    ayacucho          cantolao          10  1.50     5.0   \n",
       "2  2022-07-01    ayacucho          cantolao          10  1.50     5.0   \n",
       "3  2022-07-01        lara  ucv ac. 0,5 gols          10  1.61     6.1   \n",
       "4  2022-07-01    guairena          asuncion          10  1.57     5.7   \n",
       "\n",
       "   Win/Loss  Bet_0  Bet_00-10  Bet_10-20  Bet_20-30  Bet_30-40  Bet_50-60  \\\n",
       "0         1  False      False      False      False      False      False   \n",
       "1         1  False      False       True      False      False      False   \n",
       "2         1  False      False      False       True      False      False   \n",
       "3         0  False      False      False      False      False      False   \n",
       "4         1  False      False      False       True      False      False   \n",
       "\n",
       "   Bet_60-70  Bet_70-80  Bet_Other  Bet_gols  \n",
       "0       True      False      False     False  \n",
       "1      False      False      False     False  \n",
       "2      False      False      False     False  \n",
       "3      False      False      False      True  \n",
       "4      False      False      False     False  "
      ]
     },
     "execution_count": 1265,
     "metadata": {},
     "output_type": "execute_result"
    }
   ],
   "source": [
    "football_data.head()"
   ]
  },
  {
   "cell_type": "markdown",
   "id": "3b96cd3a",
   "metadata": {},
   "source": [
    "label encode home and away team and make sure a team in Home will have the same ID in Away"
   ]
  },
  {
   "cell_type": "code",
   "execution_count": 1266,
   "id": "88716be6",
   "metadata": {},
   "outputs": [],
   "source": [
    "all_teams = pd.concat([football_data['Home Team'], football_data['Away Team']]).unique()\n",
    "\n",
    "# Fit one LabelEncoder on all teams\n",
    "team_encoder = LabelEncoder()\n",
    "team_encoder.fit(all_teams)\n",
    "\n",
    "# Apply the same encoder to both columns\n",
    "football_data['Home Team'] = team_encoder.transform(football_data['Home Team'])\n",
    "football_data['Away Team'] = team_encoder.transform(football_data['Away Team'])"
   ]
  },
  {
   "cell_type": "code",
   "execution_count": 1267,
   "id": "14165ae3",
   "metadata": {},
   "outputs": [],
   "source": [
    "football_data.to_csv('cleaned_football_data.csv', index=False)"
   ]
  }
 ],
 "metadata": {
  "kernelspec": {
   "display_name": "base",
   "language": "python",
   "name": "python3"
  },
  "language_info": {
   "codemirror_mode": {
    "name": "ipython",
    "version": 3
   },
   "file_extension": ".py",
   "mimetype": "text/x-python",
   "name": "python",
   "nbconvert_exporter": "python",
   "pygments_lexer": "ipython3",
   "version": "3.12.7"
  }
 },
 "nbformat": 4,
 "nbformat_minor": 5
}
