{
 "cells": [
  {
   "cell_type": "markdown",
   "id": "cefd7204",
   "metadata": {},
   "source": [
    "Imports"
   ]
  },
  {
   "cell_type": "code",
   "execution_count": 254,
   "id": "f1934723",
   "metadata": {},
   "outputs": [],
   "source": [
    "\n",
    "import pandas as pd\n",
    "import numpy as np\n",
    "\n",
    "import unidecode\n",
    "import re\n",
    "from sklearn.preprocessing import LabelEncoder\n",
    "\n",
    "import seaborn as sns\n",
    "import matplotlib.pyplot as plt\n",
    "%matplotlib inline\n",
    "\n",
    "from sklearn.linear_model import LinearRegression\n",
    "import sklearn.metrics as sm\n",
    "from sklearn.metrics import r2_score\n",
    "\n",
    "#football_data.to_csv('cleaned_football_data.csv', index=False)"
   ]
  },
  {
   "cell_type": "markdown",
   "id": "69cf57af",
   "metadata": {},
   "source": [
    "Read data"
   ]
  },
  {
   "cell_type": "code",
   "execution_count": 255,
   "id": "5c540be7",
   "metadata": {},
   "outputs": [],
   "source": [
    "football_data = pd.read_csv('data/futebol.csv')\n"
   ]
  },
  {
   "cell_type": "code",
   "execution_count": 256,
   "id": "051ba7a8",
   "metadata": {},
   "outputs": [
    {
     "data": {
      "text/plain": [
       "(1564, 7)"
      ]
     },
     "execution_count": 256,
     "metadata": {},
     "output_type": "execute_result"
    }
   ],
   "source": [
    "football_data.shape"
   ]
  },
  {
   "cell_type": "code",
   "execution_count": 257,
   "id": "df01e365",
   "metadata": {},
   "outputs": [
    {
     "name": "stdout",
     "output_type": "stream",
     "text": [
      "<class 'pandas.core.frame.DataFrame'>\n",
      "RangeIndex: 1564 entries, 0 to 1563\n",
      "Data columns (total 7 columns):\n",
      " #   Column        Non-Null Count  Dtype  \n",
      "---  ------        --------------  -----  \n",
      " 0   Data          1564 non-null   object \n",
      " 1   Jogo          1564 non-null   object \n",
      " 2   Minutos       1473 non-null   object \n",
      " 3   Investimento  1564 non-null   int64  \n",
      " 4   Odd           1564 non-null   float64\n",
      " 5   Ganho         1564 non-null   float64\n",
      " 6   Resultado     1564 non-null   object \n",
      "dtypes: float64(2), int64(1), object(4)\n",
      "memory usage: 85.7+ KB\n"
     ]
    }
   ],
   "source": [
    "football_data.info()"
   ]
  },
  {
   "cell_type": "markdown",
   "id": "afd29b3d",
   "metadata": {},
   "source": [
    "Translate columms to english"
   ]
  },
  {
   "cell_type": "code",
   "execution_count": 258,
   "id": "0b5b307a",
   "metadata": {},
   "outputs": [],
   "source": [
    "football_data.rename(columns={\n",
    "    'Data': 'Date',\n",
    "    'Jogo': 'Match',\n",
    "    'Minutos': 'Bet Type',\n",
    "    'Investimento': 'Bet Amount',\n",
    "    'Odd': 'Odds',\n",
    "    'Ganho': 'Profit',\n",
    "    'Resultado': 'Win/Loss'\n",
    "}, inplace=True)"
   ]
  },
  {
   "cell_type": "code",
   "execution_count": 259,
   "id": "1ce419dd",
   "metadata": {},
   "outputs": [
    {
     "data": {
      "text/html": [
       "<div>\n",
       "<style scoped>\n",
       "    .dataframe tbody tr th:only-of-type {\n",
       "        vertical-align: middle;\n",
       "    }\n",
       "\n",
       "    .dataframe tbody tr th {\n",
       "        vertical-align: top;\n",
       "    }\n",
       "\n",
       "    .dataframe thead th {\n",
       "        text-align: right;\n",
       "    }\n",
       "</style>\n",
       "<table border=\"1\" class=\"dataframe\">\n",
       "  <thead>\n",
       "    <tr style=\"text-align: right;\">\n",
       "      <th></th>\n",
       "      <th>Date</th>\n",
       "      <th>Match</th>\n",
       "      <th>Bet Type</th>\n",
       "      <th>Bet Amount</th>\n",
       "      <th>Odds</th>\n",
       "      <th>Profit</th>\n",
       "      <th>Win/Loss</th>\n",
       "    </tr>\n",
       "  </thead>\n",
       "  <tbody>\n",
       "    <tr>\n",
       "      <th>86</th>\n",
       "      <td>2022-07-11</td>\n",
       "      <td>Colon x Velez</td>\n",
       "      <td>00 ao 10</td>\n",
       "      <td>10</td>\n",
       "      <td>1.57</td>\n",
       "      <td>5.7</td>\n",
       "      <td>Green</td>\n",
       "    </tr>\n",
       "    <tr>\n",
       "      <th>836</th>\n",
       "      <td>2022-08-31</td>\n",
       "      <td>Velez x Flamengo</td>\n",
       "      <td>60 aos 70</td>\n",
       "      <td>10</td>\n",
       "      <td>1.44</td>\n",
       "      <td>4.4</td>\n",
       "      <td>Green</td>\n",
       "    </tr>\n",
       "    <tr>\n",
       "      <th>1229</th>\n",
       "      <td>2022-10-07</td>\n",
       "      <td>Lyon x Toulouse</td>\n",
       "      <td>10 a 20</td>\n",
       "      <td>10</td>\n",
       "      <td>1.61</td>\n",
       "      <td>6.1</td>\n",
       "      <td>Green</td>\n",
       "    </tr>\n",
       "    <tr>\n",
       "      <th>879</th>\n",
       "      <td>2022-09-03</td>\n",
       "      <td>Gualaceo x Barcelona</td>\n",
       "      <td>20 a 30</td>\n",
       "      <td>10</td>\n",
       "      <td>1.61</td>\n",
       "      <td>6.1</td>\n",
       "      <td>Green</td>\n",
       "    </tr>\n",
       "    <tr>\n",
       "      <th>534</th>\n",
       "      <td>2022-08-13</td>\n",
       "      <td>Goiás x Avaí</td>\n",
       "      <td>20 ao 30</td>\n",
       "      <td>10</td>\n",
       "      <td>1.50</td>\n",
       "      <td>5.0</td>\n",
       "      <td>Green</td>\n",
       "    </tr>\n",
       "    <tr>\n",
       "      <th>424</th>\n",
       "      <td>2022-08-06</td>\n",
       "      <td>Rostock x Biefield</td>\n",
       "      <td>NaN</td>\n",
       "      <td>10</td>\n",
       "      <td>1.57</td>\n",
       "      <td>5.7</td>\n",
       "      <td>Green</td>\n",
       "    </tr>\n",
       "    <tr>\n",
       "      <th>823</th>\n",
       "      <td>2022-08-30</td>\n",
       "      <td>CAP x Palmeiras</td>\n",
       "      <td>10 ao 20</td>\n",
       "      <td>10</td>\n",
       "      <td>1.50</td>\n",
       "      <td>5.0</td>\n",
       "      <td>Green</td>\n",
       "    </tr>\n",
       "    <tr>\n",
       "      <th>355</th>\n",
       "      <td>2022-08-01</td>\n",
       "      <td>DC x Orlando</td>\n",
       "      <td>00 a 10</td>\n",
       "      <td>40</td>\n",
       "      <td>1.50</td>\n",
       "      <td>20.0</td>\n",
       "      <td>Red</td>\n",
       "    </tr>\n",
       "    <tr>\n",
       "      <th>937</th>\n",
       "      <td>2022-09-08</td>\n",
       "      <td>Sturm Graz x Midyjylland</td>\n",
       "      <td>20 a 30</td>\n",
       "      <td>10</td>\n",
       "      <td>1.61</td>\n",
       "      <td>6.1</td>\n",
       "      <td>Green</td>\n",
       "    </tr>\n",
       "    <tr>\n",
       "      <th>1213</th>\n",
       "      <td>2022-10-05</td>\n",
       "      <td>Flamengo x Inter</td>\n",
       "      <td>20 a 30</td>\n",
       "      <td>10</td>\n",
       "      <td>1.50</td>\n",
       "      <td>5.0</td>\n",
       "      <td>Green</td>\n",
       "    </tr>\n",
       "  </tbody>\n",
       "</table>\n",
       "</div>"
      ],
      "text/plain": [
       "            Date                     Match   Bet Type  Bet Amount  Odds  \\\n",
       "86    2022-07-11            Colon x Velez    00 ao 10          10  1.57   \n",
       "836   2022-08-31          Velez x Flamengo  60 aos 70          10  1.44   \n",
       "1229  2022-10-07           Lyon x Toulouse    10 a 20          10  1.61   \n",
       "879   2022-09-03      Gualaceo x Barcelona    20 a 30          10  1.61   \n",
       "534   2022-08-13              Goiás x Avaí   20 ao 30          10  1.50   \n",
       "424   2022-08-06        Rostock x Biefield        NaN          10  1.57   \n",
       "823   2022-08-30           CAP x Palmeiras   10 ao 20          10  1.50   \n",
       "355   2022-08-01              DC x Orlando    00 a 10          40  1.50   \n",
       "937   2022-09-08  Sturm Graz x Midyjylland    20 a 30          10  1.61   \n",
       "1213  2022-10-05          Flamengo x Inter    20 a 30          10  1.50   \n",
       "\n",
       "      Profit Win/Loss  \n",
       "86       5.7    Green  \n",
       "836      4.4    Green  \n",
       "1229     6.1    Green  \n",
       "879      6.1    Green  \n",
       "534      5.0    Green  \n",
       "424      5.7    Green  \n",
       "823      5.0    Green  \n",
       "355     20.0      Red  \n",
       "937      6.1    Green  \n",
       "1213     5.0    Green  "
      ]
     },
     "execution_count": 259,
     "metadata": {},
     "output_type": "execute_result"
    }
   ],
   "source": [
    "football_data.sample(10)"
   ]
  },
  {
   "cell_type": "markdown",
   "id": "2616fad5",
   "metadata": {},
   "source": [
    "Checking for dublicates"
   ]
  },
  {
   "cell_type": "code",
   "execution_count": 260,
   "id": "7d5a2cc7",
   "metadata": {},
   "outputs": [
    {
     "data": {
      "text/plain": [
       "22"
      ]
     },
     "execution_count": 260,
     "metadata": {},
     "output_type": "execute_result"
    }
   ],
   "source": [
    "football_data.duplicated().sum()"
   ]
  },
  {
   "cell_type": "code",
   "execution_count": 261,
   "id": "a93e1412",
   "metadata": {},
   "outputs": [],
   "source": [
    "#dropping duplicates\n",
    "football_data.drop_duplicates(inplace=True)"
   ]
  },
  {
   "cell_type": "markdown",
   "id": "52510ffb",
   "metadata": {},
   "source": [
    "Check for missing values"
   ]
  },
  {
   "cell_type": "code",
   "execution_count": 262,
   "id": "43f10ea8",
   "metadata": {},
   "outputs": [
    {
     "data": {
      "text/plain": [
       "Date           0\n",
       "Match          0\n",
       "Bet Type      88\n",
       "Bet Amount     0\n",
       "Odds           0\n",
       "Profit         0\n",
       "Win/Loss       0\n",
       "dtype: int64"
      ]
     },
     "execution_count": 262,
     "metadata": {},
     "output_type": "execute_result"
    }
   ],
   "source": [
    "football_data.isnull().sum()"
   ]
  },
  {
   "cell_type": "code",
   "execution_count": 263,
   "id": "0e46c5b5",
   "metadata": {},
   "outputs": [
    {
     "data": {
      "text/plain": [
       "array(['60 ao 70', '10 ao 20', '20 ao 30', 'Gols', '00 ao 10',\n",
       "       'Escanteio', 'Vencedor', '50 ao 60', '00 a 10', '30 ao 40', nan,\n",
       "       'Cartões', '70 ao 80', 'Asiáticos', '00 a 10 ', 'Multipla',\n",
       "       'aos 30', '20 aos 30', '10 aos 20', '60 aos 70', '20 a 30',\n",
       "       '10 a 20', '60 a 70', '80 a 90', '70 a 80', '30 a 40', '50 a 60',\n",
       "       'Múltipla', '20 a 30 ', '2 marcam', 'gols', 'Mult', 'Pedro',\n",
       "       '60 a 70 ', 'Gols duplo'], dtype=object)"
      ]
     },
     "execution_count": 263,
     "metadata": {},
     "output_type": "execute_result"
    }
   ],
   "source": [
    "football_data['Bet Type'].unique()"
   ]
  },
  {
   "cell_type": "markdown",
   "id": "a138e99a",
   "metadata": {},
   "source": [
    "replaced null with zero"
   ]
  },
  {
   "cell_type": "code",
   "execution_count": 264,
   "id": "3746991c",
   "metadata": {},
   "outputs": [],
   "source": [
    "football_data.fillna(0, inplace=True)"
   ]
  },
  {
   "cell_type": "markdown",
   "id": "c13236cc",
   "metadata": {},
   "source": [
    "reduce the trailing zeros in profit"
   ]
  },
  {
   "cell_type": "code",
   "execution_count": 265,
   "id": "574bebc7",
   "metadata": {},
   "outputs": [],
   "source": [
    "football_data['Profit'] = football_data['Profit'].round(2)"
   ]
  },
  {
   "cell_type": "code",
   "execution_count": 266,
   "id": "1d44c48a",
   "metadata": {},
   "outputs": [
    {
     "data": {
      "text/plain": [
       "Bet Type\n",
       "00 a 10       257\n",
       "20 ao 30      193\n",
       "60 ao 70      174\n",
       "Gols          148\n",
       "10 ao 20      147\n",
       "20 a 30       125\n",
       "10 a 20       103\n",
       "60 a 70        92\n",
       "0              88\n",
       "00 ao 10       85\n",
       "30 a 40        22\n",
       "30 ao 40       17\n",
       "70 a 80        15\n",
       "50 a 60        11\n",
       "50 ao 60       10\n",
       "70 ao 80       10\n",
       "Asiáticos       8\n",
       "80 a 90         8\n",
       "20 a 30         5\n",
       "20 aos 30       4\n",
       "Multipla        4\n",
       "aos 30          2\n",
       "2 marcam        2\n",
       "60 aos 70       1\n",
       "10 aos 20       1\n",
       "00 a 10         1\n",
       "Cartões         1\n",
       "Vencedor        1\n",
       "Múltipla        1\n",
       "Escanteio       1\n",
       "gols            1\n",
       "Mult            1\n",
       "Pedro           1\n",
       "60 a 70         1\n",
       "Gols duplo      1\n",
       "Name: count, dtype: int64"
      ]
     },
     "execution_count": 266,
     "metadata": {},
     "output_type": "execute_result"
    }
   ],
   "source": [
    "football_data['Bet Type'].value_counts()"
   ]
  },
  {
   "cell_type": "markdown",
   "id": "fe8f4b59",
   "metadata": {},
   "source": [
    "Normalize the data lowercased, stripped, and accents removed\n"
   ]
  },
  {
   "cell_type": "code",
   "execution_count": 267,
   "id": "ef01cc72",
   "metadata": {},
   "outputs": [
    {
     "name": "stdout",
     "output_type": "stream",
     "text": [
      "Unique Bet Type: 35\n"
     ]
    }
   ],
   "source": [
    "print(\"Unique Bet Type:\", football_data['Bet Type'].nunique())\n"
   ]
  },
  {
   "cell_type": "code",
   "execution_count": 268,
   "id": "a9eac4bd",
   "metadata": {},
   "outputs": [],
   "source": [
    "def normalize_bet_type(value):\n",
    "    if pd.isna(value):\n",
    "        return value\n",
    "    return unidecode.unidecode(str(value).strip().lower())\n",
    "\n",
    "football_data['Bet Type'] = football_data['Bet Type'].apply(normalize_bet_type)"
   ]
  },
  {
   "cell_type": "markdown",
   "id": "5517f435",
   "metadata": {},
   "source": [
    "Standardize the time ranges from \"10 ao 20\" or 10 a 20 to 10-20"
   ]
  },
  {
   "cell_type": "code",
   "execution_count": 269,
   "id": "ae5d2c62",
   "metadata": {},
   "outputs": [],
   "source": [
    "def standardize_time_ranges(value):\n",
    "    if isinstance(value, str):\n",
    "        return (\n",
    "            value.replace(\" a \", \"-\")\n",
    "                 .replace(\" ao \", \"-\")\n",
    "                 .replace(\" aos \", \"-\")\n",
    "                 .strip()\n",
    "        )\n",
    "    return value\n",
    "football_data['Bet Type'] = football_data['Bet Type'].apply(standardize_time_ranges)"
   ]
  },
  {
   "cell_type": "code",
   "execution_count": 270,
   "id": "d21ff0ca",
   "metadata": {},
   "outputs": [
    {
     "data": {
      "text/plain": [
       "Bet Type\n",
       "00-10         343\n",
       "20-30         327\n",
       "60-70         268\n",
       "10-20         251\n",
       "gols          149\n",
       "0              88\n",
       "30-40          39\n",
       "70-80          25\n",
       "50-60          21\n",
       "asiaticos       8\n",
       "80-90           8\n",
       "multipla        5\n",
       "2 marcam        2\n",
       "aos 30          2\n",
       "pedro           1\n",
       "mult            1\n",
       "cartoes         1\n",
       "vencedor        1\n",
       "escanteio       1\n",
       "gols duplo      1\n",
       "Name: count, dtype: int64"
      ]
     },
     "execution_count": 270,
     "metadata": {},
     "output_type": "execute_result"
    }
   ],
   "source": [
    "football_data['Bet Type'].value_counts()"
   ]
  },
  {
   "cell_type": "code",
   "execution_count": 271,
   "id": "56480f0d",
   "metadata": {},
   "outputs": [],
   "source": [
    "#remove damaged data\n",
    "football_data = football_data[football_data['Bet Type'] != 'Pedro']"
   ]
  },
  {
   "cell_type": "markdown",
   "id": "dabb90d6",
   "metadata": {},
   "source": [
    "Group rare bet types into \"Others\""
   ]
  },
  {
   "cell_type": "code",
   "execution_count": 272,
   "id": "cd57318b",
   "metadata": {},
   "outputs": [],
   "source": [
    "threshold = 10\n",
    "\n",
    "value_counts = football_data['Bet Type'].value_counts()\n",
    "\n",
    "rare_types = value_counts[value_counts < threshold].index\n",
    "\n",
    "def group_rare_bet_types(bet_type):\n",
    "    if bet_type in rare_types:\n",
    "        return 'Other'\n",
    "    return bet_type\n",
    "\n",
    "football_data['Bet Type'] = football_data['Bet Type'].apply(group_rare_bet_types)"
   ]
  },
  {
   "cell_type": "code",
   "execution_count": 273,
   "id": "cc2c57c5",
   "metadata": {},
   "outputs": [
    {
     "data": {
      "text/plain": [
       "Bet Type\n",
       "00-10    343\n",
       "20-30    327\n",
       "60-70    268\n",
       "10-20    251\n",
       "gols     149\n",
       "0         88\n",
       "30-40     39\n",
       "Other     31\n",
       "70-80     25\n",
       "50-60     21\n",
       "Name: count, dtype: int64"
      ]
     },
     "execution_count": 273,
     "metadata": {},
     "output_type": "execute_result"
    }
   ],
   "source": [
    "football_data['Bet Type'].value_counts()"
   ]
  },
  {
   "cell_type": "code",
   "execution_count": 274,
   "id": "5bdda1a8",
   "metadata": {},
   "outputs": [
    {
     "name": "stdout",
     "output_type": "stream",
     "text": [
      "Unique Bet Type: 10\n"
     ]
    }
   ],
   "source": [
    "print(\"Unique Bet Type:\", football_data['Bet Type'].nunique())\n",
    "#reduced from 35 to 10"
   ]
  },
  {
   "cell_type": "code",
   "execution_count": 275,
   "id": "5ce83b32",
   "metadata": {},
   "outputs": [
    {
     "data": {
      "text/plain": [
       "Date           object\n",
       "Match          object\n",
       "Bet Type       object\n",
       "Bet Amount      int64\n",
       "Odds          float64\n",
       "Profit        float64\n",
       "Win/Loss       object\n",
       "dtype: object"
      ]
     },
     "execution_count": 275,
     "metadata": {},
     "output_type": "execute_result"
    }
   ],
   "source": [
    "football_data.dtypes"
   ]
  },
  {
   "cell_type": "markdown",
   "id": "19529f24",
   "metadata": {},
   "source": [
    "splits the column \"Match\" to be \"Home Team\" and \"Away Team\". "
   ]
  },
  {
   "cell_type": "markdown",
   "id": "8ac66fc6",
   "metadata": {},
   "source": [
    "Checked sample data with https://www.football-data.org/coverage that it matches. Home and Away team"
   ]
  },
  {
   "cell_type": "code",
   "execution_count": 276,
   "id": "0781bd20",
   "metadata": {},
   "outputs": [],
   "source": [
    "#remove known bad data\n",
    "football_data = football_data[football_data['Match'] != 'Múltipla 4']\n",
    "\n",
    "# Split the 'Match' column into 'Home Team' and 'Away Team'\n",
    "football_data[['Home Team', 'Away Team']] = football_data['Match'].str.split(' x ', expand=True)\n",
    "\n",
    "\n",
    "\n",
    "#drop match column\n",
    "football_data = football_data.drop(columns=['Match'])\n",
    "\n",
    "new_order = ['Date', 'Home Team', 'Away Team', 'Bet Type', 'Bet Amount', 'Odds', 'Profit', 'Win/Loss']\n",
    "\n",
    "#Reorder the columns\n",
    "football_data = football_data[new_order]"
   ]
  },
  {
   "cell_type": "code",
   "execution_count": 277,
   "id": "cf754f80",
   "metadata": {},
   "outputs": [
    {
     "data": {
      "text/html": [
       "<div>\n",
       "<style scoped>\n",
       "    .dataframe tbody tr th:only-of-type {\n",
       "        vertical-align: middle;\n",
       "    }\n",
       "\n",
       "    .dataframe tbody tr th {\n",
       "        vertical-align: top;\n",
       "    }\n",
       "\n",
       "    .dataframe thead th {\n",
       "        text-align: right;\n",
       "    }\n",
       "</style>\n",
       "<table border=\"1\" class=\"dataframe\">\n",
       "  <thead>\n",
       "    <tr style=\"text-align: right;\">\n",
       "      <th></th>\n",
       "      <th>Date</th>\n",
       "      <th>Home Team</th>\n",
       "      <th>Away Team</th>\n",
       "      <th>Bet Type</th>\n",
       "      <th>Bet Amount</th>\n",
       "      <th>Odds</th>\n",
       "      <th>Profit</th>\n",
       "      <th>Win/Loss</th>\n",
       "    </tr>\n",
       "  </thead>\n",
       "  <tbody>\n",
       "    <tr>\n",
       "      <th>364</th>\n",
       "      <td>2022-08-02</td>\n",
       "      <td>Colon X Indepediente</td>\n",
       "      <td>None</td>\n",
       "      <td>10-20</td>\n",
       "      <td>10</td>\n",
       "      <td>1.53</td>\n",
       "      <td>5.3</td>\n",
       "      <td>Green</td>\n",
       "    </tr>\n",
       "    <tr>\n",
       "      <th>655</th>\n",
       "      <td>2022-08-21</td>\n",
       "      <td>Leeds X Chelsea</td>\n",
       "      <td>None</td>\n",
       "      <td>20-30</td>\n",
       "      <td>10</td>\n",
       "      <td>1.50</td>\n",
       "      <td>5.0</td>\n",
       "      <td>Green</td>\n",
       "    </tr>\n",
       "    <tr>\n",
       "      <th>944</th>\n",
       "      <td>2022-09-08</td>\n",
       "      <td>SP X Atl Go</td>\n",
       "      <td>None</td>\n",
       "      <td>10-20</td>\n",
       "      <td>10</td>\n",
       "      <td>1.44</td>\n",
       "      <td>4.4</td>\n",
       "      <td>Green</td>\n",
       "    </tr>\n",
       "  </tbody>\n",
       "</table>\n",
       "</div>"
      ],
      "text/plain": [
       "           Date             Home Team Away Team Bet Type  Bet Amount  Odds  \\\n",
       "364  2022-08-02  Colon X Indepediente      None    10-20          10  1.53   \n",
       "655  2022-08-21       Leeds X Chelsea      None    20-30          10  1.50   \n",
       "944  2022-09-08           SP X Atl Go      None    10-20          10  1.44   \n",
       "\n",
       "     Profit Win/Loss  \n",
       "364     5.3    Green  \n",
       "655     5.0    Green  \n",
       "944     4.4    Green  "
      ]
     },
     "execution_count": 277,
     "metadata": {},
     "output_type": "execute_result"
    }
   ],
   "source": [
    "football_data[football_data['Away Team'].isnull()]"
   ]
  },
  {
   "cell_type": "markdown",
   "id": "f3e62b9e",
   "metadata": {},
   "source": [
    "manuel fix for the damaged data"
   ]
  },
  {
   "cell_type": "code",
   "execution_count": 278,
   "id": "ec4996ad",
   "metadata": {},
   "outputs": [],
   "source": [
    "\n",
    "football_data['Home Team'] = football_data['Home Team'].str.lower().str.strip()\n",
    "\n",
    "manual_fix_map = {\n",
    "    'colon x indepediente': ['Colon', 'Indepediente'],\n",
    "    'leeds x chelsea': ['Leeds', 'Chelsea'],\n",
    "    'sp x atl go': ['SP', 'Atl Go']\n",
    "}\n",
    "\n",
    "for bad_value, (home_fixed, away_fixed) in manual_fix_map.items():\n",
    "    mask = (football_data['Home Team'] == bad_value) & (football_data['Away Team'].isnull())\n",
    "    football_data.loc[mask, 'Home Team'] = home_fixed\n",
    "    football_data.loc[mask, 'Away Team'] = away_fixed"
   ]
  },
  {
   "cell_type": "code",
   "execution_count": 279,
   "id": "43e5c154",
   "metadata": {},
   "outputs": [
    {
     "data": {
      "text/html": [
       "<div>\n",
       "<style scoped>\n",
       "    .dataframe tbody tr th:only-of-type {\n",
       "        vertical-align: middle;\n",
       "    }\n",
       "\n",
       "    .dataframe tbody tr th {\n",
       "        vertical-align: top;\n",
       "    }\n",
       "\n",
       "    .dataframe thead th {\n",
       "        text-align: right;\n",
       "    }\n",
       "</style>\n",
       "<table border=\"1\" class=\"dataframe\">\n",
       "  <thead>\n",
       "    <tr style=\"text-align: right;\">\n",
       "      <th></th>\n",
       "      <th>Date</th>\n",
       "      <th>Home Team</th>\n",
       "      <th>Away Team</th>\n",
       "      <th>Bet Type</th>\n",
       "      <th>Bet Amount</th>\n",
       "      <th>Odds</th>\n",
       "      <th>Profit</th>\n",
       "      <th>Win/Loss</th>\n",
       "    </tr>\n",
       "  </thead>\n",
       "  <tbody>\n",
       "  </tbody>\n",
       "</table>\n",
       "</div>"
      ],
      "text/plain": [
       "Empty DataFrame\n",
       "Columns: [Date, Home Team, Away Team, Bet Type, Bet Amount, Odds, Profit, Win/Loss]\n",
       "Index: []"
      ]
     },
     "execution_count": 279,
     "metadata": {},
     "output_type": "execute_result"
    }
   ],
   "source": [
    "football_data[football_data['Away Team'].isnull()]"
   ]
  },
  {
   "cell_type": "markdown",
   "id": "61b6e23e",
   "metadata": {},
   "source": [
    "Standardize the team names"
   ]
  },
  {
   "cell_type": "code",
   "execution_count": 280,
   "id": "7571e049",
   "metadata": {},
   "outputs": [
    {
     "data": {
      "text/plain": [
       "array(['inglaterra', 'ayacucho', 'lara', 'guairena', 'cordoba',\n",
       "       'belgrano', 'mar', 'cruzeiro', 'col', 'brusque', 'huachipate',\n",
       "       'braga', 'colorado', 'dallas', 'patchuca', 'galaxy', 'morelia',\n",
       "       'boca', 'libertad', 'inter', 'sucre', 'hailstorm', 'ready',\n",
       "       'argentinos', 'colon', 'ceara', 'palmeiras', 'detroit', 'mineros',\n",
       "       'river', 'melgar', 'union', 'lanus', 'stalbaek', 'asane',\n",
       "       'patriotas', 'selangor', 'aksur', 'forest', 'chicago', 'vila',\n",
       "       'celaya', 'rosário', 'dynamo', 'portim', 'brighton', 'nyc',\n",
       "       'lorenzo', 'atlanta', 'goias', 'platense', 'petrolero',\n",
       "       'millionarios', 'houston', 'gualaceo', 'unido', 'pepo', 'pif',\n",
       "       'rosemberg', 'kalmar', 'jorge w.', 'tolima', 'velez', 'ilves',\n",
       "       'defensa', 'bagre', 'varnamo', 'guabira', 'turan', 'din', 'talaea',\n",
       "       'el zamalek', 'alianza', 'banfield', 'austin', 'cimarrones',\n",
       "       'cortuba', 'dc united', 'breidablik', 'operario', 'resistencia',\n",
       "       'huracan', 'estudiantes', 'albion', 'a', 'plaza colonia',\n",
       "       'red bulls', 'sarmiento', 'all boys', 'juarez', 'norrkoping',\n",
       "       'poznan', 'dalkurd', 'ituano', 'rentistas', 'pk', 'helsinki',\n",
       "       'djurgarden', 'arges', 'mariehamn', 'trnava', 'young boys',\n",
       "       'ham-kam', 'argentinos jrs', 'future', 'cluj', 'crb', 'cap',\n",
       "       'orense', 'sampaio', 'guarani', 'flamengo', 'wanderes',\n",
       "       'ind. petrolero', 'avaí', 'huancayo', 'olimpia', 'palmaflor',\n",
       "       'fire', 'ceará', 'ldu', 'montreal', 'tec. univ.', 'santos',\n",
       "       'vesteras', 'garbania', 'dangjin', 'hansa', 'braunschweig',\n",
       "       'viborg', 'lyngby', 'aik', 'wisla', 'gotemburgo', 'ju',\n",
       "       'bonnyrigg', 'servette', 'pogon', 'constanta', 'copenhagen',\n",
       "       'gnistan', 'santa fé', 'cantolao', 'la serena', 'guilhermo',\n",
       "       'grorud', 'varbergs', 'odense', 'pharco', 'eskilstuna', 'petrolul',\n",
       "       'makasa', 'islandia', 'cajamarca', 'sport', 'pachuca',\n",
       "       'santamarina', 'once caldas', 'zalgiris', 'norby', 'bahia',\n",
       "       'londrina', 'vasco', 'atletico', 'jaro', 'legia', 'haifa',\n",
       "       'maribor', 'ferencvarosi', 'niksic', 'rbb', 'corinthians', 'rakow',\n",
       "       'rosario', 'nacional', 'cuiabá', 'darmstadt', 'hokoah',\n",
       "       'jonkopings', 'voluntari', 'gallen', 'ameliano', 'orlando city',\n",
       "       'columbus', 'botafogo', 'everton', 'guayaquil', 'el paso',\n",
       "       'sounders', 'whitecaps', 'salt lake', 'timbers', 'mechelen',\n",
       "       'kristiansand', 'westerlo', 'hafnarfjordur', 'aldosivi', 'atl mg',\n",
       "       'univ catolica', 'fortaleza', '12 de outubro', 'uta arad',\n",
       "       'akranes', 'san lorenzo', 'cerro', 'deportivo', 'san martin',\n",
       "       'pyramids', 'slovan', 'real tomayapo', 'olympiakos', 'univ sucre',\n",
       "       'liverpool', 'necaxa', 'the strongest', 'atl go', 'cesar vallejo',\n",
       "       'roots', 'vaduz', 'streda', 'puskas', 'sp', 'blooming', 'junior',\n",
       "       'dagerfors', 'nyboking', 'stjarnan', 'fremad', 'sturm',\n",
       "       'middlesbrough', 'sundsvall', 'radomiak', 'miedz', 'clui', 'gent',\n",
       "       'min unit', 'coritiba', 'novorizontino', 'charllote', 'hartford',\n",
       "       'ne', 'sa', 'kansas', 'jablonec', 'kralove', 'molde', 'stabaek',\n",
       "       'austria', 'celtic', 'sparta', 'craiova', 'athletico', 'sporting',\n",
       "       'dc', 'bragantino', 'hfk', 'sochaux', 'watford', 'zamalek',\n",
       "       '9 de outubro', 'Colon', 'instituto', 'wolfsberger', 'al ahly',\n",
       "       'dunajska', 'univ de vinto', 'rubio', 'ny', 'maryland', 'enppi',\n",
       "       'osters', 'brondby', 'el masry', 'real espanha', 'cagliari',\n",
       "       'sezana', 'sandhausen', 'hvidovre', 'randers', 'lafnitz', 'lecce',\n",
       "       'caballero', 'universitário', 'suburbs', 'nordsjaelland', 'pisa',\n",
       "       'rosenborg', 'reid', 'dortmund', 'rostock', 'clemont',\n",
       "       'binacional', 'empoli', 'charlotte', 'zurique', 'veijle',\n",
       "       'man united', 'stuttgart', 'fenix', 'montpellier', 'venezia',\n",
       "       'santa clara', 'rennes', 'slavia', 'giresunspor', 'valerenga',\n",
       "       'danubio', 'flu', 'newells', 'aurora', 'botosani', 'ankaragucu',\n",
       "       'bologna', 'caen', 'barranquilha', 'nanjing', 'viktoria', 'skovde',\n",
       "       'norrby', 'bank of egypt', 'cucuta', 'gremio', 'ponte preta',\n",
       "       'csa', 'ny red bulls', 'al arab', 'real madrid', 'ismaily',\n",
       "       'basel', 'rapid', 'az', 'montevideo', 'tapatio', 'univ sacre',\n",
       "       'queretaro', 'haka', 'hobro', 'fredericia', 'horsens', 'nantes',\n",
       "       'metropolitano', 'ny rb', 'coquimbo', 'patronato', 'bucaramanga',\n",
       "       'runa', 'orange', 'aston villa', 'leipzig', 'monaco', 'sion',\n",
       "       'eibar', 'brentford', 'schalke', 'valladolid', 'goiás', 'monza',\n",
       "       'strongest', 'penarol', 'mont bay', 'hannover', 'kupio',\n",
       "       'nttm forest', 'mainz', 'chelsea', 'nublense', 'racing', 'bilbao',\n",
       "       'konyaspor', 'aarhus', 'juventus', 'cartagena', 'la equidad', 'mp',\n",
       "       'san miguelito', 'audax', 'atlas', 'indepediente', 'mazatlan',\n",
       "       'al sahadd', 'hillerod', 'al shamal', 'vejle', 'qarabag',\n",
       "       'torshavn', 'kolubara', 'dynamo kiev', 'maccabi haifa',\n",
       "       'antofagasta', 'tigre', 'criciuma', 'oeste', 'athletico pr',\n",
       "       \"o'higgins\", 'maccabi tel aviv', 'barracas', 'univ craiova',\n",
       "       'west ham', 'atletico cali', 'alajuelense', 'america mg', 'pumas',\n",
       "       'mioveni', 'estoril', 'gladbach', 'bari', 'sevilla', 'norwich',\n",
       "       'tomayapo', 'cerrito', 'sol de america', 'gijón', 'bodo/glimt',\n",
       "       'hatayspor', 'boleslav', 'sturm graz', 'dep. municipal', 'amiens',\n",
       "       'atlético fênix', 'atlético mg', 'celta de vigo', 'ascoli',\n",
       "       'bolivar', 'fluminense', 'Leeds', 'liberec', 'frankfurt',\n",
       "       'juventude', 'casa pia', 'atlético madrid', 'unión española',\n",
       "       'atl. morélia', 'arg jrs', 'groud', 'roufoss', 'leiknir',\n",
       "       'man unit', 'sampdoria', 'univ chile', 'dep maldonado', 'avai',\n",
       "       'guayaquill', 'roma', 'central', 'al rayan', 'al saad', 'orebro',\n",
       "       'bolton', 'herediano', 'la paz', 'umm salal', 'helsingborg',\n",
       "       'tranmere', 'trabzonspor', 'quilmes', 'tulsa', 'cibao', 'dorados',\n",
       "       'kpv', 'silkeborg', 'hapoel', 'sivasspor', 'nice', 'hearts',\n",
       "       'always ready', 'vila nova', 'potosi', 'sagan tusu', 'cannons',\n",
       "       'green gully', 'lahti', 'gornik', 'nikobing', 'eindhoven',\n",
       "       'girona', 'lazio', 'luton', 'freiburg', 'paços', 'boston', 'oxaca',\n",
       "       'general caballero', 'bordeaux', 'man city', 'lustenau',\n",
       "       'leicester', 'elche', 'jerv', 'arsenal', 'boavista', 'quevilly',\n",
       "       'nurberg', 'milan', 'lenns', 'vinto', 'torque', 'koln', 'vaasa',\n",
       "       'mjondalen', 'start', 'konyanspor', 'djugarden', 'como',\n",
       "       'corinthains', 'fastav', 'sassuolo', 'cralova', 'leeds', 'benfica',\n",
       "       'c. palace', 'tombense', 'tuzla city', 'viktoria plzen',\n",
       "       'al-arab doha', 'alacranes', 'philadelphia', 'valour', 'del valle',\n",
       "       'hvdovre', 'sandvikens', 'klasvik', 'anderlecht', 'atalanta',\n",
       "       'helsingor', 'horn', 'nautico', 'emelec', 'ternana',\n",
       "       'union berlim', 'genoa', 'leverkusen', 'bodo', 'armstetten',\n",
       "       'dep municipal', 'antwerp', 'sudtirol', 'lask', 'sogndal',\n",
       "       'salernitana', 'galatasaray', 'u. craiova', 'chaves',\n",
       "       'def y justicia', 'delfin', 'oriente petrolero', 'zagreb',\n",
       "       'trelleborgs', 'psg', 'envigado', 'univ. vinto', 'yokohama',\n",
       "       'jeonbuk', 'tokyo', 'vissel', 'deagu', 'ajax', 'barcelona',\n",
       "       'tottenham', 'gen caballero', 'univ. chile', 'venados',\n",
       "       'mohamedia', 'colo colo', 'real espana', 'SP', 'diriangen',\n",
       "       'tetoua', 'nurnberg', 'sonderjyske', 'top oss', 'floridsdorfer',\n",
       "       'werder bremen', 'vilafranquense', 'seoul', 'brommapojkarna',\n",
       "       'paderborn', 'lugo', 'parma', 'cosenza', 'vasteras', 'benevento',\n",
       "       'bayer', 'nashville', 'alianza lima', 'plaza', 'forge',\n",
       "       'portuguesa', 'hammarby', 'aucas', 'kongsvinger', 'jagiellonia',\n",
       "       'estrela', 'demirspor', 'vizela', 'ferro castil', 'bayern',\n",
       "       'marselha', 'shaktar', 'cobresal', 'sheriff', 'def sportig',\n",
       "       'america cali', 'al attihad', 'braunschwreig', 'brescia',\n",
       "       'gil vicente', 'dep brasil', 'krakow', 'fortuna', 'mouloudia',\n",
       "       'univ deportes', 'real salt lake', 'midtjylland', 'raja',\n",
       "       'hoffenheim', 'fla', 'pacific', 'feirense', 'nac assuncion',\n",
       "       'boston river', 'boca jr', 'san antonio', 'cortulua', 'croacia',\n",
       "       'belgica', 'polonia', 'aguilas', 'atl morelia', 'dep. maldonado',\n",
       "       'ind. del valle', 'sao caetano', 'dinamarca', 'país de gales',\n",
       "       'paises baixos', 'indy', 'cerro porteno', 'brasil', 'noruega',\n",
       "       'portugal', 'raya 2', 'honduras', 'royal pari', 'ind santa fé',\n",
       "       'first vienna', 'tampines', 'greuther', 'holstein', 'spal',\n",
       "       'vendsyssel', 'cittadella', 'nykobing', 'southampton',\n",
       "       'crystal palace', 'salzburg', 'wolfsburg', 'lillestrom',\n",
       "       'tec. universitário', 'al seeb', 'bayer munique', 'porto',\n",
       "       'godoy cruz', 'nacional potosi', 'leones negros', 'pumas tabasco',\n",
       "       'jorge willstermann', 'america', 'amstetten', 'austria vienna',\n",
       "       'vowarts', 'adanaspor', 'lyon', 'maldonado', 'huachipato',\n",
       "       'jaguares', 'hamburgo', 'reims', 'burgos', 'union espanola',\n",
       "       'dep. pasto', 'ostersunds', 'boa vista', 'zaragoza', 'radomlje',\n",
       "       'kfum', 'gliwice', 'alianza petrolera', 'wigan', 'cerro largo',\n",
       "       'raya2', 'ferro carril', 'dep. pereira', 'jokopings', 'potosí',\n",
       "       'alavés', 'rangers', 'feyenoord', 'river uru', 'fcsb', 'guaraní',\n",
       "       'r. tomayapo', 'san lorenzo res', 'banfield res', 'talleres res',\n",
       "       'pazar', 'lodz', 'mas fes', 'defensa y justicia', 'boyaca',\n",
       "       'fullham', 'wolverhampton', 'lorient', 'klagenfurt', 'torino',\n",
       "       'sittard', 'estrela amadora', 'huesca', 'eagles', 'plodiv',\n",
       "       'tigre res', 'racing res', 'al akhdod', 'brann', 'landskrona',\n",
       "       'bastia', 'villareal', 'hermmanstadt', 'grazer', 'lucerne',\n",
       "       'tambetary', 'augsburg', 'union española', 'el hodoud', 'hammaby',\n",
       "       'mannuci', 'skalica', 'liefering', 'opava', 'ajjacio',\n",
       "       'widzew lodz', 'brugge', 'chape', 'dep cuenca', 'farmalicão',\n",
       "       'montpelier', 'legia varsovia', 'hamkam', 'valência', 'rkc',\n",
       "       'estoril praia', 'belenenses', 'america de cali', 'cumbaya',\n",
       "       'ploiesti', 'sirius', 'ajax b', 'zaglebie', 'celta', 'krsko',\n",
       "       'rabat', 'napoli', 'atl. progreso', 'univ. de chile',\n",
       "       'dinamo bucareste', 'berkane', 'são paulo', 'cerro porteño',\n",
       "       'blagoevgrad', 'sigma', 'targoviste', 'kardzhali', 'st polten',\n",
       "       'greuther furth', 'magdeburg', 'vvv', 'paços ferreira',\n",
       "       'san antonio fc', 'heerenveen', 'stromsgodset', 'leganes',\n",
       "       'colo-colo', 'giannina', 'botev', 'verona', 'elfsborg'],\n",
       "      dtype=object)"
      ]
     },
     "execution_count": 280,
     "metadata": {},
     "output_type": "execute_result"
    }
   ],
   "source": [
    "football_data['Home Team'].unique()"
   ]
  },
  {
   "cell_type": "code",
   "execution_count": 281,
   "id": "ce94965c",
   "metadata": {},
   "outputs": [
    {
     "name": "stdout",
     "output_type": "stream",
     "text": [
      "Unique home teams: 784\n",
      "Unique away teams: 885\n"
     ]
    }
   ],
   "source": [
    "print(\"Unique home teams:\", football_data['Home Team'].nunique())\n",
    "print(\"Unique away teams:\", football_data['Away Team'].nunique())\n"
   ]
  },
  {
   "cell_type": "code",
   "execution_count": 282,
   "id": "dd094be6",
   "metadata": {},
   "outputs": [
    {
     "data": {
      "text/plain": [
       "Date          0\n",
       "Home Team     0\n",
       "Away Team     0\n",
       "Bet Type      0\n",
       "Bet Amount    0\n",
       "Odds          0\n",
       "Profit        0\n",
       "Win/Loss      0\n",
       "dtype: int64"
      ]
     },
     "execution_count": 282,
     "metadata": {},
     "output_type": "execute_result"
    }
   ],
   "source": [
    "football_data.isnull().sum()"
   ]
  },
  {
   "cell_type": "code",
   "execution_count": 283,
   "id": "002a6407",
   "metadata": {},
   "outputs": [],
   "source": [
    "#normalize team names\n",
    "football_data['Home Team'] = football_data['Home Team'].str.lower().str.strip()\n",
    "football_data['Away Team'] = football_data['Away Team'].str.lower().str.strip()\n",
    "\n"
   ]
  },
  {
   "cell_type": "code",
   "execution_count": 284,
   "id": "85c7a77f",
   "metadata": {},
   "outputs": [],
   "source": [
    "team_name_map = {\n",
    "    # Fix accents and formatting\n",
    "    'rosário': 'rosario',\n",
    "    'atlético mg': 'atl mg',\n",
    "    'atlético fênix': 'atl fênix',\n",
    "    'atlético madrid': 'atletico madrid',\n",
    "    'universitário': 'universitario',\n",
    "    'ceará': 'ceara',\n",
    "    'cuiabá': 'cuiaba',\n",
    "    'san lorenzo res': 'san lorenzo',\n",
    "    'banfield res': 'banfield',\n",
    "    'talleres res': 'talleres',\n",
    "    '  gremio': 'gremio',\n",
    "    'croácia': 'croatia',\n",
    "    'países baixos': 'netherlands',\n",
    "    'santa fé': 'santa fe',\n",
    "    'atl fenix': 'atl fênix',\n",
    "    'atlético go': 'atl go',\n",
    "    'indepediente': 'independiente',\n",
    "    'gales': 'wales',\n",
    "    'del valle': 'ind. del valle',\n",
    "    \n",
    "    # Consolidate naming variations\n",
    "    'ny rb': 'ny red bulls',\n",
    "    'nyc': 'ny city',\n",
    "    'ny': 'ny city',\n",
    "    'charllote': 'charlotte',\n",
    "    'ny red bulls': 'ny red bulls',  # unify spelling\n",
    "    \n",
    "    # Translate or unify other known aliases\n",
    "    'zurique': 'zurich',\n",
    "    'guilhermo': 'guillermo',\n",
    "    'vila': 'vila nova',\n",
    "    'croacia': 'croatia',\n",
    "    'dinamarca': 'denmark',\n",
    "    'país de gales': 'wales',\n",
    "    'paises baixos': 'netherlands',\n",
    "    'espanha': 'spain',\n",
    "    'alemanha': 'germany',\n",
    "    'frança': 'france',\n",
    "    'islandia': 'iceland',\n",
    "    'nikobing': 'nykobing',\n",
    "}\n",
    "\n",
    "football_data['Home Team'] = football_data['Home Team'].replace(team_name_map)\n",
    "football_data['Away Team'] = football_data['Away Team'].replace(team_name_map)\n"
   ]
  },
  {
   "cell_type": "code",
   "execution_count": 285,
   "id": "20a31d34",
   "metadata": {},
   "outputs": [],
   "source": [
    "#remove damaged data\n",
    "bad_teams = ['A', 'B', 'FF', 'PK', 'Múltipla 4']\n",
    "football_data = football_data[\n",
    "    ~football_data['Home Team'].isin(bad_teams) &\n",
    "    ~football_data['Away Team'].isin(bad_teams)\n",
    "]"
   ]
  },
  {
   "cell_type": "code",
   "execution_count": 286,
   "id": "9f4c160f",
   "metadata": {},
   "outputs": [
    {
     "name": "stdout",
     "output_type": "stream",
     "text": [
      "Unique home teams: 770\n",
      "Unique away teams: 792\n"
     ]
    }
   ],
   "source": [
    "print(\"Unique home teams:\", football_data['Home Team'].nunique())\n",
    "print(\"Unique away teams:\", football_data['Away Team'].nunique())\n"
   ]
  },
  {
   "cell_type": "code",
   "execution_count": 287,
   "id": "36b41251",
   "metadata": {},
   "outputs": [
    {
     "data": {
      "text/html": [
       "<div>\n",
       "<style scoped>\n",
       "    .dataframe tbody tr th:only-of-type {\n",
       "        vertical-align: middle;\n",
       "    }\n",
       "\n",
       "    .dataframe tbody tr th {\n",
       "        vertical-align: top;\n",
       "    }\n",
       "\n",
       "    .dataframe thead th {\n",
       "        text-align: right;\n",
       "    }\n",
       "</style>\n",
       "<table border=\"1\" class=\"dataframe\">\n",
       "  <thead>\n",
       "    <tr style=\"text-align: right;\">\n",
       "      <th></th>\n",
       "      <th>Date</th>\n",
       "      <th>Home Team</th>\n",
       "      <th>Away Team</th>\n",
       "      <th>Bet Type</th>\n",
       "      <th>Bet Amount</th>\n",
       "      <th>Odds</th>\n",
       "      <th>Profit</th>\n",
       "      <th>Win/Loss</th>\n",
       "    </tr>\n",
       "  </thead>\n",
       "  <tbody>\n",
       "    <tr>\n",
       "      <th>1219</th>\n",
       "      <td>2022-10-06</td>\n",
       "      <td>lanus</td>\n",
       "      <td>arg jrs</td>\n",
       "      <td>20-30</td>\n",
       "      <td>10</td>\n",
       "      <td>1.66</td>\n",
       "      <td>6.6</td>\n",
       "      <td>Green</td>\n",
       "    </tr>\n",
       "    <tr>\n",
       "      <th>137</th>\n",
       "      <td>2022-07-16</td>\n",
       "      <td>ham-kam</td>\n",
       "      <td>bodo</td>\n",
       "      <td>20-30</td>\n",
       "      <td>10</td>\n",
       "      <td>1.44</td>\n",
       "      <td>4.4</td>\n",
       "      <td>Green</td>\n",
       "    </tr>\n",
       "    <tr>\n",
       "      <th>1407</th>\n",
       "      <td>2022-10-19</td>\n",
       "      <td>elche</td>\n",
       "      <td>real madrid</td>\n",
       "      <td>60-70</td>\n",
       "      <td>10</td>\n",
       "      <td>1.57</td>\n",
       "      <td>5.7</td>\n",
       "      <td>Green</td>\n",
       "    </tr>\n",
       "    <tr>\n",
       "      <th>806</th>\n",
       "      <td>2022-08-29</td>\n",
       "      <td>start</td>\n",
       "      <td>grorud</td>\n",
       "      <td>20-30</td>\n",
       "      <td>40</td>\n",
       "      <td>1.50</td>\n",
       "      <td>20.0</td>\n",
       "      <td>Red</td>\n",
       "    </tr>\n",
       "    <tr>\n",
       "      <th>1461</th>\n",
       "      <td>2022-10-22</td>\n",
       "      <td>chelsea</td>\n",
       "      <td>man united</td>\n",
       "      <td>gols</td>\n",
       "      <td>2</td>\n",
       "      <td>1.50</td>\n",
       "      <td>1.0</td>\n",
       "      <td>Red</td>\n",
       "    </tr>\n",
       "    <tr>\n",
       "      <th>147</th>\n",
       "      <td>2022-07-16</td>\n",
       "      <td>flamengo</td>\n",
       "      <td>coritiba</td>\n",
       "      <td>00-10</td>\n",
       "      <td>10</td>\n",
       "      <td>1.53</td>\n",
       "      <td>5.3</td>\n",
       "      <td>Green</td>\n",
       "    </tr>\n",
       "    <tr>\n",
       "      <th>973</th>\n",
       "      <td>2022-09-10</td>\n",
       "      <td>ceara</td>\n",
       "      <td>santos</td>\n",
       "      <td>00-10</td>\n",
       "      <td>10</td>\n",
       "      <td>1.53</td>\n",
       "      <td>5.3</td>\n",
       "      <td>Green</td>\n",
       "    </tr>\n",
       "    <tr>\n",
       "      <th>1271</th>\n",
       "      <td>2022-10-10</td>\n",
       "      <td>audax</td>\n",
       "      <td>u. la calera</td>\n",
       "      <td>30-40</td>\n",
       "      <td>10</td>\n",
       "      <td>1.61</td>\n",
       "      <td>6.1</td>\n",
       "      <td>Green</td>\n",
       "    </tr>\n",
       "    <tr>\n",
       "      <th>1259</th>\n",
       "      <td>2022-10-09</td>\n",
       "      <td>boa vista</td>\n",
       "      <td>marítimo</td>\n",
       "      <td>00-10</td>\n",
       "      <td>10</td>\n",
       "      <td>1.57</td>\n",
       "      <td>5.7</td>\n",
       "      <td>Green</td>\n",
       "    </tr>\n",
       "    <tr>\n",
       "      <th>1449</th>\n",
       "      <td>2022-10-22</td>\n",
       "      <td>man city</td>\n",
       "      <td>brighton</td>\n",
       "      <td>gols</td>\n",
       "      <td>10</td>\n",
       "      <td>3.25</td>\n",
       "      <td>22.5</td>\n",
       "      <td>Green</td>\n",
       "    </tr>\n",
       "  </tbody>\n",
       "</table>\n",
       "</div>"
      ],
      "text/plain": [
       "            Date  Home Team     Away Team Bet Type  Bet Amount  Odds  Profit  \\\n",
       "1219  2022-10-06      lanus       arg jrs    20-30          10  1.66     6.6   \n",
       "137   2022-07-16    ham-kam          bodo    20-30          10  1.44     4.4   \n",
       "1407  2022-10-19      elche   real madrid    60-70          10  1.57     5.7   \n",
       "806   2022-08-29      start        grorud    20-30          40  1.50    20.0   \n",
       "1461  2022-10-22    chelsea    man united     gols           2  1.50     1.0   \n",
       "147   2022-07-16   flamengo      coritiba    00-10          10  1.53     5.3   \n",
       "973   2022-09-10      ceara        santos    00-10          10  1.53     5.3   \n",
       "1271  2022-10-10      audax  u. la calera    30-40          10  1.61     6.1   \n",
       "1259  2022-10-09  boa vista      marítimo    00-10          10  1.57     5.7   \n",
       "1449  2022-10-22   man city      brighton     gols          10  3.25    22.5   \n",
       "\n",
       "     Win/Loss  \n",
       "1219    Green  \n",
       "137     Green  \n",
       "1407    Green  \n",
       "806       Red  \n",
       "1461      Red  \n",
       "147     Green  \n",
       "973     Green  \n",
       "1271    Green  \n",
       "1259    Green  \n",
       "1449    Green  "
      ]
     },
     "execution_count": 287,
     "metadata": {},
     "output_type": "execute_result"
    }
   ],
   "source": [
    "football_data.sample(10)"
   ]
  },
  {
   "cell_type": "markdown",
   "id": "85b198cd",
   "metadata": {},
   "source": [
    "Label encoding"
   ]
  },
  {
   "cell_type": "code",
   "execution_count": 288,
   "id": "c63fc39b",
   "metadata": {},
   "outputs": [
    {
     "name": "stdout",
     "output_type": "stream",
     "text": [
      "<class 'pandas.core.frame.DataFrame'>\n",
      "Index: 1541 entries, 0 to 1563\n",
      "Data columns (total 8 columns):\n",
      " #   Column      Non-Null Count  Dtype  \n",
      "---  ------      --------------  -----  \n",
      " 0   Date        1541 non-null   object \n",
      " 1   Home Team   1541 non-null   object \n",
      " 2   Away Team   1541 non-null   object \n",
      " 3   Bet Type    1541 non-null   object \n",
      " 4   Bet Amount  1541 non-null   int64  \n",
      " 5   Odds        1541 non-null   float64\n",
      " 6   Profit      1541 non-null   float64\n",
      " 7   Win/Loss    1541 non-null   object \n",
      "dtypes: float64(2), int64(1), object(5)\n",
      "memory usage: 108.4+ KB\n"
     ]
    }
   ],
   "source": [
    "football_data.info()"
   ]
  },
  {
   "cell_type": "markdown",
   "id": "5e9a6adc",
   "metadata": {},
   "source": [
    "convert Win/Loss to binary"
   ]
  },
  {
   "cell_type": "code",
   "execution_count": 289,
   "id": "f0fc5da9",
   "metadata": {},
   "outputs": [],
   "source": [
    "football_data['Win/Loss'] = football_data['Win/Loss'].map({'Green': 1, 'Red': 0})"
   ]
  },
  {
   "cell_type": "markdown",
   "id": "47a7b669",
   "metadata": {},
   "source": [
    "change Bet type to One-hot encoding"
   ]
  },
  {
   "cell_type": "code",
   "execution_count": 290,
   "id": "c7a86a3c",
   "metadata": {},
   "outputs": [],
   "source": [
    "#football_data = pd.get_dummies(football_data, columns=['Bet Type'], prefix='Bet')"
   ]
  },
  {
   "cell_type": "code",
   "execution_count": 291,
   "id": "8e4e416a",
   "metadata": {},
   "outputs": [
    {
     "data": {
      "text/html": [
       "<div>\n",
       "<style scoped>\n",
       "    .dataframe tbody tr th:only-of-type {\n",
       "        vertical-align: middle;\n",
       "    }\n",
       "\n",
       "    .dataframe tbody tr th {\n",
       "        vertical-align: top;\n",
       "    }\n",
       "\n",
       "    .dataframe thead th {\n",
       "        text-align: right;\n",
       "    }\n",
       "</style>\n",
       "<table border=\"1\" class=\"dataframe\">\n",
       "  <thead>\n",
       "    <tr style=\"text-align: right;\">\n",
       "      <th></th>\n",
       "      <th>Date</th>\n",
       "      <th>Home Team</th>\n",
       "      <th>Away Team</th>\n",
       "      <th>Bet Type</th>\n",
       "      <th>Bet Amount</th>\n",
       "      <th>Odds</th>\n",
       "      <th>Profit</th>\n",
       "      <th>Win/Loss</th>\n",
       "    </tr>\n",
       "  </thead>\n",
       "  <tbody>\n",
       "    <tr>\n",
       "      <th>0</th>\n",
       "      <td>2022-07-01</td>\n",
       "      <td>inglaterra</td>\n",
       "      <td>israel</td>\n",
       "      <td>60-70</td>\n",
       "      <td>10</td>\n",
       "      <td>1.57</td>\n",
       "      <td>5.7</td>\n",
       "      <td>1</td>\n",
       "    </tr>\n",
       "    <tr>\n",
       "      <th>1</th>\n",
       "      <td>2022-07-01</td>\n",
       "      <td>ayacucho</td>\n",
       "      <td>cantolao</td>\n",
       "      <td>10-20</td>\n",
       "      <td>10</td>\n",
       "      <td>1.50</td>\n",
       "      <td>5.0</td>\n",
       "      <td>1</td>\n",
       "    </tr>\n",
       "    <tr>\n",
       "      <th>2</th>\n",
       "      <td>2022-07-01</td>\n",
       "      <td>ayacucho</td>\n",
       "      <td>cantolao</td>\n",
       "      <td>20-30</td>\n",
       "      <td>10</td>\n",
       "      <td>1.50</td>\n",
       "      <td>5.0</td>\n",
       "      <td>1</td>\n",
       "    </tr>\n",
       "    <tr>\n",
       "      <th>3</th>\n",
       "      <td>2022-07-01</td>\n",
       "      <td>lara</td>\n",
       "      <td>ucv ac. 0,5 gols</td>\n",
       "      <td>gols</td>\n",
       "      <td>10</td>\n",
       "      <td>1.61</td>\n",
       "      <td>6.1</td>\n",
       "      <td>0</td>\n",
       "    </tr>\n",
       "    <tr>\n",
       "      <th>4</th>\n",
       "      <td>2022-07-01</td>\n",
       "      <td>guairena</td>\n",
       "      <td>asuncion</td>\n",
       "      <td>20-30</td>\n",
       "      <td>10</td>\n",
       "      <td>1.57</td>\n",
       "      <td>5.7</td>\n",
       "      <td>1</td>\n",
       "    </tr>\n",
       "  </tbody>\n",
       "</table>\n",
       "</div>"
      ],
      "text/plain": [
       "         Date   Home Team         Away Team Bet Type  Bet Amount  Odds  \\\n",
       "0  2022-07-01  inglaterra            israel    60-70          10  1.57   \n",
       "1  2022-07-01    ayacucho          cantolao    10-20          10  1.50   \n",
       "2  2022-07-01    ayacucho          cantolao    20-30          10  1.50   \n",
       "3  2022-07-01        lara  ucv ac. 0,5 gols     gols          10  1.61   \n",
       "4  2022-07-01    guairena          asuncion    20-30          10  1.57   \n",
       "\n",
       "   Profit  Win/Loss  \n",
       "0     5.7         1  \n",
       "1     5.0         1  \n",
       "2     5.0         1  \n",
       "3     6.1         0  \n",
       "4     5.7         1  "
      ]
     },
     "execution_count": 291,
     "metadata": {},
     "output_type": "execute_result"
    }
   ],
   "source": [
    "football_data.head()"
   ]
  },
  {
   "cell_type": "markdown",
   "id": "3b96cd3a",
   "metadata": {},
   "source": [
    "label encode home and away team and make sure a team in Home will have the same ID in Away"
   ]
  },
  {
   "cell_type": "code",
   "execution_count": 292,
   "id": "88716be6",
   "metadata": {},
   "outputs": [],
   "source": [
    "##all_teams = pd.concat([football_data['Home Team'], football_data['Away Team']]).unique()\n",
    "\n",
    "# Fit one LabelEncoder on all teams\n",
    "##team_encoder = LabelEncoder()\n",
    "##team_encoder.fit(all_teams)\n",
    "\n",
    "# Apply the same encoder to both columns\n",
    "##football_data['Home Team'] = team_encoder.transform(football_data['Home Team'])\n",
    "##football_data['Away Team'] = team_encoder.transform(football_data['Away Team'])"
   ]
  },
  {
   "cell_type": "code",
   "execution_count": 293,
   "id": "14165ae3",
   "metadata": {},
   "outputs": [],
   "source": [
    "#removes whitespace from column names and replaces spaces with underscores\n",
    "football_data.columns = [col.strip().replace(' ', '_') for col in football_data.columns]\n",
    "football_data.to_csv('cleaned_football_data.csv', index=False)"
   ]
  },
  {
   "cell_type": "code",
   "execution_count": 294,
   "id": "11e62c49",
   "metadata": {},
   "outputs": [
    {
     "data": {
      "text/html": [
       "<div>\n",
       "<style scoped>\n",
       "    .dataframe tbody tr th:only-of-type {\n",
       "        vertical-align: middle;\n",
       "    }\n",
       "\n",
       "    .dataframe tbody tr th {\n",
       "        vertical-align: top;\n",
       "    }\n",
       "\n",
       "    .dataframe thead th {\n",
       "        text-align: right;\n",
       "    }\n",
       "</style>\n",
       "<table border=\"1\" class=\"dataframe\">\n",
       "  <thead>\n",
       "    <tr style=\"text-align: right;\">\n",
       "      <th></th>\n",
       "      <th>Date</th>\n",
       "      <th>Home_Team</th>\n",
       "      <th>Away_Team</th>\n",
       "      <th>Bet_Type</th>\n",
       "      <th>Bet_Amount</th>\n",
       "      <th>Odds</th>\n",
       "      <th>Profit</th>\n",
       "      <th>Win/Loss</th>\n",
       "    </tr>\n",
       "  </thead>\n",
       "  <tbody>\n",
       "    <tr>\n",
       "      <th>1250</th>\n",
       "      <td>2022-10-08</td>\n",
       "      <td>corinthians</td>\n",
       "      <td>athletico pr</td>\n",
       "      <td>00-10</td>\n",
       "      <td>10</td>\n",
       "      <td>1.53</td>\n",
       "      <td>5.3</td>\n",
       "      <td>1</td>\n",
       "    </tr>\n",
       "    <tr>\n",
       "      <th>375</th>\n",
       "      <td>2022-08-03</td>\n",
       "      <td>maryland</td>\n",
       "      <td>cal</td>\n",
       "      <td>20-30</td>\n",
       "      <td>10</td>\n",
       "      <td>1.50</td>\n",
       "      <td>5.0</td>\n",
       "      <td>0</td>\n",
       "    </tr>\n",
       "    <tr>\n",
       "      <th>403</th>\n",
       "      <td>2022-08-05</td>\n",
       "      <td>randers</td>\n",
       "      <td>horsens</td>\n",
       "      <td>0</td>\n",
       "      <td>10</td>\n",
       "      <td>1.57</td>\n",
       "      <td>5.7</td>\n",
       "      <td>1</td>\n",
       "    </tr>\n",
       "    <tr>\n",
       "      <th>1239</th>\n",
       "      <td>2022-10-08</td>\n",
       "      <td>hamburgo</td>\n",
       "      <td>kaiserslautern</td>\n",
       "      <td>00-10</td>\n",
       "      <td>10</td>\n",
       "      <td>1.53</td>\n",
       "      <td>5.3</td>\n",
       "      <td>1</td>\n",
       "    </tr>\n",
       "    <tr>\n",
       "      <th>1451</th>\n",
       "      <td>2022-10-22</td>\n",
       "      <td>man city</td>\n",
       "      <td>brighton</td>\n",
       "      <td>gols</td>\n",
       "      <td>10</td>\n",
       "      <td>3.40</td>\n",
       "      <td>24.0</td>\n",
       "      <td>1</td>\n",
       "    </tr>\n",
       "    <tr>\n",
       "      <th>719</th>\n",
       "      <td>2022-08-24</td>\n",
       "      <td>flu</td>\n",
       "      <td>corinthians</td>\n",
       "      <td>20-30</td>\n",
       "      <td>10</td>\n",
       "      <td>1.50</td>\n",
       "      <td>5.0</td>\n",
       "      <td>1</td>\n",
       "    </tr>\n",
       "    <tr>\n",
       "      <th>1169</th>\n",
       "      <td>2022-10-01</td>\n",
       "      <td>brusque</td>\n",
       "      <td>criciuma</td>\n",
       "      <td>60-70</td>\n",
       "      <td>40</td>\n",
       "      <td>1.50</td>\n",
       "      <td>20.0</td>\n",
       "      <td>0</td>\n",
       "    </tr>\n",
       "    <tr>\n",
       "      <th>1347</th>\n",
       "      <td>2022-10-13</td>\n",
       "      <td>junior</td>\n",
       "      <td>u. magdalena</td>\n",
       "      <td>20-30</td>\n",
       "      <td>10</td>\n",
       "      <td>1.66</td>\n",
       "      <td>6.6</td>\n",
       "      <td>1</td>\n",
       "    </tr>\n",
       "    <tr>\n",
       "      <th>87</th>\n",
       "      <td>2022-07-11</td>\n",
       "      <td>colon</td>\n",
       "      <td>velez</td>\n",
       "      <td>10-20</td>\n",
       "      <td>10</td>\n",
       "      <td>1.50</td>\n",
       "      <td>5.0</td>\n",
       "      <td>1</td>\n",
       "    </tr>\n",
       "    <tr>\n",
       "      <th>1080</th>\n",
       "      <td>2022-09-19</td>\n",
       "      <td>feirense</td>\n",
       "      <td>olivereinse</td>\n",
       "      <td>30-40</td>\n",
       "      <td>10</td>\n",
       "      <td>1.50</td>\n",
       "      <td>5.0</td>\n",
       "      <td>1</td>\n",
       "    </tr>\n",
       "  </tbody>\n",
       "</table>\n",
       "</div>"
      ],
      "text/plain": [
       "            Date    Home_Team       Away_Team Bet_Type  Bet_Amount  Odds  \\\n",
       "1250  2022-10-08  corinthians    athletico pr    00-10          10  1.53   \n",
       "375   2022-08-03     maryland             cal    20-30          10  1.50   \n",
       "403   2022-08-05      randers         horsens        0          10  1.57   \n",
       "1239  2022-10-08     hamburgo  kaiserslautern    00-10          10  1.53   \n",
       "1451  2022-10-22     man city        brighton     gols          10  3.40   \n",
       "719   2022-08-24          flu     corinthians    20-30          10  1.50   \n",
       "1169  2022-10-01      brusque        criciuma    60-70          40  1.50   \n",
       "1347  2022-10-13       junior    u. magdalena    20-30          10  1.66   \n",
       "87    2022-07-11        colon           velez    10-20          10  1.50   \n",
       "1080  2022-09-19     feirense     olivereinse    30-40          10  1.50   \n",
       "\n",
       "      Profit  Win/Loss  \n",
       "1250     5.3         1  \n",
       "375      5.0         0  \n",
       "403      5.7         1  \n",
       "1239     5.3         1  \n",
       "1451    24.0         1  \n",
       "719      5.0         1  \n",
       "1169    20.0         0  \n",
       "1347     6.6         1  \n",
       "87       5.0         1  \n",
       "1080     5.0         1  "
      ]
     },
     "execution_count": 294,
     "metadata": {},
     "output_type": "execute_result"
    }
   ],
   "source": [
    "football_data.sample(10)"
   ]
  }
 ],
 "metadata": {
  "kernelspec": {
   "display_name": "base",
   "language": "python",
   "name": "python3"
  },
  "language_info": {
   "codemirror_mode": {
    "name": "ipython",
    "version": 3
   },
   "file_extension": ".py",
   "mimetype": "text/x-python",
   "name": "python",
   "nbconvert_exporter": "python",
   "pygments_lexer": "ipython3",
   "version": "3.12.7"
  }
 },
 "nbformat": 4,
 "nbformat_minor": 5
}
