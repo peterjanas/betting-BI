{
 "cells": [
  {
   "cell_type": "code",
   "execution_count": 35,
   "id": "35b51280",
   "metadata": {},
   "outputs": [],
   "source": [
    "import pandas as pd\n",
    "import numpy as np\n",
    "\n",
    "import seaborn as sns\n",
    "import matplotlib.pyplot as plt\n",
    "%matplotlib inline\n",
    "\n",
    "from sklearn import tree\n",
    "from sklearn import model_selection\n",
    "from sklearn.metrics import classification_report\n",
    "from sklearn.metrics import confusion_matrix\n",
    "from sklearn.metrics import ConfusionMatrixDisplay\n",
    "from sklearn.model_selection import train_test_split\n",
    "from sklearn.ensemble import RandomForestClassifier\n",
    "import joblib\n",
    "import graphviz\n",
    "\n",
    "\n",
    "from sklearn.ensemble import RandomForestClassifier\n",
    "from sklearn.preprocessing import StandardScaler\n",
    "from sklearn.ensemble import RandomForestClassifier"
   ]
  },
  {
   "cell_type": "code",
   "execution_count": 36,
   "id": "6774e403",
   "metadata": {},
   "outputs": [],
   "source": [
    "df = pd.read_csv('../data/cleaned-premier-onehot.csv')"
   ]
  },
  {
   "cell_type": "markdown",
   "id": "dd74b085",
   "metadata": {},
   "source": [
    "## Using Random forest model"
   ]
  },
  {
   "cell_type": "code",
   "execution_count": 37,
   "id": "2548b804",
   "metadata": {},
   "outputs": [],
   "source": [
    "def get_outcome(row):\n",
    "    if row[\"home_outcome_W\"] == 1:\n",
    "        return 2  # win\n",
    "    elif row[\"home_outcome_D\"] == 1:\n",
    "        return 1  # draw\n",
    "    elif row[\"home_outcome_L\"] == 1:\n",
    "        return 0  # loss\n",
    "\n",
    "df[\"match_result\"] = df.apply(get_outcome, axis=1)"
   ]
  },
  {
   "cell_type": "markdown",
   "id": "907a51f6",
   "metadata": {},
   "source": [
    "### Making new feature to help prediction"
   ]
  },
  {
   "cell_type": "code",
   "execution_count": 38,
   "id": "197a7dcc",
   "metadata": {},
   "outputs": [],
   "source": [
    "df[\"ranking_diff\"] = abs(df[\"home_ranking\"] - df[\"away_ranking\"])\n",
    "\n",
    "df[\"form_diff\"] = abs(\n",
    "    (df[\"home_season_wins_so_far\"] - df[\"home_season_losses_so_far\"]) -\n",
    "    (df[\"away_season_wins_so_far\"] - df[\"away_season_losses_so_far\"])\n",
    ")\n",
    "df[\"odds_ratio\"] = df[\"avg_odd_home_win\"] / df[\"avg_odd_away_win\"]\n",
    "\n",
    "df[\"draw_margin\"] = df[\"avg_odd_draw\"] - ((df[\"avg_odd_home_win\"] + df[\"avg_odd_away_win\"]) / 2)"
   ]
  },
  {
   "cell_type": "code",
   "execution_count": 39,
   "id": "594026aa",
   "metadata": {},
   "outputs": [],
   "source": [
    "# features = [\n",
    "#     \"avg_odd_home_win\",\n",
    "#     \"avg_odd_draw\",\n",
    "#     \"avg_odd_away_win\",\n",
    "#     \"home_ranking\",\n",
    "#     \"away_ranking\",\n",
    "#     \"ranking_diff\",\n",
    "#     \"odds_ratio\",\n",
    "#     \"draw_margin\"\n",
    "# ]"
   ]
  },
  {
   "cell_type": "code",
   "execution_count": 40,
   "id": "0b6a6d50",
   "metadata": {},
   "outputs": [],
   "source": [
    "features = [\n",
    "    \"avg_odd_home_win\",\n",
    "    \"avg_odd_draw\",\n",
    "    \"avg_odd_away_win\",\n",
    "    \"form_diff\",\n",
    "    \"ranking_diff\",\n",
    "    \"odds_ratio\",\n",
    "    \"draw_margin\"\n",
    "]"
   ]
  },
  {
   "cell_type": "code",
   "execution_count": 41,
   "id": "4445f528",
   "metadata": {},
   "outputs": [],
   "source": [
    "# features = [\n",
    "#     \"avg_odd_home_win\", \"avg_odd_draw\", \"avg_odd_away_win\",\n",
    "#     \"home_ranking\", \"away_ranking\",\n",
    "#     \"home_total_wins_so_far\", \"home_total_draws_so_far\", \"home_total_losses_so_far\",\n",
    "#     \"away_total_wins_so_far\", \"away_total_draws_so_far\", \"away_total_losses_so_far\",\n",
    "#     \"form_diff\", \"ranking_diff\", \"odds_ratio\", \"draw_margin\",\n",
    "# ]"
   ]
  },
  {
   "cell_type": "markdown",
   "id": "d7ed74e3",
   "metadata": {},
   "source": [
    "### scale the data"
   ]
  },
  {
   "cell_type": "code",
   "execution_count": 42,
   "id": "525b5138",
   "metadata": {},
   "outputs": [],
   "source": [
    "X = df[features]\n",
    "y = df[\"match_result\"]\n",
    "\n",
    "scaler = StandardScaler()\n",
    "X_scaled = scaler.fit_transform(X)"
   ]
  },
  {
   "cell_type": "markdown",
   "id": "f2960191",
   "metadata": {},
   "source": [
    "### Train the model"
   ]
  },
  {
   "cell_type": "code",
   "execution_count": 43,
   "id": "e0a2d10f",
   "metadata": {},
   "outputs": [],
   "source": [
    "X_train, X_test, y_train, y_test = train_test_split(\n",
    "    X_scaled, y, test_size=0.25, random_state=42, stratify=y\n",
    ")"
   ]
  },
  {
   "cell_type": "code",
   "execution_count": 44,
   "id": "82e5687d",
   "metadata": {},
   "outputs": [],
   "source": [
    "model = RandomForestClassifier(\n",
    "    n_estimators=300,\n",
    "    max_depth=None,\n",
    "    class_weight=\"balanced\",\n",
    "    random_state=42\n",
    ")\n",
    "\n",
    "# 🧠 Train\n",
    "model.fit(X_train, y_train)\n",
    "\n",
    "y_pred = model.predict(X_test)"
   ]
  },
  {
   "cell_type": "markdown",
   "id": "82b71270",
   "metadata": {},
   "source": [
    "## validate the model"
   ]
  },
  {
   "cell_type": "code",
   "execution_count": 45,
   "id": "07b22483",
   "metadata": {},
   "outputs": [
    {
     "name": "stdout",
     "output_type": "stream",
     "text": [
      "\n",
      "Features used:\n",
      " - avg_odd_home_win\n",
      " - avg_odd_draw\n",
      " - avg_odd_away_win\n",
      " - form_diff\n",
      " - ranking_diff\n",
      " - odds_ratio\n",
      " - draw_margin\n",
      "\n",
      "Confusion Matrix:\n",
      "[[39 14 42]\n",
      " [21 14 46]\n",
      " [26 23 87]]\n",
      "\n",
      "Classification Report:\n",
      "              precision    recall  f1-score   support\n",
      "\n",
      "        loss       0.45      0.41      0.43        95\n",
      "        draw       0.27      0.17      0.21        81\n",
      "         win       0.50      0.64      0.56       136\n",
      "\n",
      "    accuracy                           0.45       312\n",
      "   macro avg       0.41      0.41      0.40       312\n",
      "weighted avg       0.43      0.45      0.43       312\n",
      "\n"
     ]
    }
   ],
   "source": [
    "print(\"\\nFeatures used:\")\n",
    "for f in features:\n",
    "    print(\" -\", f)\n",
    "\n",
    "print(\"\\nConfusion Matrix:\")\n",
    "print(confusion_matrix(y_test, y_pred))\n",
    "\n",
    "labels = [0, 1, 2]\n",
    "names = [\"loss\", \"draw\", \"win\"]    \n",
    "\n",
    "print(\"\\nClassification Report:\")\n",
    "print(classification_report(y_test, y_pred, labels=labels, target_names=names))"
   ]
  },
  {
   "cell_type": "code",
   "execution_count": 46,
   "id": "8279b65a",
   "metadata": {},
   "outputs": [
    {
     "data": {
      "image/png": "[encoded data removed]",
      "text/plain": [
       "<Figure size 640x480 with 2 Axes>"
      ]
     },
     "metadata": {},
     "output_type": "display_data"
    }
   ],
   "source": [
    "# Define label names\n",
    "labels = [0, 1, 2]\n",
    "names = [\"loss\", \"draw\", \"win\"]\n",
    "\n",
    "# Plot confusion matrix\n",
    "disp = ConfusionMatrixDisplay.from_predictions(\n",
    "    y_test,\n",
    "    y_pred,\n",
    "    display_labels=names,\n",
    "    cmap=plt.cm.Blues,\n",
    "    normalize=None  # You can set this to 'true' or 'pred' if you want normalized values\n",
    ")\n",
    "\n",
    "plt.title(\"Confusion Matrix\")\n",
    "plt.show()\n"
   ]
  },
  {
   "cell_type": "code",
   "execution_count": 47,
   "id": "38e30904",
   "metadata": {},
   "outputs": [
    {
     "name": "stdout",
     "output_type": "stream",
     "text": [
      "\n",
      "🔎 Feature Importances (Random Forest):\n",
      "avg_odd_home_win               0.1576\n",
      "avg_odd_draw                   0.1509\n",
      "avg_odd_away_win               0.1692\n",
      "form_diff                      0.0974\n",
      "ranking_diff                   0.1076\n",
      "odds_ratio                     0.1658\n",
      "draw_margin                    0.1515\n"
     ]
    },
    {
     "data": {
      "image/png": "[encoded data removed]",
      "text/plain": [
       "<Figure size 640x480 with 1 Axes>"
      ]
     },
     "metadata": {},
     "output_type": "display_data"
    }
   ],
   "source": [
    "importances = model.feature_importances_\n",
    "\n",
    "print(\"\\n🔎 Feature Importances (Random Forest):\")\n",
    "for feat, score in zip(features, importances):\n",
    "    print(f\"{feat:<30} {score:.4f}\")\n",
    "\n",
    "plt.barh(features, importances)\n",
    "plt.title(\"Feature Importances (Random Forest)\")\n",
    "plt.xlabel(\"Importance Score\")\n",
    "plt.tight_layout()\n",
    "plt.show()"
   ]
  },
  {
   "cell_type": "markdown",
   "id": "d12ac523",
   "metadata": {},
   "source": [
    "### Model Behavior Analysis"
   ]
  },
  {
   "cell_type": "code",
   "execution_count": 48,
   "id": "8a1bd287",
   "metadata": {},
   "outputs": [
    {
     "data": {
      "text/plain": [
       "['../Models/random-forest2-model.pkl']"
      ]
     },
     "execution_count": 48,
     "metadata": {},
     "output_type": "execute_result"
    }
   ],
   "source": [
    "joblib.dump(model, '../Models/random-forest2-model.pkl')"
   ]
  }
 ],
 "metadata": {
  "kernelspec": {
   "display_name": "base",
   "language": "python",
   "name": "python3"
  },
  "language_info": {
   "codemirror_mode": {
    "name": "ipython",
    "version": 3
   },
   "file_extension": ".py",
   "mimetype": "text/x-python",
   "name": "python",
   "nbconvert_exporter": "python",
   "pygments_lexer": "ipython3",
   "version": "3.12.7"
  }
 },
 "nbformat": 4,
 "nbformat_minor": 5
}
