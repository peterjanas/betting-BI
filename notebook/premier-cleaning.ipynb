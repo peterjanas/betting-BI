{
 "cells": [
  {
   "cell_type": "code",
   "execution_count": 364,
   "id": "1d20a554",
   "metadata": {},
   "outputs": [],
   "source": [
    "import pandas as pd\n",
    "import numpy as np\n",
    "\n",
    "from sklearn.preprocessing import LabelEncoder\n",
    "from sklearn.preprocessing import OneHotEncoder"
   ]
  },
  {
   "cell_type": "code",
   "execution_count": 365,
   "id": "5affb007",
   "metadata": {},
   "outputs": [],
   "source": [
    "fb_df = pd.read_csv('../data/Premier-League-2015-2019.csv')\n"
   ]
  },
  {
   "cell_type": "code",
   "execution_count": 366,
   "id": "ed51ae01",
   "metadata": {},
   "outputs": [
    {
     "name": "stdout",
     "output_type": "stream",
     "text": [
      "<class 'pandas.core.frame.DataFrame'>\n",
      "RangeIndex: 1520 entries, 0 to 1519\n",
      "Data columns (total 11 columns):\n",
      " #   Column                    Non-Null Count  Dtype  \n",
      "---  ------                    --------------  -----  \n",
      " 0   Date                      1520 non-null   object \n",
      " 1   HomeTeam                  1520 non-null   object \n",
      " 2   AwayTeam                  1520 non-null   object \n",
      " 3   outcome_by_HOME           1520 non-null   object \n",
      " 4   AVERAGE_ODD_WIN           1520 non-null   float64\n",
      " 5   AVERAGE_ODD_DRAW          1520 non-null   float64\n",
      " 6   AVERAGE_ODD_OPPONENT_WIN  1520 non-null   float64\n",
      " 7   RANKINGHOME               1520 non-null   int64  \n",
      " 8   RANKING AWAY              1520 non-null   int64  \n",
      " 9   LAST_GAME_RHOMETEAM       1520 non-null   int64  \n",
      " 10  LAST_GAME_RAWAYTEAM       1520 non-null   int64  \n",
      "dtypes: float64(3), int64(4), object(4)\n",
      "memory usage: 130.8+ KB\n"
     ]
    }
   ],
   "source": [
    "fb_df.info()"
   ]
  },
  {
   "cell_type": "markdown",
   "id": "2fe05e0e",
   "metadata": {},
   "source": [
    "### Check for duplicates"
   ]
  },
  {
   "cell_type": "code",
   "execution_count": 367,
   "id": "2588ab63",
   "metadata": {},
   "outputs": [
    {
     "data": {
      "text/plain": [
       "0"
      ]
     },
     "execution_count": 367,
     "metadata": {},
     "output_type": "execute_result"
    }
   ],
   "source": [
    "fb_df.duplicated().sum()"
   ]
  },
  {
   "cell_type": "markdown",
   "id": "165a294d",
   "metadata": {},
   "source": [
    "### Checking for missing values"
   ]
  },
  {
   "cell_type": "code",
   "execution_count": 368,
   "id": "bef30bcd",
   "metadata": {},
   "outputs": [
    {
     "data": {
      "text/plain": [
       "Date                        0\n",
       "HomeTeam                    0\n",
       "AwayTeam                    0\n",
       "outcome_by_HOME             0\n",
       "AVERAGE_ODD_WIN             0\n",
       "AVERAGE_ODD_DRAW            0\n",
       "AVERAGE_ODD_OPPONENT_WIN    0\n",
       "RANKINGHOME                 0\n",
       "RANKING AWAY                0\n",
       "LAST_GAME_RHOMETEAM         0\n",
       "LAST_GAME_RAWAYTEAM         0\n",
       "dtype: int64"
      ]
     },
     "execution_count": 368,
     "metadata": {},
     "output_type": "execute_result"
    }
   ],
   "source": [
    "fb_df.isnull().sum()"
   ]
  },
  {
   "cell_type": "markdown",
   "id": "c4741191",
   "metadata": {},
   "source": [
    "### normalize and standardize column names"
   ]
  },
  {
   "cell_type": "code",
   "execution_count": 369,
   "id": "eb262001",
   "metadata": {},
   "outputs": [],
   "source": [
    "fb_df.rename(columns={\n",
    "    'Date': 'date',\n",
    "    'HomeTeam': 'home_team',\n",
    "    'AwayTeam': 'away_team',\n",
    "    'outcome_by_HOME': 'home_outcome',\n",
    "    'AVERAGE_ODD_WIN': 'avg_odd_home_win',\n",
    "    'AVERAGE_ODD_DRAW': 'avg_odd_draw',\n",
    "    'AVERAGE_ODD_OPPONENT_WIN': 'avg_odd_away_win',\n",
    "    'RANKINGHOME': 'home_ranking',\n",
    "    'RANKING AWAY': 'away_ranking',\n",
    "    'LAST_GAME_RHOMETEAM': 'last_home_result',\n",
    "    'LAST_GAME_RAWAYTEAM': 'last_away_result'\n",
    "}, inplace=True)"
   ]
  },
  {
   "cell_type": "code",
   "execution_count": 370,
   "id": "d9a1774f",
   "metadata": {},
   "outputs": [
    {
     "data": {
      "text/html": [
       "<div>\n",
       "<style scoped>\n",
       "    .dataframe tbody tr th:only-of-type {\n",
       "        vertical-align: middle;\n",
       "    }\n",
       "\n",
       "    .dataframe tbody tr th {\n",
       "        vertical-align: top;\n",
       "    }\n",
       "\n",
       "    .dataframe thead th {\n",
       "        text-align: right;\n",
       "    }\n",
       "</style>\n",
       "<table border=\"1\" class=\"dataframe\">\n",
       "  <thead>\n",
       "    <tr style=\"text-align: right;\">\n",
       "      <th></th>\n",
       "      <th>date</th>\n",
       "      <th>home_team</th>\n",
       "      <th>away_team</th>\n",
       "      <th>home_outcome</th>\n",
       "      <th>avg_odd_home_win</th>\n",
       "      <th>avg_odd_draw</th>\n",
       "      <th>avg_odd_away_win</th>\n",
       "      <th>home_ranking</th>\n",
       "      <th>away_ranking</th>\n",
       "      <th>last_home_result</th>\n",
       "      <th>last_away_result</th>\n",
       "    </tr>\n",
       "  </thead>\n",
       "  <tbody>\n",
       "    <tr>\n",
       "      <th>0</th>\n",
       "      <td>08/08/2015</td>\n",
       "      <td>Bournemouth</td>\n",
       "      <td>Aston Villa</td>\n",
       "      <td>L</td>\n",
       "      <td>7.024</td>\n",
       "      <td>3.303</td>\n",
       "      <td>3.748</td>\n",
       "      <td>20</td>\n",
       "      <td>17</td>\n",
       "      <td>0</td>\n",
       "      <td>0</td>\n",
       "    </tr>\n",
       "    <tr>\n",
       "      <th>1</th>\n",
       "      <td>08/08/2015</td>\n",
       "      <td>Chelsea</td>\n",
       "      <td>Swansea</td>\n",
       "      <td>D</td>\n",
       "      <td>6.697</td>\n",
       "      <td>4.338</td>\n",
       "      <td>8.967</td>\n",
       "      <td>1</td>\n",
       "      <td>8</td>\n",
       "      <td>0</td>\n",
       "      <td>0</td>\n",
       "    </tr>\n",
       "    <tr>\n",
       "      <th>2</th>\n",
       "      <td>08/08/2015</td>\n",
       "      <td>Everton</td>\n",
       "      <td>Watford</td>\n",
       "      <td>D</td>\n",
       "      <td>6.842</td>\n",
       "      <td>3.514</td>\n",
       "      <td>4.852</td>\n",
       "      <td>11</td>\n",
       "      <td>20</td>\n",
       "      <td>0</td>\n",
       "      <td>0</td>\n",
       "    </tr>\n",
       "    <tr>\n",
       "      <th>3</th>\n",
       "      <td>08/08/2015</td>\n",
       "      <td>Leicester</td>\n",
       "      <td>Sunderland</td>\n",
       "      <td>W</td>\n",
       "      <td>7.000</td>\n",
       "      <td>3.207</td>\n",
       "      <td>3.742</td>\n",
       "      <td>14</td>\n",
       "      <td>16</td>\n",
       "      <td>0</td>\n",
       "      <td>0</td>\n",
       "    </tr>\n",
       "    <tr>\n",
       "      <th>4</th>\n",
       "      <td>08/08/2015</td>\n",
       "      <td>Man United</td>\n",
       "      <td>Tottenham</td>\n",
       "      <td>W</td>\n",
       "      <td>6.477</td>\n",
       "      <td>3.651</td>\n",
       "      <td>5.318</td>\n",
       "      <td>4</td>\n",
       "      <td>5</td>\n",
       "      <td>0</td>\n",
       "      <td>0</td>\n",
       "    </tr>\n",
       "  </tbody>\n",
       "</table>\n",
       "</div>"
      ],
      "text/plain": [
       "         date    home_team    away_team home_outcome  avg_odd_home_win  \\\n",
       "0  08/08/2015  Bournemouth  Aston Villa            L             7.024   \n",
       "1  08/08/2015      Chelsea      Swansea            D             6.697   \n",
       "2  08/08/2015      Everton      Watford            D             6.842   \n",
       "3  08/08/2015    Leicester   Sunderland            W             7.000   \n",
       "4  08/08/2015   Man United    Tottenham            W             6.477   \n",
       "\n",
       "   avg_odd_draw  avg_odd_away_win  home_ranking  away_ranking  \\\n",
       "0         3.303             3.748            20            17   \n",
       "1         4.338             8.967             1             8   \n",
       "2         3.514             4.852            11            20   \n",
       "3         3.207             3.742            14            16   \n",
       "4         3.651             5.318             4             5   \n",
       "\n",
       "   last_home_result  last_away_result  \n",
       "0                 0                 0  \n",
       "1                 0                 0  \n",
       "2                 0                 0  \n",
       "3                 0                 0  \n",
       "4                 0                 0  "
      ]
     },
     "execution_count": 370,
     "metadata": {},
     "output_type": "execute_result"
    }
   ],
   "source": [
    "fb_df.head()"
   ]
  },
  {
   "cell_type": "markdown",
   "id": "c737e152",
   "metadata": {},
   "source": [
    "## Label encoding"
   ]
  },
  {
   "cell_type": "markdown",
   "id": "82c63817",
   "metadata": {},
   "source": [
    "#### label encode home and away team and make sure a team in Home will have the same ID in Away"
   ]
  },
  {
   "cell_type": "code",
   "execution_count": 371,
   "id": "4740cf5d",
   "metadata": {},
   "outputs": [],
   "source": [
    "all_teams = pd.concat([fb_df['home_team'], fb_df['away_team']]).unique()\n",
    "\n",
    "team_encoder = LabelEncoder()\n",
    "team_encoder.fit(all_teams)\n",
    "\n",
    "fb_df['home_team'] = team_encoder.transform(fb_df['home_team'])\n",
    "fb_df['away_team'] = team_encoder.transform(fb_df['away_team'])"
   ]
  },
  {
   "cell_type": "markdown",
   "id": "aac1dccb",
   "metadata": {},
   "source": [
    "### Encoding for home_outcome"
   ]
  },
  {
   "cell_type": "markdown",
   "id": "9bdaf981",
   "metadata": {},
   "source": [
    "#### we will use both one-Hot and label encoding and see if they will affect our results"
   ]
  },
  {
   "cell_type": "markdown",
   "id": "b5f61b43",
   "metadata": {},
   "source": [
    "#### One-Hot encode for home_outcome"
   ]
  },
  {
   "cell_type": "code",
   "execution_count": 372,
   "id": "ce9ced27",
   "metadata": {},
   "outputs": [
    {
     "data": {
      "text/html": [
       "<div>\n",
       "<style scoped>\n",
       "    .dataframe tbody tr th:only-of-type {\n",
       "        vertical-align: middle;\n",
       "    }\n",
       "\n",
       "    .dataframe tbody tr th {\n",
       "        vertical-align: top;\n",
       "    }\n",
       "\n",
       "    .dataframe thead th {\n",
       "        text-align: right;\n",
       "    }\n",
       "</style>\n",
       "<table border=\"1\" class=\"dataframe\">\n",
       "  <thead>\n",
       "    <tr style=\"text-align: right;\">\n",
       "      <th></th>\n",
       "      <th>date</th>\n",
       "      <th>home_team</th>\n",
       "      <th>away_team</th>\n",
       "      <th>home_outcome</th>\n",
       "      <th>avg_odd_home_win</th>\n",
       "      <th>avg_odd_draw</th>\n",
       "      <th>avg_odd_away_win</th>\n",
       "      <th>home_ranking</th>\n",
       "      <th>away_ranking</th>\n",
       "      <th>last_home_result</th>\n",
       "      <th>last_away_result</th>\n",
       "    </tr>\n",
       "  </thead>\n",
       "  <tbody>\n",
       "    <tr>\n",
       "      <th>1220</th>\n",
       "      <td>20/10/2018</td>\n",
       "      <td>2</td>\n",
       "      <td>19</td>\n",
       "      <td>D</td>\n",
       "      <td>6.449</td>\n",
       "      <td>7.087</td>\n",
       "      <td>3.347</td>\n",
       "      <td>12</td>\n",
       "      <td>17</td>\n",
       "      <td>1</td>\n",
       "      <td>-1</td>\n",
       "    </tr>\n",
       "  </tbody>\n",
       "</table>\n",
       "</div>"
      ],
      "text/plain": [
       "            date  home_team  away_team home_outcome  avg_odd_home_win  \\\n",
       "1220  20/10/2018          2         19            D             6.449   \n",
       "\n",
       "      avg_odd_draw  avg_odd_away_win  home_ranking  away_ranking  \\\n",
       "1220         7.087             3.347            12            17   \n",
       "\n",
       "      last_home_result  last_away_result  \n",
       "1220                 1                -1  "
      ]
     },
     "execution_count": 372,
     "metadata": {},
     "output_type": "execute_result"
    }
   ],
   "source": [
    "fb_df.sample(1)"
   ]
  },
  {
   "cell_type": "markdown",
   "id": "dc3a7354",
   "metadata": {},
   "source": [
    "#### Label encoding for home_outcome"
   ]
  },
  {
   "cell_type": "code",
   "execution_count": 373,
   "id": "39880560",
   "metadata": {},
   "outputs": [],
   "source": [
    "#label encoding for home_outcome\n",
    "df_label = fb_df\n",
    "df_label['home_outcome'] = df_label['home_outcome'].map({'L': 0, 'D': 1, 'W': 2})"
   ]
  },
  {
   "cell_type": "code",
   "execution_count": 374,
   "id": "c9b1578d",
   "metadata": {},
   "outputs": [],
   "source": [
    "# One-hot encoding for home_outcome\n",
    "df_onehot = df_label\n",
    "df_onehot = pd.get_dummies(fb_df, columns=['home_outcome'])\n"
   ]
  },
  {
   "cell_type": "code",
   "execution_count": 375,
   "id": "ddaf7044",
   "metadata": {},
   "outputs": [],
   "source": [
    "# One-hot encode last_home_result\n",
    "df_onehot['last_home_result_L'] = (df_onehot['last_home_result'] == -1).astype(int)\n",
    "df_onehot['last_home_result_D'] = (df_onehot['last_home_result'] == 0).astype(int)\n",
    "df_onehot['last_home_result_W'] = (df_onehot['last_home_result'] == 1).astype(int)\n",
    "\n",
    "# One-hot encode last_away_result\n",
    "df_onehot['last_away_result_L'] = (df_onehot['last_away_result'] == -1).astype(int)\n",
    "df_onehot['last_away_result_D'] = (df_onehot['last_away_result'] == 0).astype(int)\n",
    "df_onehot['last_away_result_W'] = (df_onehot['last_away_result'] == 1).astype(int)\n",
    "# Drop the original last_home_result and last_away_result columns\n",
    "df_onehot.drop(columns=['last_home_result', 'last_away_result'], inplace=True)"
   ]
  },
  {
   "cell_type": "code",
   "execution_count": 376,
   "id": "3fc521b9",
   "metadata": {},
   "outputs": [
    {
     "data": {
      "text/html": [
       "<div>\n",
       "<style scoped>\n",
       "    .dataframe tbody tr th:only-of-type {\n",
       "        vertical-align: middle;\n",
       "    }\n",
       "\n",
       "    .dataframe tbody tr th {\n",
       "        vertical-align: top;\n",
       "    }\n",
       "\n",
       "    .dataframe thead th {\n",
       "        text-align: right;\n",
       "    }\n",
       "</style>\n",
       "<table border=\"1\" class=\"dataframe\">\n",
       "  <thead>\n",
       "    <tr style=\"text-align: right;\">\n",
       "      <th></th>\n",
       "      <th>date</th>\n",
       "      <th>home_team</th>\n",
       "      <th>away_team</th>\n",
       "      <th>avg_odd_home_win</th>\n",
       "      <th>avg_odd_draw</th>\n",
       "      <th>avg_odd_away_win</th>\n",
       "      <th>home_ranking</th>\n",
       "      <th>away_ranking</th>\n",
       "      <th>home_outcome_0</th>\n",
       "      <th>home_outcome_1</th>\n",
       "      <th>home_outcome_2</th>\n",
       "      <th>last_home_result_L</th>\n",
       "      <th>last_home_result_D</th>\n",
       "      <th>last_home_result_W</th>\n",
       "      <th>last_away_result_L</th>\n",
       "      <th>last_away_result_D</th>\n",
       "      <th>last_away_result_W</th>\n",
       "    </tr>\n",
       "  </thead>\n",
       "  <tbody>\n",
       "    <tr>\n",
       "      <th>666</th>\n",
       "      <td>01/04/2017</td>\n",
       "      <td>12</td>\n",
       "      <td>20</td>\n",
       "      <td>7.138</td>\n",
       "      <td>3.291</td>\n",
       "      <td>3.737</td>\n",
       "      <td>1</td>\n",
       "      <td>9</td>\n",
       "      <td>False</td>\n",
       "      <td>False</td>\n",
       "      <td>True</td>\n",
       "      <td>0</td>\n",
       "      <td>1</td>\n",
       "      <td>0</td>\n",
       "      <td>0</td>\n",
       "      <td>0</td>\n",
       "      <td>1</td>\n",
       "    </tr>\n",
       "  </tbody>\n",
       "</table>\n",
       "</div>"
      ],
      "text/plain": [
       "           date  home_team  away_team  avg_odd_home_win  avg_odd_draw  \\\n",
       "666  01/04/2017         12         20             7.138         3.291   \n",
       "\n",
       "     avg_odd_away_win  home_ranking  away_ranking  home_outcome_0  \\\n",
       "666             3.737             1             9           False   \n",
       "\n",
       "     home_outcome_1  home_outcome_2  last_home_result_L  last_home_result_D  \\\n",
       "666           False            True                   0                   1   \n",
       "\n",
       "     last_home_result_W  last_away_result_L  last_away_result_D  \\\n",
       "666                   0                   0                   0   \n",
       "\n",
       "     last_away_result_W  \n",
       "666                   1  "
      ]
     },
     "execution_count": 376,
     "metadata": {},
     "output_type": "execute_result"
    }
   ],
   "source": [
    "df_onehot.sample(1)"
   ]
  },
  {
   "cell_type": "code",
   "execution_count": 377,
   "id": "3d16726c",
   "metadata": {},
   "outputs": [],
   "source": [
    "# have to run again to get the correct values for some weird reason\n",
    "#print(df_label['away_ranking'].value_counts().sort_index())"
   ]
  },
  {
   "cell_type": "code",
   "execution_count": 378,
   "id": "b667b441",
   "metadata": {},
   "outputs": [],
   "source": [
    "# have to run again to get the correct values for some weird reason\n",
    "#print(df_label['home_ranking'].value_counts().sort_index())\n"
   ]
  },
  {
   "cell_type": "markdown",
   "id": "f8954385",
   "metadata": {},
   "source": [
    "#### home and away rankings seem to be missing values for 18-19 and 20 seems to be bloated"
   ]
  },
  {
   "cell_type": "markdown",
   "id": "990c8d91",
   "metadata": {},
   "source": [
    "since it seems like the rankings 18-19 might have ended up in 20. i will take all the 20s and randomly assign them 18,19 or 20"
   ]
  },
  {
   "cell_type": "code",
   "execution_count": 379,
   "id": "cc1f15cc",
   "metadata": {},
   "outputs": [
    {
     "data": {
      "text/plain": [
       "\"def redistribute_twenty(column):\\n    # Find where the column equals 20\\n    mask = df_label[column] == 20\\n    n = mask.sum()\\n    \\n    # Generate replacements: evenly split into 18, 19, 20\\n    replacements = np.array([18, 19, 20] * (n // 3 + 1))[:n]\\n    np.random.shuffle(replacements)\\n\\n    # Apply replacements\\n    df_label.loc[mask, column] = replacements\\n\\n# Apply to both columns\\nredistribute_twenty('home_ranking')\\nredistribute_twenty('away_ranking')\\n\""
      ]
     },
     "execution_count": 379,
     "metadata": {},
     "output_type": "execute_result"
    }
   ],
   "source": [
    "\"\"\"def redistribute_twenty(column):\n",
    "    # Find where the column equals 20\n",
    "    mask = df_label[column] == 20\n",
    "    n = mask.sum()\n",
    "    \n",
    "    # Generate replacements: evenly split into 18, 19, 20\n",
    "    replacements = np.array([18, 19, 20] * (n // 3 + 1))[:n]\n",
    "    np.random.shuffle(replacements)\n",
    "\n",
    "    # Apply replacements\n",
    "    df_label.loc[mask, column] = replacements\n",
    "\n",
    "# Apply to both columns\n",
    "redistribute_twenty('home_ranking')\n",
    "redistribute_twenty('away_ranking')\n",
    "\"\"\"\n"
   ]
  },
  {
   "cell_type": "code",
   "execution_count": 380,
   "id": "53a37574",
   "metadata": {},
   "outputs": [],
   "source": [
    "#df_label['home_ranking']"
   ]
  },
  {
   "cell_type": "code",
   "execution_count": 381,
   "id": "7e5e8f21",
   "metadata": {},
   "outputs": [],
   "source": [
    "#print(df_label['away_ranking'].value_counts())"
   ]
  },
  {
   "cell_type": "code",
   "execution_count": 382,
   "id": "dfeae932",
   "metadata": {},
   "outputs": [
    {
     "data": {
      "text/plain": [
       "(1520, 11)"
      ]
     },
     "execution_count": 382,
     "metadata": {},
     "output_type": "execute_result"
    }
   ],
   "source": [
    "df_label.shape"
   ]
  },
  {
   "cell_type": "code",
   "execution_count": 398,
   "id": "ea0176bd",
   "metadata": {},
   "outputs": [
    {
     "name": "stdout",
     "output_type": "stream",
     "text": [
      "away_ranking\n",
      "<class 'int'>    1520\n",
      "Name: count, dtype: int64\n"
     ]
    }
   ],
   "source": [
    "print(df_label['away_ranking'].apply(type).value_counts())"
   ]
  },
  {
   "cell_type": "code",
   "execution_count": 399,
   "id": "7396b91d",
   "metadata": {},
   "outputs": [
    {
     "name": "stdout",
     "output_type": "stream",
     "text": [
      "[17  8 20 16  5 10 12  7  6  2  4 11 15  9 13 14  3  1]\n"
     ]
    }
   ],
   "source": [
    "print(df_label['away_ranking'].unique())"
   ]
  },
  {
   "cell_type": "code",
   "execution_count": 402,
   "id": "5eaee34d",
   "metadata": {},
   "outputs": [
    {
     "name": "stdout",
     "output_type": "stream",
     "text": [
      "[1, 2, 3, 4, 5, 6, 7, 8, 9, 10, 11, 12, 13, 14, 15, 16, 17, 20]\n"
     ]
    }
   ],
   "source": [
    "print(sorted(df_label['away_ranking'].unique()))"
   ]
  },
  {
   "cell_type": "code",
   "execution_count": 400,
   "id": "77eeb73f",
   "metadata": {},
   "outputs": [
    {
     "name": "stdout",
     "output_type": "stream",
     "text": [
      "away_ranking\n",
      "1      76\n",
      "10     76\n",
      "11     76\n",
      "12     76\n",
      "13     76\n",
      "14     76\n",
      "15     76\n",
      "16     76\n",
      "17     76\n",
      "2      76\n",
      "20    228\n",
      "3      76\n",
      "4      76\n",
      "5      76\n",
      "6      76\n",
      "7      76\n",
      "8      76\n",
      "9      76\n",
      "Name: count, dtype: int64\n"
     ]
    }
   ],
   "source": [
    "print(df_label['away_ranking'].astype(str).str.strip().value_counts().sort_index())"
   ]
  },
  {
   "cell_type": "code",
   "execution_count": 401,
   "id": "880e58d6",
   "metadata": {},
   "outputs": [
    {
     "name": "stdout",
     "output_type": "stream",
     "text": [
      "count    1520.000000\n",
      "mean       10.650000\n",
      "std         5.987578\n",
      "min         1.000000\n",
      "25%         5.750000\n",
      "50%        10.500000\n",
      "75%        15.250000\n",
      "max        20.000000\n",
      "Name: away_ranking, dtype: float64\n"
     ]
    }
   ],
   "source": [
    "print(df_label['away_ranking'].describe())"
   ]
  },
  {
   "cell_type": "code",
   "execution_count": 403,
   "id": "6dfdb339",
   "metadata": {},
   "outputs": [
    {
     "name": "stdout",
     "output_type": "stream",
     "text": [
      "away_ranking\n",
      "1      76\n",
      "2      76\n",
      "3      76\n",
      "4      76\n",
      "5      76\n",
      "6      76\n",
      "7      76\n",
      "8      76\n",
      "9      76\n",
      "10     76\n",
      "11     76\n",
      "12     76\n",
      "13     76\n",
      "14     76\n",
      "15     76\n",
      "16     76\n",
      "17     76\n",
      "20    228\n",
      "Name: count, dtype: int64\n"
     ]
    }
   ],
   "source": [
    "# have to run again to get the correct values for some weird reason\n",
    "print(df_label['away_ranking'].value_counts().sort_index())"
   ]
  },
  {
   "cell_type": "markdown",
   "id": "7f8f59ef",
   "metadata": {},
   "source": [
    "### Checking for outliers"
   ]
  },
  {
   "cell_type": "code",
   "execution_count": 384,
   "id": "a1eac964",
   "metadata": {},
   "outputs": [
    {
     "data": {
      "text/html": [
       "<div>\n",
       "<style scoped>\n",
       "    .dataframe tbody tr th:only-of-type {\n",
       "        vertical-align: middle;\n",
       "    }\n",
       "\n",
       "    .dataframe tbody tr th {\n",
       "        vertical-align: top;\n",
       "    }\n",
       "\n",
       "    .dataframe thead th {\n",
       "        text-align: right;\n",
       "    }\n",
       "</style>\n",
       "<table border=\"1\" class=\"dataframe\">\n",
       "  <thead>\n",
       "    <tr style=\"text-align: right;\">\n",
       "      <th></th>\n",
       "      <th>home_team</th>\n",
       "      <th>away_team</th>\n",
       "      <th>home_outcome</th>\n",
       "      <th>avg_odd_home_win</th>\n",
       "      <th>avg_odd_draw</th>\n",
       "      <th>avg_odd_away_win</th>\n",
       "      <th>home_ranking</th>\n",
       "      <th>away_ranking</th>\n",
       "      <th>last_home_result</th>\n",
       "      <th>last_away_result</th>\n",
       "    </tr>\n",
       "  </thead>\n",
       "  <tbody>\n",
       "    <tr>\n",
       "      <th>count</th>\n",
       "      <td>1520.000000</td>\n",
       "      <td>1520.000000</td>\n",
       "      <td>1520.000000</td>\n",
       "      <td>1520.000000</td>\n",
       "      <td>1520.000000</td>\n",
       "      <td>1520.000000</td>\n",
       "      <td>1520.000000</td>\n",
       "      <td>1520.000000</td>\n",
       "      <td>1520.000000</td>\n",
       "      <td>1520.000000</td>\n",
       "    </tr>\n",
       "    <tr>\n",
       "      <th>mean</th>\n",
       "      <td>13.687500</td>\n",
       "      <td>13.687500</td>\n",
       "      <td>1.155921</td>\n",
       "      <td>7.576486</td>\n",
       "      <td>4.878582</td>\n",
       "      <td>4.741020</td>\n",
       "      <td>10.650000</td>\n",
       "      <td>10.650000</td>\n",
       "      <td>-0.067763</td>\n",
       "      <td>0.067763</td>\n",
       "    </tr>\n",
       "    <tr>\n",
       "      <th>std</th>\n",
       "      <td>8.070483</td>\n",
       "      <td>8.070483</td>\n",
       "      <td>0.859462</td>\n",
       "      <td>1.715519</td>\n",
       "      <td>2.011393</td>\n",
       "      <td>3.807761</td>\n",
       "      <td>5.987578</td>\n",
       "      <td>5.987578</td>\n",
       "      <td>0.852530</td>\n",
       "      <td>0.857918</td>\n",
       "    </tr>\n",
       "    <tr>\n",
       "      <th>min</th>\n",
       "      <td>0.000000</td>\n",
       "      <td>0.000000</td>\n",
       "      <td>0.000000</td>\n",
       "      <td>5.324000</td>\n",
       "      <td>2.935000</td>\n",
       "      <td>2.005000</td>\n",
       "      <td>1.000000</td>\n",
       "      <td>1.000000</td>\n",
       "      <td>-1.000000</td>\n",
       "      <td>-1.000000</td>\n",
       "    </tr>\n",
       "    <tr>\n",
       "      <th>25%</th>\n",
       "      <td>7.000000</td>\n",
       "      <td>7.000000</td>\n",
       "      <td>0.000000</td>\n",
       "      <td>6.507000</td>\n",
       "      <td>3.290750</td>\n",
       "      <td>2.491500</td>\n",
       "      <td>5.750000</td>\n",
       "      <td>5.750000</td>\n",
       "      <td>-1.000000</td>\n",
       "      <td>-1.000000</td>\n",
       "    </tr>\n",
       "    <tr>\n",
       "      <th>50%</th>\n",
       "      <td>14.000000</td>\n",
       "      <td>14.000000</td>\n",
       "      <td>1.000000</td>\n",
       "      <td>7.117500</td>\n",
       "      <td>3.921500</td>\n",
       "      <td>3.285500</td>\n",
       "      <td>10.500000</td>\n",
       "      <td>10.500000</td>\n",
       "      <td>0.000000</td>\n",
       "      <td>0.000000</td>\n",
       "    </tr>\n",
       "    <tr>\n",
       "      <th>75%</th>\n",
       "      <td>21.000000</td>\n",
       "      <td>21.000000</td>\n",
       "      <td>2.000000</td>\n",
       "      <td>8.053250</td>\n",
       "      <td>6.617250</td>\n",
       "      <td>5.095000</td>\n",
       "      <td>15.250000</td>\n",
       "      <td>15.250000</td>\n",
       "      <td>1.000000</td>\n",
       "      <td>1.000000</td>\n",
       "    </tr>\n",
       "    <tr>\n",
       "      <th>max</th>\n",
       "      <td>27.000000</td>\n",
       "      <td>27.000000</td>\n",
       "      <td>2.000000</td>\n",
       "      <td>18.767000</td>\n",
       "      <td>14.597000</td>\n",
       "      <td>33.015000</td>\n",
       "      <td>20.000000</td>\n",
       "      <td>20.000000</td>\n",
       "      <td>1.000000</td>\n",
       "      <td>1.000000</td>\n",
       "    </tr>\n",
       "  </tbody>\n",
       "</table>\n",
       "</div>"
      ],
      "text/plain": [
       "         home_team    away_team  home_outcome  avg_odd_home_win  avg_odd_draw  \\\n",
       "count  1520.000000  1520.000000   1520.000000       1520.000000   1520.000000   \n",
       "mean     13.687500    13.687500      1.155921          7.576486      4.878582   \n",
       "std       8.070483     8.070483      0.859462          1.715519      2.011393   \n",
       "min       0.000000     0.000000      0.000000          5.324000      2.935000   \n",
       "25%       7.000000     7.000000      0.000000          6.507000      3.290750   \n",
       "50%      14.000000    14.000000      1.000000          7.117500      3.921500   \n",
       "75%      21.000000    21.000000      2.000000          8.053250      6.617250   \n",
       "max      27.000000    27.000000      2.000000         18.767000     14.597000   \n",
       "\n",
       "       avg_odd_away_win  home_ranking  away_ranking  last_home_result  \\\n",
       "count       1520.000000   1520.000000   1520.000000       1520.000000   \n",
       "mean           4.741020     10.650000     10.650000         -0.067763   \n",
       "std            3.807761      5.987578      5.987578          0.852530   \n",
       "min            2.005000      1.000000      1.000000         -1.000000   \n",
       "25%            2.491500      5.750000      5.750000         -1.000000   \n",
       "50%            3.285500     10.500000     10.500000          0.000000   \n",
       "75%            5.095000     15.250000     15.250000          1.000000   \n",
       "max           33.015000     20.000000     20.000000          1.000000   \n",
       "\n",
       "       last_away_result  \n",
       "count       1520.000000  \n",
       "mean           0.067763  \n",
       "std            0.857918  \n",
       "min           -1.000000  \n",
       "25%           -1.000000  \n",
       "50%            0.000000  \n",
       "75%            1.000000  \n",
       "max            1.000000  "
      ]
     },
     "execution_count": 384,
     "metadata": {},
     "output_type": "execute_result"
    }
   ],
   "source": [
    "df_label.describe()"
   ]
  },
  {
   "cell_type": "code",
   "execution_count": 385,
   "id": "de650c3f",
   "metadata": {},
   "outputs": [
    {
     "data": {
      "text/plain": [
       "(1520, 11)"
      ]
     },
     "execution_count": 385,
     "metadata": {},
     "output_type": "execute_result"
    }
   ],
   "source": [
    "df_label.shape"
   ]
  },
  {
   "cell_type": "markdown",
   "id": "7bf761dd",
   "metadata": {},
   "source": [
    "#### removing outliers for \"avg_odd_home_win\", \"avg_odd_draw\" and \"avg_odd_away_win\""
   ]
  },
  {
   "cell_type": "code",
   "execution_count": 386,
   "id": "1cc045d1",
   "metadata": {},
   "outputs": [
    {
     "data": {
      "text/plain": [
       "'def remove_outliers_iqr(df, column):\\n    initial_count = len(df)\\n    \\n    Q1 = df[column].quantile(0.25)\\n    Q3 = df[column].quantile(0.75)\\n    IQR = Q3 - Q1\\n    lower_bound = Q1 - 1.5 * IQR\\n    upper_bound = Q3 + 1.5 * IQR\\n    \\n    df_filtered = df[(df[column] >= lower_bound) & (df[column] <= upper_bound)]\\n    \\n    removed_count = initial_count - len(df_filtered)\\n    print(f\"{removed_count} rows removed from \\'{column}\\' due to outliers.\")\\n    \\n    return df_filtered\\n    '"
      ]
     },
     "execution_count": 386,
     "metadata": {},
     "output_type": "execute_result"
    }
   ],
   "source": [
    "\"\"\"def remove_outliers_iqr(df, column):\n",
    "    initial_count = len(df)\n",
    "    \n",
    "    Q1 = df[column].quantile(0.25)\n",
    "    Q3 = df[column].quantile(0.75)\n",
    "    IQR = Q3 - Q1\n",
    "    lower_bound = Q1 - 1.5 * IQR\n",
    "    upper_bound = Q3 + 1.5 * IQR\n",
    "    \n",
    "    df_filtered = df[(df[column] >= lower_bound) & (df[column] <= upper_bound)]\n",
    "    \n",
    "    removed_count = initial_count - len(df_filtered)\n",
    "    print(f\"{removed_count} rows removed from '{column}' due to outliers.\")\n",
    "    \n",
    "    return df_filtered\n",
    "    \"\"\""
   ]
  },
  {
   "cell_type": "code",
   "execution_count": 387,
   "id": "1b790ce1",
   "metadata": {},
   "outputs": [
    {
     "data": {
      "text/plain": [
       "'\"\\nfor col in [\\'avg_odd_home_win\\', \\'avg_odd_draw\\', \\'avg_odd_away_win\\']:\\n    df_label = remove_outliers_iqr(df_label, col)\\n    '"
      ]
     },
     "execution_count": 387,
     "metadata": {},
     "output_type": "execute_result"
    }
   ],
   "source": [
    "\"\"\"\"\n",
    "for col in ['avg_odd_home_win', 'avg_odd_draw', 'avg_odd_away_win']:\n",
    "    df_label = remove_outliers_iqr(df_label, col)\n",
    "    \"\"\""
   ]
  },
  {
   "cell_type": "code",
   "execution_count": 388,
   "id": "35d1d62f",
   "metadata": {},
   "outputs": [
    {
     "data": {
      "text/plain": [
       "'\"\\nX = df_label [[\\'avg_odd_home_win\\', \\'avg_odd_draw\\', \\'avg_odd_away_win\\']]\\nX.describe()\\n'"
      ]
     },
     "execution_count": 388,
     "metadata": {},
     "output_type": "execute_result"
    }
   ],
   "source": [
    "\"\"\"\"\n",
    "X = df_label [['avg_odd_home_win', 'avg_odd_draw', 'avg_odd_away_win']]\n",
    "X.describe()\n",
    "\"\"\""
   ]
  },
  {
   "cell_type": "code",
   "execution_count": 389,
   "id": "0adb252d",
   "metadata": {},
   "outputs": [],
   "source": [
    "df_label.to_csv('../data/cleaned-premier-league-data.csv', index=False)"
   ]
  }
 ],
 "metadata": {
  "kernelspec": {
   "display_name": "base",
   "language": "python",
   "name": "python3"
  },
  "language_info": {
   "codemirror_mode": {
    "name": "ipython",
    "version": 3
   },
   "file_extension": ".py",
   "mimetype": "text/x-python",
   "name": "python",
   "nbconvert_exporter": "python",
   "pygments_lexer": "ipython3",
   "version": "3.12.7"
  }
 },
 "nbformat": 4,
 "nbformat_minor": 5
}
