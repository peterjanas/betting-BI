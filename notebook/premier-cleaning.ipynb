{
 "cells": [
  {
   "cell_type": "code",
   "execution_count": 1,
   "id": "1d20a554",
   "metadata": {},
   "outputs": [],
   "source": [
    "import pandas as pd\n",
    "import numpy as np\n",
    "\n",
    "from sklearn.preprocessing import LabelEncoder\n",
    "from sklearn.preprocessing import OneHotEncoder"
   ]
  },
  {
   "cell_type": "code",
   "execution_count": 2,
   "id": "5affb007",
   "metadata": {},
   "outputs": [],
   "source": [
    "fb_df = pd.read_csv('../data/Premier-League-2015-2019.csv')"
   ]
  },
  {
   "cell_type": "code",
   "execution_count": 3,
   "id": "ed51ae01",
   "metadata": {},
   "outputs": [
    {
     "name": "stdout",
     "output_type": "stream",
     "text": [
      "<class 'pandas.core.frame.DataFrame'>\n",
      "RangeIndex: 1520 entries, 0 to 1519\n",
      "Data columns (total 11 columns):\n",
      " #   Column                    Non-Null Count  Dtype  \n",
      "---  ------                    --------------  -----  \n",
      " 0   Date                      1520 non-null   object \n",
      " 1   HomeTeam                  1520 non-null   object \n",
      " 2   AwayTeam                  1520 non-null   object \n",
      " 3   outcome_by_HOME           1520 non-null   object \n",
      " 4   AVERAGE_ODD_WIN           1520 non-null   float64\n",
      " 5   AVERAGE_ODD_DRAW          1520 non-null   float64\n",
      " 6   AVERAGE_ODD_OPPONENT_WIN  1520 non-null   float64\n",
      " 7   RANKINGHOME               1520 non-null   int64  \n",
      " 8   RANKING AWAY              1520 non-null   int64  \n",
      " 9   LAST_GAME_RHOMETEAM       1520 non-null   int64  \n",
      " 10  LAST_GAME_RAWAYTEAM       1520 non-null   int64  \n",
      "dtypes: float64(3), int64(4), object(4)\n",
      "memory usage: 130.8+ KB\n"
     ]
    }
   ],
   "source": [
    "fb_df.info()"
   ]
  },
  {
   "cell_type": "markdown",
   "id": "2fe05e0e",
   "metadata": {},
   "source": [
    "### Check for duplicates"
   ]
  },
  {
   "cell_type": "code",
   "execution_count": 4,
   "id": "2588ab63",
   "metadata": {},
   "outputs": [
    {
     "data": {
      "text/plain": [
       "0"
      ]
     },
     "execution_count": 4,
     "metadata": {},
     "output_type": "execute_result"
    }
   ],
   "source": [
    "fb_df.duplicated().sum()"
   ]
  },
  {
   "cell_type": "markdown",
   "id": "165a294d",
   "metadata": {},
   "source": [
    "### Checking for missing values"
   ]
  },
  {
   "cell_type": "code",
   "execution_count": 5,
   "id": "bef30bcd",
   "metadata": {},
   "outputs": [
    {
     "data": {
      "text/plain": [
       "Date                        0\n",
       "HomeTeam                    0\n",
       "AwayTeam                    0\n",
       "outcome_by_HOME             0\n",
       "AVERAGE_ODD_WIN             0\n",
       "AVERAGE_ODD_DRAW            0\n",
       "AVERAGE_ODD_OPPONENT_WIN    0\n",
       "RANKINGHOME                 0\n",
       "RANKING AWAY                0\n",
       "LAST_GAME_RHOMETEAM         0\n",
       "LAST_GAME_RAWAYTEAM         0\n",
       "dtype: int64"
      ]
     },
     "execution_count": 5,
     "metadata": {},
     "output_type": "execute_result"
    }
   ],
   "source": [
    "fb_df.isnull().sum()"
   ]
  },
  {
   "cell_type": "markdown",
   "id": "c4741191",
   "metadata": {},
   "source": [
    "### normalize and standardize column names"
   ]
  },
  {
   "cell_type": "code",
   "execution_count": 6,
   "id": "eb262001",
   "metadata": {},
   "outputs": [],
   "source": [
    "fb_df.rename(columns={\n",
    "    'Date': 'date',\n",
    "    'HomeTeam': 'home_team',\n",
    "    'AwayTeam': 'away_team',\n",
    "    'outcome_by_HOME': 'home_outcome',\n",
    "    'AVERAGE_ODD_WIN': 'avg_odd_home_win',\n",
    "    'AVERAGE_ODD_DRAW': 'avg_odd_draw',\n",
    "    'AVERAGE_ODD_OPPONENT_WIN': 'avg_odd_away_win',\n",
    "    'RANKINGHOME': 'home_ranking',\n",
    "    'RANKING AWAY': 'away_ranking',\n",
    "    'LAST_GAME_RHOMETEAM': 'last_home_result',\n",
    "    'LAST_GAME_RAWAYTEAM': 'last_away_result'\n",
    "}, inplace=True)"
   ]
  },
  {
   "cell_type": "code",
   "execution_count": 7,
   "id": "d9a1774f",
   "metadata": {},
   "outputs": [
    {
     "data": {
      "text/html": [
       "<div>\n",
       "<style scoped>\n",
       "    .dataframe tbody tr th:only-of-type {\n",
       "        vertical-align: middle;\n",
       "    }\n",
       "\n",
       "    .dataframe tbody tr th {\n",
       "        vertical-align: top;\n",
       "    }\n",
       "\n",
       "    .dataframe thead th {\n",
       "        text-align: right;\n",
       "    }\n",
       "</style>\n",
       "<table border=\"1\" class=\"dataframe\">\n",
       "  <thead>\n",
       "    <tr style=\"text-align: right;\">\n",
       "      <th></th>\n",
       "      <th>date</th>\n",
       "      <th>home_team</th>\n",
       "      <th>away_team</th>\n",
       "      <th>home_outcome</th>\n",
       "      <th>avg_odd_home_win</th>\n",
       "      <th>avg_odd_draw</th>\n",
       "      <th>avg_odd_away_win</th>\n",
       "      <th>home_ranking</th>\n",
       "      <th>away_ranking</th>\n",
       "      <th>last_home_result</th>\n",
       "      <th>last_away_result</th>\n",
       "    </tr>\n",
       "  </thead>\n",
       "  <tbody>\n",
       "    <tr>\n",
       "      <th>0</th>\n",
       "      <td>08/08/2015</td>\n",
       "      <td>Bournemouth</td>\n",
       "      <td>Aston Villa</td>\n",
       "      <td>L</td>\n",
       "      <td>7.024</td>\n",
       "      <td>3.303</td>\n",
       "      <td>3.748</td>\n",
       "      <td>20</td>\n",
       "      <td>17</td>\n",
       "      <td>0</td>\n",
       "      <td>0</td>\n",
       "    </tr>\n",
       "    <tr>\n",
       "      <th>1</th>\n",
       "      <td>08/08/2015</td>\n",
       "      <td>Chelsea</td>\n",
       "      <td>Swansea</td>\n",
       "      <td>D</td>\n",
       "      <td>6.697</td>\n",
       "      <td>4.338</td>\n",
       "      <td>8.967</td>\n",
       "      <td>1</td>\n",
       "      <td>8</td>\n",
       "      <td>0</td>\n",
       "      <td>0</td>\n",
       "    </tr>\n",
       "    <tr>\n",
       "      <th>2</th>\n",
       "      <td>08/08/2015</td>\n",
       "      <td>Everton</td>\n",
       "      <td>Watford</td>\n",
       "      <td>D</td>\n",
       "      <td>6.842</td>\n",
       "      <td>3.514</td>\n",
       "      <td>4.852</td>\n",
       "      <td>11</td>\n",
       "      <td>20</td>\n",
       "      <td>0</td>\n",
       "      <td>0</td>\n",
       "    </tr>\n",
       "    <tr>\n",
       "      <th>3</th>\n",
       "      <td>08/08/2015</td>\n",
       "      <td>Leicester</td>\n",
       "      <td>Sunderland</td>\n",
       "      <td>W</td>\n",
       "      <td>7.000</td>\n",
       "      <td>3.207</td>\n",
       "      <td>3.742</td>\n",
       "      <td>14</td>\n",
       "      <td>16</td>\n",
       "      <td>0</td>\n",
       "      <td>0</td>\n",
       "    </tr>\n",
       "    <tr>\n",
       "      <th>4</th>\n",
       "      <td>08/08/2015</td>\n",
       "      <td>Man United</td>\n",
       "      <td>Tottenham</td>\n",
       "      <td>W</td>\n",
       "      <td>6.477</td>\n",
       "      <td>3.651</td>\n",
       "      <td>5.318</td>\n",
       "      <td>4</td>\n",
       "      <td>5</td>\n",
       "      <td>0</td>\n",
       "      <td>0</td>\n",
       "    </tr>\n",
       "  </tbody>\n",
       "</table>\n",
       "</div>"
      ],
      "text/plain": [
       "         date    home_team    away_team home_outcome  avg_odd_home_win  \\\n",
       "0  08/08/2015  Bournemouth  Aston Villa            L             7.024   \n",
       "1  08/08/2015      Chelsea      Swansea            D             6.697   \n",
       "2  08/08/2015      Everton      Watford            D             6.842   \n",
       "3  08/08/2015    Leicester   Sunderland            W             7.000   \n",
       "4  08/08/2015   Man United    Tottenham            W             6.477   \n",
       "\n",
       "   avg_odd_draw  avg_odd_away_win  home_ranking  away_ranking  \\\n",
       "0         3.303             3.748            20            17   \n",
       "1         4.338             8.967             1             8   \n",
       "2         3.514             4.852            11            20   \n",
       "3         3.207             3.742            14            16   \n",
       "4         3.651             5.318             4             5   \n",
       "\n",
       "   last_home_result  last_away_result  \n",
       "0                 0                 0  \n",
       "1                 0                 0  \n",
       "2                 0                 0  \n",
       "3                 0                 0  \n",
       "4                 0                 0  "
      ]
     },
     "execution_count": 7,
     "metadata": {},
     "output_type": "execute_result"
    }
   ],
   "source": [
    "fb_df.head()"
   ]
  },
  {
   "cell_type": "code",
   "execution_count": 8,
   "id": "3d16726c",
   "metadata": {},
   "outputs": [
    {
     "name": "stdout",
     "output_type": "stream",
     "text": [
      "away_ranking\n",
      "1      76\n",
      "2      76\n",
      "3      76\n",
      "4      76\n",
      "5      76\n",
      "6      76\n",
      "7      76\n",
      "8      76\n",
      "9      76\n",
      "10     76\n",
      "11     76\n",
      "12     76\n",
      "13     76\n",
      "14     76\n",
      "15     76\n",
      "16     76\n",
      "17     76\n",
      "20    228\n",
      "Name: count, dtype: int64\n"
     ]
    }
   ],
   "source": [
    "print(fb_df['away_ranking'].value_counts().sort_index())"
   ]
  },
  {
   "cell_type": "markdown",
   "id": "f8954385",
   "metadata": {},
   "source": [
    "#### home and away rankings seem to be missing values for 18-19 and 20 seems to be bloated"
   ]
  },
  {
   "cell_type": "markdown",
   "id": "990c8d91",
   "metadata": {},
   "source": [
    "since it seems like the rankings 18-19 might have ended up in 20. i will take all the 20s and randomly assign them 18,19 or 20"
   ]
  },
  {
   "cell_type": "code",
   "execution_count": 9,
   "id": "cc1f15cc",
   "metadata": {},
   "outputs": [],
   "source": [
    "def redistribute_twenty(column):\n",
    "    # Find where the column equals 20\n",
    "    mask = fb_df[column] == 20\n",
    "    n = mask.sum()\n",
    "    \n",
    "    # Generate replacements: evenly split into 18, 19, 20\n",
    "    replacements = np.array([18, 19, 20] * (n // 3 + 1))[:n]\n",
    "    np.random.shuffle(replacements)\n",
    "\n",
    "    # Apply replacements\n",
    "    fb_df.loc[mask, column] = replacements\n",
    "\n",
    "# Apply to both columns\n",
    "redistribute_twenty('home_ranking')\n",
    "redistribute_twenty('away_ranking')"
   ]
  },
  {
   "cell_type": "code",
   "execution_count": 10,
   "id": "77eeb73f",
   "metadata": {},
   "outputs": [
    {
     "name": "stdout",
     "output_type": "stream",
     "text": [
      "away_ranking\n",
      "1     76\n",
      "2     76\n",
      "3     76\n",
      "4     76\n",
      "5     76\n",
      "6     76\n",
      "7     76\n",
      "8     76\n",
      "9     76\n",
      "10    76\n",
      "11    76\n",
      "12    76\n",
      "13    76\n",
      "14    76\n",
      "15    76\n",
      "16    76\n",
      "17    76\n",
      "18    76\n",
      "19    76\n",
      "20    76\n",
      "Name: count, dtype: int64\n"
     ]
    }
   ],
   "source": [
    "print(fb_df['away_ranking'].value_counts().sort_index())"
   ]
  },
  {
   "cell_type": "markdown",
   "id": "7f8f59ef",
   "metadata": {},
   "source": [
    "### Checking for outliers"
   ]
  },
  {
   "cell_type": "code",
   "execution_count": 11,
   "id": "a1eac964",
   "metadata": {},
   "outputs": [
    {
     "data": {
      "text/html": [
       "<div>\n",
       "<style scoped>\n",
       "    .dataframe tbody tr th:only-of-type {\n",
       "        vertical-align: middle;\n",
       "    }\n",
       "\n",
       "    .dataframe tbody tr th {\n",
       "        vertical-align: top;\n",
       "    }\n",
       "\n",
       "    .dataframe thead th {\n",
       "        text-align: right;\n",
       "    }\n",
       "</style>\n",
       "<table border=\"1\" class=\"dataframe\">\n",
       "  <thead>\n",
       "    <tr style=\"text-align: right;\">\n",
       "      <th></th>\n",
       "      <th>avg_odd_home_win</th>\n",
       "      <th>avg_odd_draw</th>\n",
       "      <th>avg_odd_away_win</th>\n",
       "    </tr>\n",
       "  </thead>\n",
       "  <tbody>\n",
       "    <tr>\n",
       "      <th>count</th>\n",
       "      <td>1520.000000</td>\n",
       "      <td>1520.000000</td>\n",
       "      <td>1520.000000</td>\n",
       "    </tr>\n",
       "    <tr>\n",
       "      <th>mean</th>\n",
       "      <td>7.576486</td>\n",
       "      <td>4.878582</td>\n",
       "      <td>4.741020</td>\n",
       "    </tr>\n",
       "    <tr>\n",
       "      <th>std</th>\n",
       "      <td>1.715519</td>\n",
       "      <td>2.011393</td>\n",
       "      <td>3.807761</td>\n",
       "    </tr>\n",
       "    <tr>\n",
       "      <th>min</th>\n",
       "      <td>5.324000</td>\n",
       "      <td>2.935000</td>\n",
       "      <td>2.005000</td>\n",
       "    </tr>\n",
       "    <tr>\n",
       "      <th>25%</th>\n",
       "      <td>6.507000</td>\n",
       "      <td>3.290750</td>\n",
       "      <td>2.491500</td>\n",
       "    </tr>\n",
       "    <tr>\n",
       "      <th>50%</th>\n",
       "      <td>7.117500</td>\n",
       "      <td>3.921500</td>\n",
       "      <td>3.285500</td>\n",
       "    </tr>\n",
       "    <tr>\n",
       "      <th>75%</th>\n",
       "      <td>8.053250</td>\n",
       "      <td>6.617250</td>\n",
       "      <td>5.095000</td>\n",
       "    </tr>\n",
       "    <tr>\n",
       "      <th>max</th>\n",
       "      <td>18.767000</td>\n",
       "      <td>14.597000</td>\n",
       "      <td>33.015000</td>\n",
       "    </tr>\n",
       "  </tbody>\n",
       "</table>\n",
       "</div>"
      ],
      "text/plain": [
       "       avg_odd_home_win  avg_odd_draw  avg_odd_away_win\n",
       "count       1520.000000   1520.000000       1520.000000\n",
       "mean           7.576486      4.878582          4.741020\n",
       "std            1.715519      2.011393          3.807761\n",
       "min            5.324000      2.935000          2.005000\n",
       "25%            6.507000      3.290750          2.491500\n",
       "50%            7.117500      3.921500          3.285500\n",
       "75%            8.053250      6.617250          5.095000\n",
       "max           18.767000     14.597000         33.015000"
      ]
     },
     "execution_count": 11,
     "metadata": {},
     "output_type": "execute_result"
    }
   ],
   "source": [
    "X = fb_df [['avg_odd_home_win', 'avg_odd_draw', 'avg_odd_away_win']]\n",
    "X.describe()"
   ]
  },
  {
   "cell_type": "code",
   "execution_count": 12,
   "id": "de650c3f",
   "metadata": {},
   "outputs": [
    {
     "data": {
      "text/plain": [
       "(1520, 11)"
      ]
     },
     "execution_count": 12,
     "metadata": {},
     "output_type": "execute_result"
    }
   ],
   "source": [
    "fb_df.shape"
   ]
  },
  {
   "cell_type": "markdown",
   "id": "7bf761dd",
   "metadata": {},
   "source": [
    "#### removing outliers for \"avg_odd_home_win\", \"avg_odd_draw\" and \"avg_odd_away_win\""
   ]
  },
  {
   "cell_type": "code",
   "execution_count": 13,
   "id": "1cc045d1",
   "metadata": {},
   "outputs": [],
   "source": [
    "def remove_outliers_iqr(df, column):\n",
    "    initial_count = len(df)\n",
    "    \n",
    "    Q1 = df[column].quantile(0.25)\n",
    "    Q3 = df[column].quantile(0.75)\n",
    "    IQR = Q3 - Q1\n",
    "    lower_bound = Q1 - 1.5 * IQR\n",
    "    upper_bound = Q3 + 1.5 * IQR\n",
    "    \n",
    "    df_filtered = df[(df[column] >= lower_bound) & (df[column] <= upper_bound)]\n",
    "    \n",
    "    removed_count = initial_count - len(df_filtered)\n",
    "    print(f\"{removed_count} rows removed from '{column}' due to outliers.\")\n",
    "    \n",
    "    return df_filtered"
   ]
  },
  {
   "cell_type": "code",
   "execution_count": 14,
   "id": "1b790ce1",
   "metadata": {},
   "outputs": [
    {
     "name": "stdout",
     "output_type": "stream",
     "text": [
      "101 rows removed from 'avg_odd_home_win' due to outliers.\n",
      "6 rows removed from 'avg_odd_draw' due to outliers.\n",
      "167 rows removed from 'avg_odd_away_win' due to outliers.\n"
     ]
    }
   ],
   "source": [
    "for col in ['avg_odd_home_win', 'avg_odd_draw', 'avg_odd_away_win']:\n",
    "    fb_df = remove_outliers_iqr(fb_df, col)"
   ]
  },
  {
   "cell_type": "code",
   "execution_count": 15,
   "id": "35d1d62f",
   "metadata": {},
   "outputs": [
    {
     "data": {
      "text/html": [
       "<div>\n",
       "<style scoped>\n",
       "    .dataframe tbody tr th:only-of-type {\n",
       "        vertical-align: middle;\n",
       "    }\n",
       "\n",
       "    .dataframe tbody tr th {\n",
       "        vertical-align: top;\n",
       "    }\n",
       "\n",
       "    .dataframe thead th {\n",
       "        text-align: right;\n",
       "    }\n",
       "</style>\n",
       "<table border=\"1\" class=\"dataframe\">\n",
       "  <thead>\n",
       "    <tr style=\"text-align: right;\">\n",
       "      <th></th>\n",
       "      <th>avg_odd_home_win</th>\n",
       "      <th>avg_odd_draw</th>\n",
       "      <th>avg_odd_away_win</th>\n",
       "    </tr>\n",
       "  </thead>\n",
       "  <tbody>\n",
       "    <tr>\n",
       "      <th>count</th>\n",
       "      <td>1246.000000</td>\n",
       "      <td>1246.000000</td>\n",
       "      <td>1246.000000</td>\n",
       "    </tr>\n",
       "    <tr>\n",
       "      <th>mean</th>\n",
       "      <td>7.274838</td>\n",
       "      <td>4.441469</td>\n",
       "      <td>3.684693</td>\n",
       "    </tr>\n",
       "    <tr>\n",
       "      <th>std</th>\n",
       "      <td>1.043937</td>\n",
       "      <td>1.647506</td>\n",
       "      <td>1.604586</td>\n",
       "    </tr>\n",
       "    <tr>\n",
       "      <th>min</th>\n",
       "      <td>5.463000</td>\n",
       "      <td>2.935000</td>\n",
       "      <td>2.005000</td>\n",
       "    </tr>\n",
       "    <tr>\n",
       "      <th>25%</th>\n",
       "      <td>6.492000</td>\n",
       "      <td>3.250000</td>\n",
       "      <td>2.544750</td>\n",
       "    </tr>\n",
       "    <tr>\n",
       "      <th>50%</th>\n",
       "      <td>7.056000</td>\n",
       "      <td>3.535000</td>\n",
       "      <td>3.197000</td>\n",
       "    </tr>\n",
       "    <tr>\n",
       "      <th>75%</th>\n",
       "      <td>7.885250</td>\n",
       "      <td>6.383250</td>\n",
       "      <td>4.292000</td>\n",
       "    </tr>\n",
       "    <tr>\n",
       "      <th>max</th>\n",
       "      <td>10.355000</td>\n",
       "      <td>9.088000</td>\n",
       "      <td>9.057000</td>\n",
       "    </tr>\n",
       "  </tbody>\n",
       "</table>\n",
       "</div>"
      ],
      "text/plain": [
       "       avg_odd_home_win  avg_odd_draw  avg_odd_away_win\n",
       "count       1246.000000   1246.000000       1246.000000\n",
       "mean           7.274838      4.441469          3.684693\n",
       "std            1.043937      1.647506          1.604586\n",
       "min            5.463000      2.935000          2.005000\n",
       "25%            6.492000      3.250000          2.544750\n",
       "50%            7.056000      3.535000          3.197000\n",
       "75%            7.885250      6.383250          4.292000\n",
       "max           10.355000      9.088000          9.057000"
      ]
     },
     "execution_count": 15,
     "metadata": {},
     "output_type": "execute_result"
    }
   ],
   "source": [
    "X = fb_df [['avg_odd_home_win', 'avg_odd_draw', 'avg_odd_away_win']]\n",
    "X.describe()"
   ]
  },
  {
   "cell_type": "markdown",
   "id": "e18ecdc4",
   "metadata": {},
   "source": [
    "## Label encoding"
   ]
  },
  {
   "cell_type": "markdown",
   "id": "de69351d",
   "metadata": {},
   "source": [
    "#### label encode home and away team and make sure a team in Home will have the same ID in Away"
   ]
  },
  {
   "cell_type": "code",
   "execution_count": 16,
   "id": "d580b494",
   "metadata": {},
   "outputs": [
    {
     "data": {
      "text/plain": [
       "'\"\\nall_teams = pd.concat([fb_df[\\'home_team\\'], fb_df[\\'away_team\\']]).unique()\\n\\nteam_encoder = LabelEncoder()\\nteam_encoder.fit(all_teams)\\n\\nfb_df[\\'home_team\\'] = team_encoder.transform(fb_df[\\'home_team\\'])\\nfb_df[\\'away_team\\'] = team_encoder.transform(fb_df[\\'away_team\\'])\\n'"
      ]
     },
     "execution_count": 16,
     "metadata": {},
     "output_type": "execute_result"
    }
   ],
   "source": [
    "\"\"\"\"\n",
    "all_teams = pd.concat([fb_df['home_team'], fb_df['away_team']]).unique()\n",
    "\n",
    "team_encoder = LabelEncoder()\n",
    "team_encoder.fit(all_teams)\n",
    "\n",
    "fb_df['home_team'] = team_encoder.transform(fb_df['home_team'])\n",
    "fb_df['away_team'] = team_encoder.transform(fb_df['away_team'])\n",
    "\"\"\""
   ]
  },
  {
   "cell_type": "markdown",
   "id": "cbcd942b",
   "metadata": {},
   "source": [
    "### Encoding for home_outcome"
   ]
  },
  {
   "cell_type": "markdown",
   "id": "aeb5f68a",
   "metadata": {},
   "source": [
    "#### we will use both one-Hot and label encoding and see if they will affect our results"
   ]
  },
  {
   "cell_type": "markdown",
   "id": "59ad3332",
   "metadata": {},
   "source": [
    "#### One-Hot encode for home_outcome"
   ]
  },
  {
   "cell_type": "code",
   "execution_count": 17,
   "id": "7edd1b54",
   "metadata": {},
   "outputs": [],
   "source": [
    "# One-hot encoding for home_outcome\n",
    "df_onehot = fb_df\n",
    "df_onehot = pd.get_dummies(fb_df, columns=['home_outcome'], dtype=int)\n"
   ]
  },
  {
   "cell_type": "markdown",
   "id": "49087876",
   "metadata": {},
   "source": [
    "#### Label encoding for home_outcome"
   ]
  },
  {
   "cell_type": "code",
   "execution_count": 18,
   "id": "325d853c",
   "metadata": {},
   "outputs": [],
   "source": [
    "#label encoding for home_outcome\n",
    "df_label = fb_df\n",
    "df_label['home_outcome'] = df_label['home_outcome'].map({'L': 0, 'D': 1, 'W': 2})"
   ]
  },
  {
   "cell_type": "code",
   "execution_count": 19,
   "id": "819c10a4",
   "metadata": {},
   "outputs": [
    {
     "data": {
      "text/html": [
       "<div>\n",
       "<style scoped>\n",
       "    .dataframe tbody tr th:only-of-type {\n",
       "        vertical-align: middle;\n",
       "    }\n",
       "\n",
       "    .dataframe tbody tr th {\n",
       "        vertical-align: top;\n",
       "    }\n",
       "\n",
       "    .dataframe thead th {\n",
       "        text-align: right;\n",
       "    }\n",
       "</style>\n",
       "<table border=\"1\" class=\"dataframe\">\n",
       "  <thead>\n",
       "    <tr style=\"text-align: right;\">\n",
       "      <th></th>\n",
       "      <th>date</th>\n",
       "      <th>home_team</th>\n",
       "      <th>away_team</th>\n",
       "      <th>avg_odd_home_win</th>\n",
       "      <th>avg_odd_draw</th>\n",
       "      <th>avg_odd_away_win</th>\n",
       "      <th>home_ranking</th>\n",
       "      <th>away_ranking</th>\n",
       "      <th>last_home_result</th>\n",
       "      <th>last_away_result</th>\n",
       "      <th>home_outcome_D</th>\n",
       "      <th>home_outcome_L</th>\n",
       "      <th>home_outcome_W</th>\n",
       "    </tr>\n",
       "  </thead>\n",
       "  <tbody>\n",
       "    <tr>\n",
       "      <th>0</th>\n",
       "      <td>08/08/2015</td>\n",
       "      <td>Bournemouth</td>\n",
       "      <td>Aston Villa</td>\n",
       "      <td>7.024</td>\n",
       "      <td>3.303</td>\n",
       "      <td>3.748</td>\n",
       "      <td>20</td>\n",
       "      <td>17</td>\n",
       "      <td>0</td>\n",
       "      <td>0</td>\n",
       "      <td>0</td>\n",
       "      <td>1</td>\n",
       "      <td>0</td>\n",
       "    </tr>\n",
       "    <tr>\n",
       "      <th>1</th>\n",
       "      <td>08/08/2015</td>\n",
       "      <td>Chelsea</td>\n",
       "      <td>Swansea</td>\n",
       "      <td>6.697</td>\n",
       "      <td>4.338</td>\n",
       "      <td>8.967</td>\n",
       "      <td>1</td>\n",
       "      <td>8</td>\n",
       "      <td>0</td>\n",
       "      <td>0</td>\n",
       "      <td>1</td>\n",
       "      <td>0</td>\n",
       "      <td>0</td>\n",
       "    </tr>\n",
       "    <tr>\n",
       "      <th>2</th>\n",
       "      <td>08/08/2015</td>\n",
       "      <td>Everton</td>\n",
       "      <td>Watford</td>\n",
       "      <td>6.842</td>\n",
       "      <td>3.514</td>\n",
       "      <td>4.852</td>\n",
       "      <td>11</td>\n",
       "      <td>18</td>\n",
       "      <td>0</td>\n",
       "      <td>0</td>\n",
       "      <td>1</td>\n",
       "      <td>0</td>\n",
       "      <td>0</td>\n",
       "    </tr>\n",
       "    <tr>\n",
       "      <th>3</th>\n",
       "      <td>08/08/2015</td>\n",
       "      <td>Leicester</td>\n",
       "      <td>Sunderland</td>\n",
       "      <td>7.000</td>\n",
       "      <td>3.207</td>\n",
       "      <td>3.742</td>\n",
       "      <td>14</td>\n",
       "      <td>16</td>\n",
       "      <td>0</td>\n",
       "      <td>0</td>\n",
       "      <td>0</td>\n",
       "      <td>0</td>\n",
       "      <td>1</td>\n",
       "    </tr>\n",
       "    <tr>\n",
       "      <th>4</th>\n",
       "      <td>08/08/2015</td>\n",
       "      <td>Man United</td>\n",
       "      <td>Tottenham</td>\n",
       "      <td>6.477</td>\n",
       "      <td>3.651</td>\n",
       "      <td>5.318</td>\n",
       "      <td>4</td>\n",
       "      <td>5</td>\n",
       "      <td>0</td>\n",
       "      <td>0</td>\n",
       "      <td>0</td>\n",
       "      <td>0</td>\n",
       "      <td>1</td>\n",
       "    </tr>\n",
       "  </tbody>\n",
       "</table>\n",
       "</div>"
      ],
      "text/plain": [
       "         date    home_team    away_team  avg_odd_home_win  avg_odd_draw  \\\n",
       "0  08/08/2015  Bournemouth  Aston Villa             7.024         3.303   \n",
       "1  08/08/2015      Chelsea      Swansea             6.697         4.338   \n",
       "2  08/08/2015      Everton      Watford             6.842         3.514   \n",
       "3  08/08/2015    Leicester   Sunderland             7.000         3.207   \n",
       "4  08/08/2015   Man United    Tottenham             6.477         3.651   \n",
       "\n",
       "   avg_odd_away_win  home_ranking  away_ranking  last_home_result  \\\n",
       "0             3.748            20            17                 0   \n",
       "1             8.967             1             8                 0   \n",
       "2             4.852            11            18                 0   \n",
       "3             3.742            14            16                 0   \n",
       "4             5.318             4             5                 0   \n",
       "\n",
       "   last_away_result  home_outcome_D  home_outcome_L  home_outcome_W  \n",
       "0                 0               0               1               0  \n",
       "1                 0               1               0               0  \n",
       "2                 0               1               0               0  \n",
       "3                 0               0               0               1  \n",
       "4                 0               0               0               1  "
      ]
     },
     "execution_count": 19,
     "metadata": {},
     "output_type": "execute_result"
    }
   ],
   "source": [
    "df_onehot.head()"
   ]
  },
  {
   "cell_type": "code",
   "execution_count": 20,
   "id": "164cfa86",
   "metadata": {},
   "outputs": [
    {
     "data": {
      "text/html": [
       "<div>\n",
       "<style scoped>\n",
       "    .dataframe tbody tr th:only-of-type {\n",
       "        vertical-align: middle;\n",
       "    }\n",
       "\n",
       "    .dataframe tbody tr th {\n",
       "        vertical-align: top;\n",
       "    }\n",
       "\n",
       "    .dataframe thead th {\n",
       "        text-align: right;\n",
       "    }\n",
       "</style>\n",
       "<table border=\"1\" class=\"dataframe\">\n",
       "  <thead>\n",
       "    <tr style=\"text-align: right;\">\n",
       "      <th></th>\n",
       "      <th>date</th>\n",
       "      <th>home_team</th>\n",
       "      <th>away_team</th>\n",
       "      <th>home_outcome</th>\n",
       "      <th>avg_odd_home_win</th>\n",
       "      <th>avg_odd_draw</th>\n",
       "      <th>avg_odd_away_win</th>\n",
       "      <th>home_ranking</th>\n",
       "      <th>away_ranking</th>\n",
       "      <th>last_home_result</th>\n",
       "      <th>last_away_result</th>\n",
       "    </tr>\n",
       "  </thead>\n",
       "  <tbody>\n",
       "    <tr>\n",
       "      <th>0</th>\n",
       "      <td>08/08/2015</td>\n",
       "      <td>Bournemouth</td>\n",
       "      <td>Aston Villa</td>\n",
       "      <td>0</td>\n",
       "      <td>7.024</td>\n",
       "      <td>3.303</td>\n",
       "      <td>3.748</td>\n",
       "      <td>20</td>\n",
       "      <td>17</td>\n",
       "      <td>0</td>\n",
       "      <td>0</td>\n",
       "    </tr>\n",
       "    <tr>\n",
       "      <th>1</th>\n",
       "      <td>08/08/2015</td>\n",
       "      <td>Chelsea</td>\n",
       "      <td>Swansea</td>\n",
       "      <td>1</td>\n",
       "      <td>6.697</td>\n",
       "      <td>4.338</td>\n",
       "      <td>8.967</td>\n",
       "      <td>1</td>\n",
       "      <td>8</td>\n",
       "      <td>0</td>\n",
       "      <td>0</td>\n",
       "    </tr>\n",
       "    <tr>\n",
       "      <th>2</th>\n",
       "      <td>08/08/2015</td>\n",
       "      <td>Everton</td>\n",
       "      <td>Watford</td>\n",
       "      <td>1</td>\n",
       "      <td>6.842</td>\n",
       "      <td>3.514</td>\n",
       "      <td>4.852</td>\n",
       "      <td>11</td>\n",
       "      <td>18</td>\n",
       "      <td>0</td>\n",
       "      <td>0</td>\n",
       "    </tr>\n",
       "    <tr>\n",
       "      <th>3</th>\n",
       "      <td>08/08/2015</td>\n",
       "      <td>Leicester</td>\n",
       "      <td>Sunderland</td>\n",
       "      <td>2</td>\n",
       "      <td>7.000</td>\n",
       "      <td>3.207</td>\n",
       "      <td>3.742</td>\n",
       "      <td>14</td>\n",
       "      <td>16</td>\n",
       "      <td>0</td>\n",
       "      <td>0</td>\n",
       "    </tr>\n",
       "    <tr>\n",
       "      <th>4</th>\n",
       "      <td>08/08/2015</td>\n",
       "      <td>Man United</td>\n",
       "      <td>Tottenham</td>\n",
       "      <td>2</td>\n",
       "      <td>6.477</td>\n",
       "      <td>3.651</td>\n",
       "      <td>5.318</td>\n",
       "      <td>4</td>\n",
       "      <td>5</td>\n",
       "      <td>0</td>\n",
       "      <td>0</td>\n",
       "    </tr>\n",
       "  </tbody>\n",
       "</table>\n",
       "</div>"
      ],
      "text/plain": [
       "         date    home_team    away_team  home_outcome  avg_odd_home_win  \\\n",
       "0  08/08/2015  Bournemouth  Aston Villa             0             7.024   \n",
       "1  08/08/2015      Chelsea      Swansea             1             6.697   \n",
       "2  08/08/2015      Everton      Watford             1             6.842   \n",
       "3  08/08/2015    Leicester   Sunderland             2             7.000   \n",
       "4  08/08/2015   Man United    Tottenham             2             6.477   \n",
       "\n",
       "   avg_odd_draw  avg_odd_away_win  home_ranking  away_ranking  \\\n",
       "0         3.303             3.748            20            17   \n",
       "1         4.338             8.967             1             8   \n",
       "2         3.514             4.852            11            18   \n",
       "3         3.207             3.742            14            16   \n",
       "4         3.651             5.318             4             5   \n",
       "\n",
       "   last_home_result  last_away_result  \n",
       "0                 0                 0  \n",
       "1                 0                 0  \n",
       "2                 0                 0  \n",
       "3                 0                 0  \n",
       "4                 0                 0  "
      ]
     },
     "execution_count": 20,
     "metadata": {},
     "output_type": "execute_result"
    }
   ],
   "source": [
    "df_label.head()"
   ]
  },
  {
   "cell_type": "markdown",
   "id": "da579092",
   "metadata": {},
   "source": [
    "### currently the data runs from 2014-2019 maybe we could get maybe training data if we split it up based on the season/year"
   ]
  },
  {
   "cell_type": "markdown",
   "id": "b5e1748e",
   "metadata": {},
   "source": [
    "convert our data object to datetime"
   ]
  },
  {
   "cell_type": "code",
   "execution_count": 21,
   "id": "37b8e0d0",
   "metadata": {},
   "outputs": [],
   "source": [
    "df_onehot[\"date\"] = pd.to_datetime(df_onehot[\"date\"], format=\"%d/%m/%Y\")\n",
    "df_label[\"date\"] = pd.to_datetime(df_label[\"date\"], format=\"%d/%m/%Y\")"
   ]
  },
  {
   "cell_type": "markdown",
   "id": "85ef64ab",
   "metadata": {},
   "source": [
    "make season column"
   ]
  },
  {
   "cell_type": "code",
   "execution_count": 22,
   "id": "6eb5b719",
   "metadata": {},
   "outputs": [],
   "source": [
    "def get_season(date):\n",
    "    if date.month >= 8:  # August to December\n",
    "        return f\"{date.year}/{date.year+1}\"\n",
    "    else:                # January to July (off-season rare, but we group them here)\n",
    "        return f\"{date.year-1}/{date.year}\""
   ]
  },
  {
   "cell_type": "code",
   "execution_count": 23,
   "id": "9a3aa773",
   "metadata": {},
   "outputs": [],
   "source": [
    "df_onehot[\"season\"] = df_onehot[\"date\"].apply(get_season)\n",
    "df_label[\"season\"] = df_label[\"date\"].apply(get_season)\n",
    "\n",
    "# Filter to 5 desired seasons\n",
    "target_seasons = [\"2014/2015\", \"2015/2016\", \"2016/2017\", \"2017/2018\", \"2018/2019\", \"2019/2020\"]\n",
    "season_dfs = {\n",
    "    season: df for season, df in df_onehot.groupby(\"season\") if season in target_seasons\n",
    "}\n",
    "\n",
    "target_seasons = [\"2014/2015\", \"2015/2016\", \"2016/2017\", \"2017/2018\", \"2018/2019\", \"2019/2020\"]\n",
    "season_dfs = {\n",
    "    season: df for season, df in df_label.groupby(\"season\") if season in target_seasons\n",
    "}\n",
    "\n"
   ]
  },
  {
   "cell_type": "markdown",
   "id": "a3ee6e83",
   "metadata": {},
   "source": [
    "fix ordering"
   ]
  },
  {
   "cell_type": "code",
   "execution_count": 24,
   "id": "3864545c",
   "metadata": {},
   "outputs": [],
   "source": [
    "df_onehot = df_onehot[\n",
    "    [\n",
    "        \"date\",\n",
    "        \"season\",\n",
    "        \"home_team\",\n",
    "        \"away_team\",\n",
    "        \"home_outcome_D\",\n",
    "        \"home_outcome_L\",\n",
    "        \"home_outcome_W\",\n",
    "        \"avg_odd_home_win\",\n",
    "        \"avg_odd_draw\",\n",
    "        \"avg_odd_away_win\",\n",
    "        \"home_ranking\",\n",
    "        \"away_ranking\",\n",
    "        \"last_home_result\",\n",
    "        \"last_away_result\",\n",
    "    ]\n",
    "]\n",
    "\n",
    "df_label = df_label[\n",
    "    [\n",
    "        \"date\",\n",
    "        \"season\",\n",
    "        \"home_team\",\n",
    "        \"away_team\",\n",
    "        \"home_outcome\",\n",
    "        \"avg_odd_home_win\",\n",
    "        \"avg_odd_draw\",\n",
    "        \"avg_odd_away_win\",\n",
    "        \"home_ranking\",\n",
    "        \"away_ranking\",\n",
    "        \"last_home_result\",\n",
    "        \"last_away_result\",\n",
    "    ]\n",
    "]"
   ]
  },
  {
   "cell_type": "markdown",
   "id": "afdc49e9",
   "metadata": {},
   "source": [
    "another way we maybe could improve our dataset is a adding a new column  based on \"last_home_result\" and \"last_away_result\" to tally up the total win/draw/loss"
   ]
  },
  {
   "cell_type": "code",
   "execution_count": 25,
   "id": "bbc8ee0c",
   "metadata": {},
   "outputs": [],
   "source": [
    "def add_season_result_totals(df):\n",
    "    df = df.sort_values(by=[\"season\", \"date\"]).reset_index(drop=True)\n",
    "\n",
    "    df[\"home_season_wins_so_far\"] = 0\n",
    "    df[\"home_season_draws_so_far\"] = 0\n",
    "    df[\"home_season_losses_so_far\"] = 0\n",
    "    df[\"away_season_wins_so_far\"] = 0\n",
    "    df[\"away_season_draws_so_far\"] = 0\n",
    "    df[\"away_season_losses_so_far\"] = 0\n",
    "\n",
    "    # Drop old versions just in case\n",
    "    df = df.drop(columns=[\n",
    "        \"home_season_wins_so_far\", \"home_season_draws_so_far\", \"home_season_losses_so_far\",\n",
    "        \"away_season_wins_so_far\", \"away_season_draws_so_far\", \"away_season_losses_so_far\"\n",
    "    ], errors=\"ignore\")\n",
    "\n",
    "    # Initialize new columns\n",
    "    df[\"home_season_wins_so_far\"] = 0\n",
    "    df[\"home_season_draws_so_far\"] = 0\n",
    "    df[\"home_season_losses_so_far\"] = 0\n",
    "    df[\"away_season_wins_so_far\"] = 0\n",
    "    df[\"away_season_draws_so_far\"] = 0\n",
    "    df[\"away_season_losses_so_far\"] = 0\n",
    "\n",
    "    season_stats = {}\n",
    "\n",
    "    for idx, row in df.iterrows():\n",
    "        season = row[\"season\"]\n",
    "        home = row[\"home_team\"]\n",
    "        away = row[\"away_team\"]\n",
    "        last_home_result = row[\"last_home_result\"]\n",
    "        last_away_result = row[\"last_away_result\"]\n",
    "\n",
    "        if season not in season_stats:\n",
    "            season_stats[season] = {}\n",
    "\n",
    "        for team in [home, away]:\n",
    "            if team not in season_stats[season]:\n",
    "                season_stats[season][team] = {\"W\": 0, \"D\": 0, \"L\": 0}\n",
    "\n",
    "        # Assign existing totals\n",
    "        df.at[idx, \"home_season_wins_so_far\"] = season_stats[season][home][\"W\"]\n",
    "        df.at[idx, \"home_season_draws_so_far\"] = season_stats[season][home][\"D\"]\n",
    "        df.at[idx, \"home_season_losses_so_far\"] = season_stats[season][home][\"L\"]\n",
    "\n",
    "        df.at[idx, \"away_season_wins_so_far\"] = season_stats[season][away][\"W\"]\n",
    "        df.at[idx, \"away_season_draws_so_far\"] = season_stats[season][away][\"D\"]\n",
    "        df.at[idx, \"away_season_losses_so_far\"] = season_stats[season][away][\"L\"]\n",
    "\n",
    "        # Update based on previous match results\n",
    "        if last_home_result == 1:\n",
    "            season_stats[season][home][\"W\"] += 1\n",
    "        elif last_home_result == 0:\n",
    "            season_stats[season][home][\"D\"] += 1\n",
    "        elif last_home_result == -1:\n",
    "            season_stats[season][home][\"L\"] += 1\n",
    "\n",
    "        if last_away_result == 1:\n",
    "            season_stats[season][away][\"W\"] += 1\n",
    "        elif last_away_result == 0:\n",
    "            season_stats[season][away][\"D\"] += 1\n",
    "        elif last_away_result == -1:\n",
    "            season_stats[season][away][\"L\"] += 1\n",
    "\n",
    "    return df\n"
   ]
  },
  {
   "cell_type": "code",
   "execution_count": 26,
   "id": "de2a4328",
   "metadata": {},
   "outputs": [],
   "source": [
    "df_label = add_season_result_totals(df_label)\n",
    "\n",
    "df_onehot = add_season_result_totals(df_onehot)"
   ]
  },
  {
   "cell_type": "code",
   "execution_count": 27,
   "id": "d44d0fa9",
   "metadata": {},
   "outputs": [],
   "source": [
    "df_onehot.to_csv('../Data/cleaned-premier-onehot.csv', index=False)\n",
    "df_label.to_csv('../Data/cleaned-premier-label.csv', index=False)"
   ]
  }
 ],
 "metadata": {
  "kernelspec": {
   "display_name": "base",
   "language": "python",
   "name": "python3"
  },
  "language_info": {
   "codemirror_mode": {
    "name": "ipython",
    "version": 3
   },
   "file_extension": ".py",
   "mimetype": "text/x-python",
   "name": "python",
   "nbconvert_exporter": "python",
   "pygments_lexer": "ipython3",
   "version": "3.12.7"
  }
 },
 "nbformat": 4,
 "nbformat_minor": 5
}
