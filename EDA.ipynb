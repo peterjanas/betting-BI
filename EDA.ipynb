{
 "cells": [
  {
   "cell_type": "code",
   "execution_count": 3,
   "id": "f1934723",
   "metadata": {},
   "outputs": [],
   "source": [
    "# import\n",
    "import pandas as pd\n",
    "import numpy as np\n",
    "\n",
    "import seaborn as sns\n",
    "import matplotlib.pyplot as plt\n",
    "%matplotlib inline\n",
    "\n",
    "from sklearn.linear_model import LinearRegression\n",
    "import sklearn.metrics as sm\n",
    "from sklearn.metrics import r2_score"
   ]
  },
  {
   "cell_type": "code",
   "execution_count": 19,
   "id": "5c540be7",
   "metadata": {},
   "outputs": [],
   "source": [
    "data = pd.read_csv('data/bets.csv', sep=';')\n",
    "#our dataset uses ; between columns instead of , \n",
    "#so have to change the delimiter"
   ]
  },
  {
   "cell_type": "code",
   "execution_count": 20,
   "id": "0ce4c9d8",
   "metadata": {},
   "outputs": [
    {
     "data": {
      "text/plain": [
       "(100000, 9)"
      ]
     },
     "execution_count": 20,
     "metadata": {},
     "output_type": "execute_result"
    }
   ],
   "source": [
    "data.shape"
   ]
  },
  {
   "cell_type": "code",
   "execution_count": 21,
   "id": "051ba7a8",
   "metadata": {},
   "outputs": [
    {
     "data": {
      "text/plain": [
       "<bound method DataFrame.info of            bet_id  user_id  bet_type       sport  odds  is_win   stake  \\\n",
       "0       bet_00001     3848  multiple  Ice Hockey  9.44   False   13.65   \n",
       "1       bet_00002      153    single    Football  8.79   False  248.45   \n",
       "2       bet_00003     1527    single    Football  1.50    True    3.50   \n",
       "3       bet_00004     3903    single      Tennis  1.55   False  151.45   \n",
       "4       bet_00005     2290    single    Football  1.47    True  319.05   \n",
       "...           ...      ...       ...         ...   ...     ...     ...   \n",
       "99995   bet_99996     2471    single    Football  8.00   False   16.80   \n",
       "99996   bet_99997     2700    single    Football  8.67    True  379.75   \n",
       "99997   bet_99998     3353  multiple      Tennis  2.17   False    9.45   \n",
       "99998   bet_99999     4417  multiple    Football  2.06   False   16.95   \n",
       "99999  bet_100000     3718    single    Football  2.16   False   33.65   \n",
       "\n",
       "          gain      GGR  \n",
       "0         0.00    13.65  \n",
       "1         0.00   248.45  \n",
       "2         5.25    -1.75  \n",
       "3         0.00   151.45  \n",
       "4       469.00  -149.95  \n",
       "...        ...      ...  \n",
       "99995     0.00    16.80  \n",
       "99996  3292.43 -2912.68  \n",
       "99997     0.00     9.45  \n",
       "99998     0.00    16.95  \n",
       "99999     0.00    33.65  \n",
       "\n",
       "[100000 rows x 9 columns]>"
      ]
     },
     "execution_count": 21,
     "metadata": {},
     "output_type": "execute_result"
    }
   ],
   "source": [
    "data.info"
   ]
  }
 ],
 "metadata": {
  "kernelspec": {
   "display_name": "base",
   "language": "python",
   "name": "python3"
  },
  "language_info": {
   "codemirror_mode": {
    "name": "ipython",
    "version": 3
   },
   "file_extension": ".py",
   "mimetype": "text/x-python",
   "name": "python",
   "nbconvert_exporter": "python",
   "pygments_lexer": "ipython3",
   "version": "3.12.7"
  }
 },
 "nbformat": 4,
 "nbformat_minor": 5
}
